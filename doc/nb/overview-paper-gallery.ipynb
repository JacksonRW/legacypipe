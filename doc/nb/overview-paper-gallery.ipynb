{
 "cells": [
  {
   "cell_type": "markdown",
   "metadata": {},
   "source": [
    "# Gallery for the Overview Paper\n",
    "\n",
    "The purpose of this notebook is to build a nice gallery of object images for the overview paper.\n",
    "\n",
    "For future reference: The notebook must be run from https://jupyter-dev.nersc.gov with the following (approximate) activation script:\n",
    "\n",
    "```bash\n",
    "#!/bin/bash                                                                                                           \n",
    "version=$1                                                                                                            \n",
    "connection_file=$2                                                                                                    \n",
    "\n",
    "desiconda_version=20170818-1.1.12-img                                                                                 \n",
    "module use /global/common/${NERSC_HOST}/contrib/desi/desiconda/$desiconda_version/modulefiles                         \n",
    "module load desiconda                                                                                                 \n",
    "\n",
    "export LEGACY_SURVEY_DIR=/global/cscratch1/sd/dstn/dr6plus                                                            \n",
    "export LEGACYPIPE_DIR=$SCRATCH/repos/legacypipe                                                                       \n",
    "\n",
    "export PATH=$LEGACYPIPE_DIR/bin:${PATH}                                                                               \n",
    "export PATH=$SCRATCH//repos/build/bin:$PATH                                                                           \n",
    "export PYTHONPATH=$LEGACYPIPE_DIR/py:${PYTHONPATH}                                                                    \n",
    "export PYTHONPATH=$SCRATCH/repos/build/lib/python3.5/site-packages:$PYTHONPATH                                        \n",
    "\n",
    "module use $LEGACYPIPE_DIR/bin/modulefiles/cori                                                                       \n",
    "module load dust                                                                                                      \n",
    "\n",
    "exec python -m ipykernel -f $connection_file\n",
    "```\n",
    "\n",
    "Some neat objects:\n",
    "* [Bow shock](http://legacysurvey.org/viewer?ra=325.6872&dec=1.0032&zoom=14&layer=decals-dr5)\n",
    "* [Abell 383](http://legacysurvey.org/viewer?ra=42.0141&dec=-3.5291&zoom=15&layer=decals-dr5)\n",
    "* [SDSS/C4-2010 Galaxy Cluster](http://legacysurvey.org/viewer?ra=29.0707&dec=1.0510&zoom=13&layer=decals-dr5)\n",
    "* [NGC2874 Group](http://legacysurvey.org/viewer?ra=141.4373&dec=11.4284&zoom=13&layer=decals-dr5)\n",
    "* [UGC10321 Group](http://legacysurvey.org/viewer?ra=244.5280&dec=21.5591&zoom=14&layer=decals-dr5)\n",
    "* [NGC6742 (PN)](http://legacysurvey.org/viewer/?layer=decals-dr6&ra=284.83291667&dec=48.46527778)"
   ]
  },
  {
   "cell_type": "markdown",
   "metadata": {},
   "source": [
    "### Imports and paths"
   ]
  },
  {
   "cell_type": "code",
   "execution_count": 1,
   "metadata": {},
   "outputs": [],
   "source": [
    "import os, sys\n",
    "import shutil, time, warnings\n",
    "from contextlib import redirect_stdout\n",
    "import numpy as np\n",
    "import numpy.ma as ma\n",
    "import matplotlib.pyplot as plt"
   ]
  },
  {
   "cell_type": "code",
   "execution_count": 2,
   "metadata": {},
   "outputs": [],
   "source": [
    "import astropy.units as u\n",
    "from astropy.coordinates import SkyCoord\n",
    "from astropy.table import Table, Column, vstack\n",
    "from astropy.io import ascii\n",
    "from PIL import Image, ImageDraw, ImageFont\n",
    "#from astrometry.util.starutil_numpy import hmsstring2ra"
   ]
  },
  {
   "cell_type": "code",
   "execution_count": 3,
   "metadata": {},
   "outputs": [],
   "source": [
    "from astrometry.util.util import Tan\n",
    "from astrometry.util.fits import merge_tables\n",
    "from legacypipe.survey import LegacySurveyData\n",
    "from legacypipe.runbrick import run_brick"
   ]
  },
  {
   "cell_type": "code",
   "execution_count": 4,
   "metadata": {},
   "outputs": [],
   "source": [
    "import multiprocessing\n",
    "nproc = multiprocessing.cpu_count() // 2"
   ]
  },
  {
   "cell_type": "code",
   "execution_count": 5,
   "metadata": {},
   "outputs": [],
   "source": [
    "%matplotlib inline"
   ]
  },
  {
   "cell_type": "markdown",
   "metadata": {},
   "source": [
    "### Preliminaries\n",
    "\n",
    "Define the data release and the various output directories."
   ]
  },
  {
   "cell_type": "code",
   "execution_count": 6,
   "metadata": {},
   "outputs": [],
   "source": [
    "PIXSCALE = 0.262\n",
    "dr5_dir = '/global/cscratch1/sd/desiproc/dr5-new'\n",
    "dr6_dir = '/global/cscratch1/sd/dstn/dr6plus'"
   ]
  },
  {
   "cell_type": "code",
   "execution_count": 7,
   "metadata": {},
   "outputs": [],
   "source": [
    "figdir = os.path.join( os.getenv('SCRATCH'), 'overview-paper')\n",
    "figfile = os.path.join(figdir, 'gallery.fits')"
   ]
  },
  {
   "cell_type": "code",
   "execution_count": 8,
   "metadata": {},
   "outputs": [],
   "source": [
    "jpgdir = os.path.join(figdir, 'jpg')\n",
    "if not os.path.isdir(jpgdir):\n",
    "    os.mkdir(jpgdir)"
   ]
  },
  {
   "cell_type": "code",
   "execution_count": 9,
   "metadata": {},
   "outputs": [],
   "source": [
    "pngdir = os.path.join(figdir, 'png')\n",
    "if not os.path.isdir(pngdir):\n",
    "    os.mkdir(pngdir)"
   ]
  },
  {
   "cell_type": "markdown",
   "metadata": {},
   "source": [
    "#### Build a sample with the objects of interest."
   ]
  },
  {
   "cell_type": "code",
   "execution_count": 10,
   "metadata": {},
   "outputs": [],
   "source": [
    "nobj = 3"
   ]
  },
  {
   "cell_type": "code",
   "execution_count": 11,
   "metadata": {},
   "outputs": [],
   "source": [
    "cat = Table()\n",
    "cat.add_column(Column(name='name', length=nobj, dtype='U20'))\n",
    "cat.add_column(Column(name='nicename', length=nobj, dtype='U30'))\n",
    "cat.add_column(Column(name='ra', unit='deg', length=nobj, dtype='f8'))\n",
    "cat.add_column(Column(name='dec', unit='deg', length=nobj, dtype='f8'))\n",
    "cat.add_column(Column(name='diam', unit='arcsec', length=nobj, dtype='f4'))\n",
    "cat.add_column(Column(name='dr', length=nobj, dtype='U2'))"
   ]
  },
  {
   "cell_type": "code",
   "execution_count": 12,
   "metadata": {},
   "outputs": [
    {
     "data": {
      "text/html": [
       "&lt;Table length=3&gt;\n",
       "<table id=\"table47152267097424\" class=\"table-striped table-bordered table-condensed\">\n",
       "<thead><tr><th>name</th><th>nicename</th><th>ra</th><th>dec</th><th>diam</th><th>dr</th></tr></thead>\n",
       "<thead><tr><th>str7</th><th>str24</th><th>float64</th><th>float64</th><th>int64</th><th>str3</th></tr></thead>\n",
       "<tr><td>C4-2010</td><td>C4 Cluster 2010</td><td>29.070641492</td><td>1.050816667</td><td>180</td><td>dr5</td></tr>\n",
       "<tr><td>NGC2874</td><td>NGC2874 Galaxy Group</td><td>141.44215</td><td>11.43696</td><td>120</td><td>dr5</td></tr>\n",
       "<tr><td>NGC6742</td><td>NGC6742 Planetary Nebula</td><td>284.83291667</td><td>48.46527778</td><td>30</td><td>dr6</td></tr>\n",
       "</table>"
      ],
      "text/plain": [
       "<Table length=3>\n",
       "  name          nicename              ra          dec      diam  dr \n",
       "  str7           str24             float64      float64   int64 str3\n",
       "------- ------------------------ ------------ ----------- ----- ----\n",
       "C4-2010          C4 Cluster 2010 29.070641492 1.050816667   180  dr5\n",
       "NGC2874     NGC2874 Galaxy Group    141.44215    11.43696   120  dr5\n",
       "NGC6742 NGC6742 Planetary Nebula 284.83291667 48.46527778    30  dr6"
      ]
     },
     "execution_count": 12,
     "metadata": {},
     "output_type": "execute_result"
    }
   ],
   "source": [
    "cat['name'] = ('C4-2010', 'NGC2874', 'NGC6742')\n",
    "cat['nicename'] = ('C4 Cluster 2010', 'NGC2874 Galaxy Group', 'NGC6742 Planetary Nebula')\n",
    "cat['ra'] = (29.070641492, 141.44215000, 284.83291667)\n",
    "cat['dec'] = (1.050816667, 11.43696000, 48.46527778)\n",
    "cat['diam'] = (180, 120, 30) # arcsec\n",
    "cat['dr'] = ('dr5', 'dr5', 'dr6')\n",
    "cat"
   ]
  },
  {
   "cell_type": "markdown",
   "metadata": {},
   "source": [
    "### Generate (find) the sample of objects in the DR6 footprint."
   ]
  },
  {
   "cell_type": "code",
   "execution_count": 13,
   "metadata": {},
   "outputs": [],
   "source": [
    "def init_survey(dr='dr5'):\n",
    "    survey = ''\n",
    "    try:\n",
    "        del survey\n",
    "    except:\n",
    "        pass\n",
    "    \n",
    "    if dr == 'dr5':\n",
    "        survey = LegacySurveyData(\n",
    "            #survey_dir='/global/cscratch1/sd/dstn/dr5-new-sky',\n",
    "            survey_dir='/global/cscratch1/sd/desiproc/dr7',\n",
    "            #survey_dir='/global/project/projectdirs/cosmo/work/legacysurvey/dr5',\n",
    "            #cache_dir='/global/cscratch1/sd/desiproc/dr5-calib',\n",
    "            #survey_dir='/global/cscratch1/sd/desiproc/dr5-calib',\n",
    "            #cache_dir='/global/cscratch1/sd/desiproc/dr7/calib',\n",
    "            output_dir=figdir)\n",
    "    elif dr == 'dr6':\n",
    "        survey = LegacySurveyData(\n",
    "            survey_dir='/global/cscratch1/sd/dstn/dr6plus',\n",
    "            output_dir=figdir)\n",
    "    print('!!!!!!!!!!!!!!!!!!', survey.survey_dir)\n",
    "        \n",
    "    #survey = LegacySurveyData(cache_dir='/global/cscratch1/sd/desiproc/dr7/calib/decam')\n",
    "    #survey.output_dir = figdir\n",
    "    \n",
    "    return survey"
   ]
  },
  {
   "cell_type": "code",
   "execution_count": 14,
   "metadata": {},
   "outputs": [],
   "source": [
    "def simple_wcs(obj):\n",
    "    \"\"\"Build a simple WCS object for a single object.\"\"\"\n",
    "    size = np.rint(obj['diam'] / PIXSCALE).astype('int') # [pixels]\n",
    "    wcs = Tan(obj['ra'], obj['dec'], size/2+0.5, size/2+0.5,\n",
    "                 -PIXSCALE/3600.0, 0.0, 0.0, PIXSCALE/3600.0, \n",
    "                 float(size), float(size))\n",
    "    return wcs"
   ]
  },
  {
   "cell_type": "code",
   "execution_count": 15,
   "metadata": {},
   "outputs": [],
   "source": [
    "def _build_sample_one(args):\n",
    "    \"\"\"Wrapper function for the multiprocessing.\"\"\"\n",
    "    return build_sample_one(*args)"
   ]
  },
  {
   "cell_type": "code",
   "execution_count": 16,
   "metadata": {},
   "outputs": [],
   "source": [
    "def build_sample_one(obj, verbose=False):\n",
    "    \"\"\"Wrapper function to find overlapping grz CCDs for a given object.\n",
    "    \n",
    "    \"\"\"\n",
    "    print('!!!!', obj['dr'])\n",
    "    survey = init_survey(dr=obj['dr'])\n",
    "    \n",
    "    print('Working on {}...'.format(obj['name']))\n",
    "    wcs = simple_wcs(obj)\n",
    "    try:\n",
    "        ccds = survey.ccds_touching_wcs(wcs) # , ccdrad=2*diam/3600)\n",
    "    except:\n",
    "        return None\n",
    "    \n",
    "    if ccds:\n",
    "        # Is there 3-band coverage?\n",
    "        if 'g' in ccds.filter and 'r' in ccds.filter and 'z' in ccds.filter:\n",
    "            if verbose:\n",
    "                print('For {} found {} CCDs, RA = {:.5f}, Dec = {:.5f}, Diameter={:.4f} arcmin'.format(\n",
    "                        obj['name'], len(ccds), obj['ra'], obj['dec'], obj['diam'] / 60.0))\n",
    "            return obj\n",
    "    return None"
   ]
  },
  {
   "cell_type": "code",
   "execution_count": 17,
   "metadata": {},
   "outputs": [],
   "source": [
    "def build_sample(cat, use_nproc=nproc):\n",
    "    \"\"\"Build the full sample with grz coverage in DR6.\"\"\"\n",
    "\n",
    "    sampleargs = list()\n",
    "    for cc in cat:\n",
    "        sampleargs.append( (cc, True) ) # the False refers to verbose=False\n",
    "\n",
    "    if use_nproc > 1:\n",
    "        p = multiprocessing.Pool(nproc)\n",
    "        result = p.map(_build_sample_one, sampleargs)\n",
    "        p.close()\n",
    "    else:\n",
    "        result = list()\n",
    "        for args in sampleargs:\n",
    "            result.append(_build_sample_one(args))\n",
    "\n",
    "    # Remove non-matching objects and write out the sample\n",
    "    outcat = vstack(list(filter(None, result)))\n",
    "    print('Found {}/{} objects in the DR5+6 footprint.'.format(len(outcat), len(cat)))\n",
    "    \n",
    "    return outcat"
   ]
  },
  {
   "cell_type": "code",
   "execution_count": 18,
   "metadata": {},
   "outputs": [
    {
     "name": "stdout",
     "output_type": "stream",
     "text": [
      "!!!! dr5\n",
      "!!!!!!!!!!!!!!!!!! /global/cscratch1/sd/desiproc/dr7\n",
      "Working on C4-2010...\n",
      "Searching /global/cscratch1/sd/desiproc/dr7/survey-ccds-dr7-uncut.kd.fits\n",
      "2348 CCDs within 1.0 deg of RA,Dec (29.071, 1.051)\n",
      "For C4-2010 found 51 CCDs, RA = 29.07064, Dec = 1.05082, Diameter=3.0000 arcmin\n",
      "!!!! dr5\n",
      "!!!!!!!!!!!!!!!!!! /global/cscratch1/sd/desiproc/dr7\n",
      "Working on NGC2874...\n",
      "Searching /global/cscratch1/sd/desiproc/dr7/survey-ccds-dr7-uncut.kd.fits\n",
      "2022 CCDs within 1.0 deg of RA,Dec (141.442, 11.437)\n",
      "For NGC2874 found 35 CCDs, RA = 141.44215, Dec = 11.43696, Diameter=2.0000 arcmin\n",
      "!!!! dr6\n",
      "!!!!!!!!!!!!!!!!!! /global/cscratch1/sd/dstn/dr6plus\n",
      "Working on NGC6742...\n",
      "Searching /global/cscratch1/sd/dstn/dr6plus/survey-ccds-dr6plus.kd.fits\n",
      "162 CCDs within 1.0 deg of RA,Dec (284.833, 48.465)\n",
      "For NGC6742 found 7 CCDs, RA = 284.83292, Dec = 48.46528, Diameter=0.5000 arcmin\n",
      "Found 3/3 objects in the DR5+6 footprint.\n"
     ]
    }
   ],
   "source": [
    "sample = build_sample(cat, use_nproc=1)"
   ]
  },
  {
   "cell_type": "code",
   "execution_count": 19,
   "metadata": {},
   "outputs": [
    {
     "name": "stdout",
     "output_type": "stream",
     "text": [
      "Writing /global/cscratch1/sd/ioannis/overview-paper/gallery.fits\n"
     ]
    }
   ],
   "source": [
    "print('Writing {}'.format(figfile))\n",
    "sample.write(figfile, overwrite=True)"
   ]
  },
  {
   "cell_type": "code",
   "execution_count": 20,
   "metadata": {},
   "outputs": [
    {
     "data": {
      "text/html": [
       "&lt;Table length=3&gt;\n",
       "<table id=\"table47152267099496\" class=\"table-striped table-bordered table-condensed\">\n",
       "<thead><tr><th>name</th><th>nicename</th><th>ra</th><th>dec</th><th>diam</th><th>dr</th></tr></thead>\n",
       "<thead><tr><th>str28</th><th>str96</th><th>float64</th><th>float64</th><th>int64</th><th>str12</th></tr></thead>\n",
       "<tr><td>C4-2010</td><td>C4 Cluster 2010</td><td>29.070641492</td><td>1.050816667</td><td>180</td><td>dr5</td></tr>\n",
       "<tr><td>NGC2874</td><td>NGC2874 Galaxy Group</td><td>141.44215</td><td>11.43696</td><td>120</td><td>dr5</td></tr>\n",
       "<tr><td>NGC6742</td><td>NGC6742 Planetary Nebula</td><td>284.83291667</td><td>48.46527778</td><td>30</td><td>dr6</td></tr>\n",
       "</table>"
      ],
      "text/plain": [
       "<Table length=3>\n",
       "  name          nicename              ra          dec      diam   dr \n",
       " str28           str96             float64      float64   int64 str12\n",
       "------- ------------------------ ------------ ----------- ----- -----\n",
       "C4-2010          C4 Cluster 2010 29.070641492 1.050816667   180   dr5\n",
       "NGC2874     NGC2874 Galaxy Group    141.44215    11.43696   120   dr5\n",
       "NGC6742 NGC6742 Planetary Nebula 284.83291667 48.46527778    30   dr6"
      ]
     },
     "execution_count": 20,
     "metadata": {},
     "output_type": "execute_result"
    }
   ],
   "source": [
    "sample"
   ]
  },
  {
   "cell_type": "markdown",
   "metadata": {},
   "source": [
    "### Generate the color mosaics for each object."
   ]
  },
  {
   "cell_type": "code",
   "execution_count": 21,
   "metadata": {},
   "outputs": [],
   "source": [
    "def custom_brickname(obj, prefix='custom-'): \n",
    "    brickname = 'custom-{:06d}{}{:05d}'.format(\n",
    "        int(1000*obj['ra']), 'm' if obj['dec'] < 0 else 'p', \n",
    "        int(1000*np.abs(obj['dec'])))\n",
    "    return brickname"
   ]
  },
  {
   "cell_type": "code",
   "execution_count": 22,
   "metadata": {},
   "outputs": [],
   "source": [
    "def make_coadds_one(obj, scale=PIXSCALE, clobber=False):\n",
    "    name = obj['name']\n",
    "    jpgfile = os.path.join(jpgdir, '{}.jpg'.format(name))\n",
    "    if os.path.isfile(jpgfile) and not clobber:\n",
    "        print('File {} exists...skipping.'.format(jpgfile))\n",
    "    else:\n",
    "        diam = obj['diam'] # [arcsec]\n",
    "        \n",
    "        size = np.rint(diam / scale).astype('int') # [pixels]\n",
    "        print('Generating mosaic for {} with width={} pixels.'.format(name, size))\n",
    "        \n",
    "        survey = init_survey(dr=obj['dr'])\n",
    "        with warnings.catch_warnings():\n",
    "            warnings.simplefilter(\"ignore\")\n",
    "            run_brick(None, survey, radec=(obj['ra'], obj['dec']), pixscale=scale, \n",
    "                      width=size, height=size, stages=['image_coadds'], splinesky=True,\n",
    "                      early_coadds=True, pixPsf=True, hybridPsf=True, normalizePsf=True,\n",
    "                      write_pickles=False, depth_cut=False, apodize=True, threads=nproc,\n",
    "                      do_calibs=False, ceres=False)\n",
    "            \n",
    "        sys.stdout.flush()    \n",
    "        brickname = custom_brickname(obj, prefix='custom-')\n",
    "        _jpgfile = os.path.join(survey.output_dir, 'coadd', 'cus', brickname, \n",
    "                               'legacysurvey-{}-image.jpg'.format(brickname))\n",
    "        shutil.copy(_jpgfile, jpgfile)\n",
    "        shutil.rmtree(os.path.join(survey.output_dir, 'coadd'))"
   ]
  },
  {
   "cell_type": "code",
   "execution_count": 23,
   "metadata": {},
   "outputs": [],
   "source": [
    "def make_coadds(sample, clobber=False):\n",
    "    for obj in sample:\n",
    "        make_coadds_one(obj, clobber=clobber)"
   ]
  },
  {
   "cell_type": "code",
   "execution_count": null,
   "metadata": {},
   "outputs": [],
   "source": [
    "#make_coadds_one(sample[0], clobber=True)"
   ]
  },
  {
   "cell_type": "code",
   "execution_count": null,
   "metadata": {},
   "outputs": [
    {
     "name": "stdout",
     "output_type": "stream",
     "text": [
      "Generating the coadds.\n",
      "Logging to /global/cscratch1/sd/ioannis/overview-paper/make-coadds.log\n"
     ]
    }
   ],
   "source": [
    "coaddslogfile = os.path.join(figdir, 'make-coadds.log')\n",
    "print('Generating the coadds.')\n",
    "print('Logging to {}'.format(coaddslogfile))\n",
    "t0 = time.time()\n",
    "with open(coaddslogfile, 'w') as log:\n",
    "    with redirect_stdout(log):\n",
    "        make_coadds(sample, clobber=True)\n",
    "print('Total time = {:.3f} minutes.'.format((time.time() - t0) / 60))"
   ]
  },
  {
   "cell_type": "code",
   "execution_count": null,
   "metadata": {},
   "outputs": [],
   "source": [
    "stop"
   ]
  },
  {
   "cell_type": "markdown",
   "metadata": {},
   "source": [
    "### Add labels and a scale bar."
   ]
  },
  {
   "cell_type": "code",
   "execution_count": null,
   "metadata": {},
   "outputs": [],
   "source": [
    "barlen = np.round(60.0 / PIXSCALE).astype('int')\n",
    "fonttype = os.path.join(gallerydir, 'Georgia.ttf')"
   ]
  },
  {
   "cell_type": "code",
   "execution_count": null,
   "metadata": {},
   "outputs": [],
   "source": [
    "def _add_labels_one(args):\n",
    "    \"\"\"Wrapper function for the multiprocessing.\"\"\"\n",
    "    return add_labels_one(*args)"
   ]
  },
  {
   "cell_type": "code",
   "execution_count": null,
   "metadata": {},
   "outputs": [],
   "source": [
    "def add_labels_one(obj, verbose=False):\n",
    "    name = get_name(obj)\n",
    "    nicename = get_name(obj, nice=True)\n",
    "    \n",
    "    jpgfile = os.path.join(jpgdir, '{}.jpg'.format(name))\n",
    "    pngfile = os.path.join(pngdir, '{}.png'.format(name))\n",
    "    thumbfile = os.path.join(pngdir, 'thumb-{}.png'.format(name))\n",
    "        \n",
    "    im = Image.open(jpgfile)\n",
    "    sz = im.size\n",
    "    fntsize = np.round(sz[0]/28).astype('int')\n",
    "    width = np.round(sz[0]/175).astype('int')\n",
    "    font = ImageFont.truetype(fonttype, size=fntsize)\n",
    "    draw = ImageDraw.Draw(im)\n",
    "    # Label the object name--\n",
    "    draw.text((0+fntsize*2, 0+fntsize*2), nicename, font=font)\n",
    "    # Add a scale bar--\n",
    "    x0, x1, yy = sz[1]-fntsize*2-barlen, sz[1]-fntsize*2, sz[0]-fntsize*2\n",
    "    draw.line((x0, yy, x1, yy), fill='white', width=width)\n",
    "    im.save(pngfile)    \n",
    "        \n",
    "    # Generate a thumbnail\n",
    "    cmd = '/usr/bin/convert -thumbnail 300x300 {} {}'.format(pngfile, thumbfile)\n",
    "    os.system(cmd)"
   ]
  },
  {
   "cell_type": "code",
   "execution_count": null,
   "metadata": {},
   "outputs": [],
   "source": [
    "def add_labels(sample):\n",
    "    labelargs = list()\n",
    "    for obj in sample:\n",
    "        labelargs.append((obj, False))\n",
    "\n",
    "    if nproc > 1:\n",
    "        p = multiprocessing.Pool(nproc)\n",
    "        res = p.map(_add_labels_one, labelargs)\n",
    "        p.close()\n",
    "    else:\n",
    "        for args in labelargs:\n",
    "            res = _add_labels_one(args)"
   ]
  },
  {
   "cell_type": "code",
   "execution_count": null,
   "metadata": {},
   "outputs": [],
   "source": [
    "%time add_labels(sample)"
   ]
  },
  {
   "cell_type": "markdown",
   "metadata": {
    "collapsed": true
   },
   "source": [
    "### Finally, assemble the webpage of good and rejected gallery images.\n",
    "\n",
    "To test the webpage before release, do\n",
    "  * rsync -auvP /global/cscratch1/sd/ioannis/dr6/gallery/png /global/project/projectdirs/cosmo/www/temp/ioannis/dr6/gallery/\n",
    "  * rsync -auvP /global/cscratch1/sd/ioannis/dr6/gallery/*.html /global/project/projectdirs/cosmo/www/temp/ioannis/dr6/gallery/"
   ]
  },
  {
   "cell_type": "code",
   "execution_count": null,
   "metadata": {},
   "outputs": [],
   "source": [
    "def get_type(hubble):\n",
    "    \"\"\"Convert Hubble type to numerical type, for sorting purposes.\"\"\"\n",
    "    numtype = {\n",
    "        'E': 0,\n",
    "        'E-S0': 1,\n",
    "        \n",
    "        'S0': 2,\n",
    "        'S0-a': 3,\n",
    "        \n",
    "        'Sa': 4,\n",
    "        'SBa': 4,\n",
    "        'SABa': 4,\n",
    "\n",
    "        'Sab': 5,\n",
    "        'SBab': 5,\n",
    "        \n",
    "        'Sb': 6,\n",
    "        'SABb': 6,\n",
    "        'SBb': 6,\n",
    "\n",
    "        'Sbc': 7,\n",
    "        \n",
    "        'Sc': 8,\n",
    "        'SABc': 8,\n",
    "        'SBc': 8,\n",
    "        \n",
    "        'Scd': 9,\n",
    "        'SBcd': 9,\n",
    "        \n",
    "        'Sd': 10,\n",
    "        \n",
    "        'Sm': 11,\n",
    "        'SBm': 11,\n",
    "        \n",
    "        'I': 12,\n",
    "        'IAB': 12,\n",
    "        'IB': 12,\n",
    "        \n",
    "        '0': -1\n",
    "    }\n",
    "    return np.array([numtype[hh] for hh in hubble])"
   ]
  },
  {
   "cell_type": "code",
   "execution_count": null,
   "metadata": {},
   "outputs": [],
   "source": [
    "reject = ['ngc3587', 'ngc6832', 'ngc5982', 'ngc2832', 'ngc2340', 'ngc5195',\n",
    "          'ngc5308', 'ngc4346', 'ngc4036', 'ngc2681', 'ngc3718', 'ngc5377',\n",
    "          'ngc2146', 'ngc3126', 'ngc2841', 'ngc2683', 'ngc4217', 'ngc4357',\n",
    "          'ngc5055', 'ngc4100', 'ngc5879', 'ngc5297', 'ngc4605', 'ngc6015',\n",
    "          'ngc4144', 'ngc3733', 'ngc3079', 'ngc3198', 'ngc3430', 'ngc3877',\n",
    "          'ngc4062', 'ngc4631', 'ngc4656_ned01', 'ngc4395']\n",
    "toss = np.zeros(len(sample), dtype=bool)\n",
    "name = get_name(sample)\n",
    "for ii, nn in enumerate(name):\n",
    "    for rej in np.atleast_1d(reject):\n",
    "        toss[ii] = rej in nn.lower()\n",
    "        if toss[ii]:\n",
    "            break\n",
    "print('Rejecting {} objects.'.format(np.sum(toss)))\n",
    "pngkeep = sample[~toss]\n",
    "if np.sum(toss) > 0:\n",
    "    pngrej = sample[toss]\n",
    "else:\n",
    "    pngrej = []"
   ]
  },
  {
   "cell_type": "code",
   "execution_count": null,
   "metadata": {},
   "outputs": [],
   "source": [
    "htmlfile = os.path.join(gallerydir, 'index.html')\n",
    "htmlfile_reject = os.path.join(gallerydir, 'index-reject.html')\n",
    "baseurl = 'http://legacysurvey.org/viewer-dev'"
   ]
  },
  {
   "cell_type": "code",
   "execution_count": null,
   "metadata": {},
   "outputs": [],
   "source": [
    "def html_rows(pngkeep, nperrow=4):\n",
    "    nrow = np.ceil(len(pngkeep) / nperrow).astype('int')\n",
    "    pngsplit = list()\n",
    "    for ii in range(nrow):\n",
    "        i1 = nperrow*ii\n",
    "        i2 = nperrow*(ii+1)\n",
    "        if i2 > len(pngkeep):\n",
    "            i2 = len(pngkeep)\n",
    "        pngsplit.append(pngkeep[i1:i2])\n",
    "    #pngsplit = np.array_split(pngkeep, nrow)\n",
    "    print('Splitting the sample into {} rows with {} mosaics per row.'.format(nrow, nperrow))\n",
    "\n",
    "    html.write('<table class=\"ls-gallery\">\\n')\n",
    "    html.write('<tbody>\\n')\n",
    "    for pngrow in pngsplit:\n",
    "        html.write('<tr>\\n')\n",
    "        for obj in pngrow:\n",
    "            name = get_name(obj)\n",
    "            nicename = get_name(obj, nice=True)\n",
    "            pngfile = os.path.join('png', '{}.png'.format(name))\n",
    "            thumbfile = os.path.join('png', 'thumb-{}.png'.format(name))\n",
    "            img = 'src=\"{}\" alt=\"{}\"'.format(thumbfile, nicename)\n",
    "            #img = 'class=\"ls-gallery\" src=\"{}\" alt=\"{}\"'.format(thumbfile, nicename)\n",
    "            html.write('<td><a href=\"{}\"><img {}></a></td>\\n'.format(pngfile, img))\n",
    "        html.write('</tr>\\n')\n",
    "        html.write('<tr>\\n')\n",
    "        for obj in pngrow:\n",
    "            nicename = get_name(obj, nice=True)\n",
    "            href = '{}/?layer=decals-{}&ra={:.8f}&dec={:.8f}&zoom=12'.format(baseurl, dr, obj['ra'], obj['dec'])\n",
    "            html.write('<td><a href=\"{}\" target=\"_blank\">{}</a></td>\\n'.format(href, nicename))\n",
    "        html.write('</tr>\\n')\n",
    "    html.write('</tbody>\\n')            \n",
    "    html.write('</table>\\n')"
   ]
  },
  {
   "cell_type": "code",
   "execution_count": null,
   "metadata": {},
   "outputs": [],
   "source": [
    "objtype = ma.getdata(pngkeep['type'])\n",
    "hubbletype = get_type(ma.getdata(pngkeep['hubble']))"
   ]
  },
  {
   "cell_type": "code",
   "execution_count": null,
   "metadata": {},
   "outputs": [],
   "source": [
    "with open(htmlfile, 'w') as html:\n",
    "    html.write('<html><head>\\n')\n",
    "    html.write('<style type=\"text/css\">\\n')\n",
    "    html.write('table.ls-gallery {width: 90%;}\\n')\n",
    "    #html.write('img.ls-gallery {display: block;}\\n')\n",
    "    #html.write('td.ls-gallery {width: 100%; height: auto}\\n')\n",
    "    #html.write('td.ls-gallery {width: 100%; word-wrap: break-word;}\\n')\n",
    "    html.write('p.ls-gallery {width: 80%;}\\n')\n",
    "    html.write('</style>\\n')\n",
    "    html.write('</head><body>\\n')\n",
    "    html.write('<h1>DR6 Image Gallery</h1>\\n')\n",
    "    html.write(\"\"\"<p class=\"ls-gallery\">This gallery highlights the exquisite image quality and diversity \n",
    "    of objects observed by the Legacy Survey, including planetary nebulae, globular clusters, and \n",
    "    large, nearby galaxies.  Each thumbnail links to a larger image while the object name below each \n",
    "    thumbnail links to the \n",
    "    <a href=\"http://legacysurvey.org/viewer\">Sky Viewer</a>.  For reference, the horizontal white bar in \n",
    "    the lower-right corner of each image represents one arcminute.</p>\\n\"\"\")\n",
    "    html.write(\"\"\"<p>We gratefully acknowledge the <a href=\"https://github.com/mattiaverga/OpenNGC\" target=\"_blank\">\n",
    "    OpenNGC</a> catalog created by Mattia Verga, which was used to generate this sample.</p>\\n\"\"\")\n",
    "    html.write(\"\"\"<p>For more eye candy, please visit the gallery of galaxy groups highlighted in the \n",
    "    <a href=\"http://portal.nersc.gov/project/cosmo/data/legacysurvey/dr5/gallery/\">DR5 Gallery.</a></p>\\n\"\"\")\n",
    "    \n",
    "    # Split by object type\n",
    "    \n",
    "    html.write('<h2>Planetary Nebulae, Open Clusters, and Globular Clusters</h2>\\n')\n",
    "    these = np.logical_or( np.logical_or(objtype == 'PN', objtype == 'OCl'), objtype == 'GCl' )\n",
    "    srt = np.argsort(objtype[these])[::-1]\n",
    "    html_rows(pngkeep[these][srt])\n",
    "    html.write('<br />\\n')\n",
    "    \n",
    "    html.write('<h2>Spheroidal & Elliptical Galaxies</h2>\\n')\n",
    "    these = (objtype == 'G') * (hubbletype <= 2)\n",
    "    srt = np.argsort(hubbletype[these])\n",
    "    html_rows(pngkeep[these][srt])\n",
    "\n",
    "    html.write('<h2>Early-Type Disk Galaxies</h2>\\n')\n",
    "    these = (objtype == 'G') * (hubbletype >= 3) * (hubbletype <= 6)\n",
    "    srt = np.argsort(hubbletype[these])\n",
    "    html_rows(pngkeep[these][srt])\n",
    "\n",
    "    html.write('<h2>Late-Type Disk Galaxies</h2>\\n')\n",
    "    these = (objtype == 'G') * (hubbletype >= 7) * (hubbletype <= 10)\n",
    "    srt = np.argsort(hubbletype[these])\n",
    "    html_rows(pngkeep[these][srt])\n",
    "    \n",
    "    html.write('<h2>Irregular Galaxies</h2>\\n')\n",
    "    these = (objtype == 'G') * (hubbletype >= 11)\n",
    "    srt = np.argsort(hubbletype[these])\n",
    "    html_rows(pngkeep[these][srt])\n",
    "    \n",
    "    html.write('</body></html>\\n')"
   ]
  },
  {
   "cell_type": "code",
   "execution_count": null,
   "metadata": {},
   "outputs": [],
   "source": [
    "if len(pngrej) > 0:\n",
    "    with open(htmlfile_reject, 'w') as html:\n",
    "        html.write('<html><head>\\n')\n",
    "        html.write('<style type=\"text/css\">\\n')\n",
    "        html.write('img.ls-gallery {display: block;}\\n')\n",
    "        html.write('td.ls-gallery {width: 20%; word-wrap: break-word;}\\n')\n",
    "        html.write('</style>\\n')\n",
    "        html.write('</head><body>\\n')\n",
    "        html.write('<h1>DR6 Image Gallery - Rejected</h1>\\n')\n",
    "        html_rows(pngrej)\n",
    "        html.write('</body></html>\\n')"
   ]
  }
 ],
 "metadata": {
  "anaconda-cloud": {},
  "kernelspec": {
   "display_name": "legacypipe master",
   "language": "python",
   "name": "legacypipe-master"
  },
  "language_info": {
   "codemirror_mode": {
    "name": "ipython",
    "version": 3
   },
   "file_extension": ".py",
   "mimetype": "text/x-python",
   "name": "python",
   "nbconvert_exporter": "python",
   "pygments_lexer": "ipython3",
   "version": "3.5.4"
  }
 },
 "nbformat": 4,
 "nbformat_minor": 2
}
