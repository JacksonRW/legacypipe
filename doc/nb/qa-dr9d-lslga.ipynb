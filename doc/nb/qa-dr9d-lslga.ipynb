{
 "cells": [
  {
   "cell_type": "markdown",
   "metadata": {},
   "source": [
    "# LSLGA/DR9d QA"
   ]
  },
  {
   "cell_type": "code",
   "execution_count": 1,
   "metadata": {},
   "outputs": [],
   "source": [
    "import os, glob\n",
    "import fitsio\n",
    "import numpy as np\n",
    "import matplotlib.pyplot as plt\n",
    "from astropy.table import vstack, Table, hstack"
   ]
  },
  {
   "cell_type": "code",
   "execution_count": 2,
   "metadata": {},
   "outputs": [],
   "source": [
    "import seaborn as sns\n",
    "sns.set(context='talk', style='ticks', font_scale=1.3)\n",
    "%matplotlib inline"
   ]
  },
  {
   "cell_type": "code",
   "execution_count": 3,
   "metadata": {},
   "outputs": [],
   "source": [
    "outdir = '/global/project/projectdirs/desi/users/ioannis/dr9d-lslga'\n",
    "if not os.path.isdir(outdir):\n",
    "    os.makedirs(outdir, exist_ok=True)"
   ]
  },
  {
   "cell_type": "code",
   "execution_count": 4,
   "metadata": {},
   "outputs": [],
   "source": [
    "#drdir = '/global/cscratch1/sd/dstn/dr9d2'\n",
    "drdir = '/global/cscratch1/sd/ziyaoz/'\n",
    "sweepdir = '/global/cscratch1/sd/desimpp/dr9d'"
   ]
  },
  {
   "cell_type": "markdown",
   "metadata": {},
   "source": [
    "#### Read the reference LSLGA."
   ]
  },
  {
   "cell_type": "code",
   "execution_count": 5,
   "metadata": {},
   "outputs": [
    {
     "name": "stdout",
     "output_type": "stream",
     "text": [
      "Read 532707 galaxies from /global/project/projectdirs/cosmo/staging/largegalaxies/v2.0/LSLGA-v2.0.kd.fits\n"
     ]
    }
   ],
   "source": [
    "lslgafile = '/global/project/projectdirs/cosmo/staging/largegalaxies/v2.0/LSLGA-v2.0.kd.fits'\n",
    "#lslgafile = os.getenv('LARGEGALAXIES_CAT')\n",
    "lslga = Table(fitsio.read(lslgafile))\n",
    "print('Read {} galaxies from {}'.format(len(lslga), lslgafile))\n",
    "#lslga"
   ]
  },
  {
   "cell_type": "markdown",
   "metadata": {},
   "source": [
    "#### Get the set of completed bricks."
   ]
  },
  {
   "cell_type": "code",
   "execution_count": 6,
   "metadata": {},
   "outputs": [],
   "source": [
    "#bricks = glob.glob(os.path.join(drdir, 'tractor', '???', '*.fits'))\n",
    "#tractor = vstack([Table(fitsio.read(catfile)) for catfile in bricks])\n",
    "#bricks"
   ]
  },
  {
   "cell_type": "code",
   "execution_count": 7,
   "metadata": {},
   "outputs": [],
   "source": [
    "def match_tractor_lslga(northsouth='south', overwrite=False):\n",
    "    cols = ['RA', 'DEC', 'TYPE', 'BRICKNAME', 'REF_CAT', \n",
    "            'SERSIC', 'SHAPE_R', 'SHAPE_E1', 'SHAPE_E2', \n",
    "            'FLUX_R', 'REF_ID']\n",
    "\n",
    "    outfile = os.path.join(outdir, 'dr9d-lslga-{}.fits'.format(northsouth))\n",
    "    if not os.path.isfile(outfile) or overwrite:\n",
    "        out = []\n",
    "        #catfile = glob.glob(os.path.join(sweepdir, northsouth, 'sweep', 'sweep-*.fits'))\n",
    "        catfile = glob.glob(os.path.join(drdir, 'dr9d-{}'.format(northsouth), 'tractor', '???', 'tractor*.fits'))\n",
    "        if len(catfile) == 0:\n",
    "            print('No catalogs found!')\n",
    "            return\n",
    "        for ii, ff in enumerate(catfile):#[:500]):\n",
    "            if ii % 500 == 0:\n",
    "                print('{} / {}'.format(ii, len(catfile)))\n",
    "            #import pdb ; pdb.set_trace()\n",
    "            cc = fitsio.read(ff, columns=cols, upper=True)\n",
    "            ckeep = np.where(cc['REF_CAT'] == b'L4')[0]\n",
    "            if len(ckeep) > 0:\n",
    "                out.append(Table(cc[ckeep]))\n",
    "        if len(out) == 0:\n",
    "            print('No large galaxies!')\n",
    "            return\n",
    "        out = vstack(out)\n",
    "        \n",
    "        # find and remove duplicates\n",
    "        #uval, cnt = np.unique(out['REF_ID'], return_counts=True)\n",
    "        #dup_refid = uval[cnt > 1]\n",
    "\n",
    "        # now match against the LSLGA\n",
    "        #import pdb ; pdb.set_trace()\n",
    "        match = [np.where(refid == lslga['LSLGA_ID'])[0] for refid in out['REF_ID']]\n",
    "        if len(match) == 0:\n",
    "            print('No matching large galaxies!')\n",
    "            return\n",
    "        match = np.hstack(match)\n",
    "        \n",
    "        lss = lslga[match]\n",
    "        lss.rename_column('RA', 'RA_LSLGA')\n",
    "        lss.rename_column('DEC', 'DEC_LSLGA')\n",
    "        lss.rename_column('TYPE', 'MORPHTYPE')\n",
    "\n",
    "        out = hstack((lss, out))\n",
    "        \n",
    "        print('Writing {}'.format(outfile))\n",
    "        out.write(outfile, overwrite=True)\n",
    "    else:\n",
    "        print('Reading {}'.format(outfile))\n",
    "        out = Table(fitsio.read(outfile))\n",
    "    return out"
   ]
  },
  {
   "cell_type": "code",
   "execution_count": 8,
   "metadata": {},
   "outputs": [
    {
     "name": "stdout",
     "output_type": "stream",
     "text": [
      "0 / 8193\n",
      "500 / 8193\n",
      "1000 / 8193\n",
      "1500 / 8193\n",
      "2000 / 8193\n",
      "2500 / 8193\n",
      "3000 / 8193\n",
      "3500 / 8193\n",
      "4000 / 8193\n",
      "4500 / 8193\n",
      "5000 / 8193\n",
      "5500 / 8193\n",
      "6000 / 8193\n",
      "6500 / 8193\n",
      "7000 / 8193\n",
      "7500 / 8193\n",
      "8000 / 8193\n",
      "No large galaxies!\n",
      "CPU times: user 1min 59s, sys: 1min 31s, total: 3min 31s\n",
      "Wall time: 17min 31s\n"
     ]
    }
   ],
   "source": [
    "%time cat = match_tractor_lslga(northsouth='south')"
   ]
  },
  {
   "cell_type": "code",
   "execution_count": 9,
   "metadata": {},
   "outputs": [
    {
     "name": "stdout",
     "output_type": "stream",
     "text": [
      "0 / 4943\n",
      "500 / 4943\n",
      "1000 / 4943\n",
      "1500 / 4943\n",
      "2000 / 4943\n",
      "2500 / 4943\n",
      "3000 / 4943\n",
      "3500 / 4943\n",
      "4000 / 4943\n",
      "4500 / 4943\n",
      "No large galaxies!\n",
      "CPU times: user 1min 1s, sys: 36.3 s, total: 1min 37s\n",
      "Wall time: 9min 32s\n"
     ]
    }
   ],
   "source": [
    "%time cat = match_tractor_lslga(northsouth='north')"
   ]
  },
  {
   "cell_type": "code",
   "execution_count": 10,
   "metadata": {},
   "outputs": [
    {
     "ename": "NameError",
     "evalue": "name 'stop' is not defined",
     "output_type": "error",
     "traceback": [
      "\u001b[0;31m---------------------------------------------------------------------------\u001b[0m",
      "\u001b[0;31mNameError\u001b[0m                                 Traceback (most recent call last)",
      "\u001b[0;32m<ipython-input-10-4f76a9dad686>\u001b[0m in \u001b[0;36m<module>\u001b[0;34m\u001b[0m\n\u001b[0;32m----> 1\u001b[0;31m \u001b[0mstop\u001b[0m\u001b[0;34m\u001b[0m\u001b[0m\n\u001b[0m",
      "\u001b[0;31mNameError\u001b[0m: name 'stop' is not defined"
     ]
    }
   ],
   "source": [
    "stop"
   ]
  },
  {
   "cell_type": "code",
   "execution_count": null,
   "metadata": {},
   "outputs": [],
   "source": [
    "cat"
   ]
  },
  {
   "cell_type": "code",
   "execution_count": null,
   "metadata": {},
   "outputs": [],
   "source": []
  },
  {
   "cell_type": "code",
   "execution_count": null,
   "metadata": {},
   "outputs": [],
   "source": [
    "ww = tractor['type'] == 'SER'\n",
    "r50, sersicn, rmag = tractor[ww]['shape_r'], tractor[ww]['sersic'], 22.5-2.5*np.log10(tractor[ww]['flux_r'])"
   ]
  },
  {
   "cell_type": "code",
   "execution_count": null,
   "metadata": {},
   "outputs": [],
   "source": [
    "plt.scatter(np.log10(r50), sersicn, s=25)"
   ]
  },
  {
   "cell_type": "code",
   "execution_count": null,
   "metadata": {},
   "outputs": [],
   "source": [
    "plt.scatter(np.log10(r50), rmag, s=25)"
   ]
  },
  {
   "cell_type": "code",
   "execution_count": null,
   "metadata": {},
   "outputs": [],
   "source": [
    "plt.scatter(sersicn, rmag, s=25)"
   ]
  },
  {
   "cell_type": "code",
   "execution_count": null,
   "metadata": {},
   "outputs": [],
   "source": [
    "_ = plt.hist(sersicn, bins=50, range=(0, 1))"
   ]
  },
  {
   "cell_type": "markdown",
   "metadata": {},
   "source": [
    "#### Read the reference LSLGA."
   ]
  },
  {
   "cell_type": "code",
   "execution_count": null,
   "metadata": {},
   "outputs": [],
   "source": [
    "lslgafile = os.getenv('LARGEGALAXIES_CAT')\n",
    "lslga = Table(fitsio.read(lslgafile))\n",
    "print('Read {} galaxies from {}'.format(len(lslga), lslgafile))\n",
    "lslga"
   ]
  },
  {
   "cell_type": "code",
   "execution_count": null,
   "metadata": {},
   "outputs": [],
   "source": [
    "cut = lslga['IN_DESI'] * (lslga['D25'] > 1.5)\n",
    "len(lslga[cut]) * 7 / 14000"
   ]
  },
  {
   "cell_type": "markdown",
   "metadata": {},
   "source": [
    "### Maskbits statistics from the randoms.\n",
    "\n",
    "The randoms are sampled at 5000/deg."
   ]
  },
  {
   "cell_type": "code",
   "execution_count": null,
   "metadata": {},
   "outputs": [],
   "source": [
    "MASKBITS = dict(\n",
    "    NPRIMARY   = 0x1,   # not PRIMARY\n",
    "    BRIGHT     = 0x2,\n",
    "    SATUR_G    = 0x4,\n",
    "    SATUR_R    = 0x8,\n",
    "    SATUR_Z    = 0x10,\n",
    "    ALLMASK_G  = 0x20,\n",
    "    ALLMASK_R  = 0x40,\n",
    "    ALLMASK_Z  = 0x80,\n",
    "    WISEM1     = 0x100, # WISE masked\n",
    "    WISEM2     = 0x200,\n",
    "    BAILOUT    = 0x400, # bailed out of processing\n",
    "    MEDIUM     = 0x800, # medium-bright star\n",
    "    GALAXY     = 0x1000, # LSLGA large galaxy\n",
    "    CLUSTER    = 0x2000, # Cluster catalog source\n",
    ")"
   ]
  },
  {
   "cell_type": "code",
   "execution_count": null,
   "metadata": {},
   "outputs": [],
   "source": [
    "randomfile = os.path.join(outdir, 'randoms-inside-dr8-0.31.0-1.fits')\n",
    "ff = fitsio.FITS(randomfile)\n",
    "nrows = ff[1].get_nrows()\n",
    "nrand = 10000000\n",
    "factor = nrows / nrand / 5000\n",
    "%time rand = ff[1].read(rows=np.arange(nrand))\n",
    "print('Read {}/{} random positions from {}'.format(len(rand), nrows, randomfile))"
   ]
  },
  {
   "cell_type": "code",
   "execution_count": null,
   "metadata": {},
   "outputs": [],
   "source": [
    "print(rand.dtype)"
   ]
  },
  {
   "cell_type": "code",
   "execution_count": null,
   "metadata": {},
   "outputs": [],
   "source": [
    "infoot = (rand['NOBS_G'] > 0) * (rand['NOBS_R'] > 0) * (rand['NOBS_Z'] > 0) * ((rand['MASKBITS'] & MASKBITS['NPRIMARY']) == 0)"
   ]
  },
  {
   "cell_type": "code",
   "execution_count": null,
   "metadata": {},
   "outputs": [],
   "source": [
    "totarea = np.sum(infoot) * factor\n",
    "print('Total area = {:.3f}'.format(totarea))\n",
    "for bit in MASKBITS.keys():\n",
    "    area = np.sum(infoot * ((rand['MASKBITS'] & MASKBITS[bit]) != 0) * factor)\n",
    "    frac = 100 * area / totarea\n",
    "    print('  {}: {:.3f} deg2, {:.3f}%'.format(bit, area, frac))"
   ]
  },
  {
   "cell_type": "markdown",
   "metadata": {},
   "source": [
    "### LSLGA input/output fitting results."
   ]
  },
  {
   "cell_type": "code",
   "execution_count": null,
   "metadata": {},
   "outputs": [],
   "source": [
    "def read_dr8_lslga(region='north', clobber=False):\n",
    "    sweepdir = '/global/project/projectdirs/cosmo/work/legacysurvey/dr8/{}/sweep/8.0/'.format(region)\n",
    "    \n",
    "    outfile = os.path.join(outdir, 'dr8-lslga-{}.fits'.format(region))\n",
    "    if os.path.isfile(outfile) and not clobber:\n",
    "        print('Reading {}'.format(outfile))\n",
    "        out = Table.read(outfile)\n",
    "    else:\n",
    "        out = []\n",
    "        catfile = glob(os.path.join(sweepdir, 'sweep*.fits'))\n",
    "        for ii, ff in enumerate(catfile):\n",
    "            if ii % 50 == 0:\n",
    "                print('{} / {}'.format(ii, len(catfile)))\n",
    "            cc = Table(fitsio.read(ff, columns=['REF_CAT', 'REF_ID', 'RA', 'DEC', 'TYPE', 'FRACDEV',\n",
    "                                                'SHAPEEXP_R', 'SHAPEEXP_E1', 'SHAPEEXP_E2', \n",
    "                                                'SHAPEDEV_R', 'SHAPEDEV_E1', 'SHAPEDEV_E2'], upper=True))\n",
    "            ckeep = np.where(cc['REF_CAT'] == 'L2')[0]\n",
    "            #keep = np.where([rcat.decode('utf-8').strip() == 'L2' for rcat in cc['REF_CAT']])[0]\n",
    "            if len(ckeep) > 0:\n",
    "                cc = cc[ckeep]\n",
    "                cc = cc[np.argsort(cc['REF_ID'])] # sort!\n",
    "                _, uu = np.unique(cc['REF_ID'], return_index=True)\n",
    "                if len(uu) != len(cc):\n",
    "                    print('Duplicate large galaxy in {}'.format(os.path.basename(ff)))\n",
    "                    cc = cc[uu]\n",
    "                lkeep = np.where(np.isin(lslga['LSLGA_ID'], cc['REF_ID']))[0]\n",
    "                if len(lkeep) != len(cc):\n",
    "                    print('Still a problem with duplicates!')\n",
    "                lss = lslga[lkeep]\n",
    "                assert(np.all(lss['LSLGA_ID'] == cc['REF_ID']))\n",
    "                lss.rename_column('RA', 'RA_LSLGA')\n",
    "                lss.rename_column('DEC', 'DEC_LSLGA')\n",
    "                lss.rename_column('TYPE', 'MORPHTYPE')\n",
    "                out.append(hstack((lss, cc)))\n",
    "                #import pdb ; pdb.set_trace()\n",
    "        out = vstack(out)\n",
    "        out.write(outfile, overwrite=True)\n",
    "    return out"
   ]
  },
  {
   "cell_type": "code",
   "execution_count": null,
   "metadata": {},
   "outputs": [],
   "source": [
    "%time north = read_dr8_lslga(region='north', clobber=False)\n",
    "%time south = read_dr8_lslga(region='south', clobber=False)"
   ]
  },
  {
   "cell_type": "code",
   "execution_count": null,
   "metadata": {},
   "outputs": [],
   "source": [
    "cat = vstack((north, south))\n",
    "print('Read {} large galaxies.'.format(len(cat)))\n",
    "cat[:5]"
   ]
  },
  {
   "cell_type": "code",
   "execution_count": null,
   "metadata": {},
   "outputs": [],
   "source": [
    "def qa_radec(png=None):\n",
    "    dra, ddec = (cat['RA'] - cat['RA_LSLGA']).data * 3600, (cat['DEC'] - cat['DEC_LSLGA']).data * 3600\n",
    "    print(np.median(dra), np.std(dra), np.median(ddec), np.std(ddec))\n",
    "    fig, ax = plt.subplots(figsize=(8, 6))\n",
    "    ax.scatter(dra, ddec, s=50)\n",
    "    ax.set_xlim(-40, 40)\n",
    "    ax.set_ylim(-40, 40)\n",
    "    ax.axhline(y=0, ls='-', alpha=0.8, color='k')\n",
    "    ax.axvline(x=0, ls='-', alpha=0.8, color='k')\n",
    "    ax.set_xlabel(r'$\\Delta\\,$(RA) (arcsec)')\n",
    "    ax.set_ylabel(r'$\\Delta\\,$(Dec) (arcsec)')\n",
    "    plt.subplots_adjust(bottom=0.15, left=0.15)\n",
    "    if png:\n",
    "        pngfile = os.path.join(outdir, png)\n",
    "        print('Writing {}'.format(pngfile))\n",
    "        fig.savefig(pngfile)"
   ]
  },
  {
   "cell_type": "code",
   "execution_count": null,
   "metadata": {},
   "outputs": [],
   "source": [
    "qa_radec(png='qa-radec.png')"
   ]
  },
  {
   "cell_type": "code",
   "execution_count": null,
   "metadata": {},
   "outputs": [],
   "source": [
    "def get_e1e2(ba, phi):\n",
    "    ab = 1. / ba\n",
    "    e = (ab - 1) / (ab + 1)\n",
    "    ee = -np.log(1 - e)\n",
    "    angle = np.deg2rad(2. * (-phi))\n",
    "    ee1 = ee * np.cos(angle)\n",
    "    ee2 = ee * np.sin(angle)\n",
    "    return ee1, ee2\n",
    "        \n",
    "def type2properties(cat, objtype):\n",
    "    this = np.where([objtype == tt.strip() for tt in cat['TYPE']])[0]\n",
    "    if objtype == 'EXP' or objtype == 'REX':\n",
    "        reff, e1, e2 = cat['SHAPEEXP_R'][this], cat['SHAPEEXP_E1'][this], cat['SHAPEEXP_E2'][this]\n",
    "    elif objtype == 'DEV':\n",
    "        reff, e1, e2 = cat['SHAPEDEV_R'][this], cat['SHAPEDEV_E1'][this], cat['SHAPEDEV_E2'][this]\n",
    "        \n",
    "    lslga_rad = cat['D25'][this] / 2 * 60 / 2 # [arcmin]\n",
    "    lslga_e1, lslga_e2 = get_e1e2(cat['BA'][this], 180-cat['PA'][this])\n",
    "        \n",
    "    return reff, e1, e2, lslga_rad, lslga_e1, lslga_e2, cat[this]"
   ]
  },
  {
   "cell_type": "code",
   "execution_count": null,
   "metadata": {},
   "outputs": [],
   "source": [
    "def qa_morph(png=None):\n",
    "    fig, ax = plt.subplots(1, 3, figsize=(18, 5))\n",
    "    #for objtype in ('COMP', 'DEV', 'EXP', 'PSF', 'REX'):\n",
    "    for objtype, marker in zip(('DEV', 'EXP', 'REX'), ('s', 'o', '*')):\n",
    "        reff, e1, e2, lslga_rad, lslga_e1, lslga_e2, _ = type2properties(cat, objtype)\n",
    "        ax[0].scatter(reff, lslga_rad, label=objtype, s=20, alpha=0.7, marker=marker)\n",
    "        if objtype != 'REX':\n",
    "            ax[1].scatter(e1, lslga_e1, s=20, alpha=0.7, marker=marker)\n",
    "            ax[2].scatter(e2, lslga_e2, s=20, alpha=0.7, marker=marker)\n",
    "    ax[0].set_xlim(0, 40)\n",
    "    ax[0].set_ylim(0, 40)\n",
    "    ax[0].axhline(y=5, color='k')\n",
    "    ax[0].set_xlabel(r'r$_{eff}$ (Tractor, arcsec)')\n",
    "    ax[0].set_ylabel(r'0.5 * R(25) (LSLGA, arcsec)')\n",
    "    ax[1].set_xlabel(r'e$_1$ (Tractor)')\n",
    "    ax[1].set_ylabel(r'e$_1$ (LSLGA)')\n",
    "    ax[2].set_xlabel(r'e$_2$ (Tractor)')\n",
    "    ax[2].set_ylabel(r'e$_2$ (LSLGA)')\n",
    "    for xx in ax[1:]:\n",
    "        xx.set_xlim(-1, 1)\n",
    "        xx.set_ylim(-1, 1)\n",
    "    leg = ax[0].legend(loc='upper left', frameon=True, fontsize=16, markerscale=2)\n",
    "    for l in leg.get_lines():\n",
    "        l.set_alpha(1)\n",
    "    for xx in ax:\n",
    "        xx.plot(xx.get_xlim(), xx.get_ylim(), color='k', ls='--')\n",
    "    plt.subplots_adjust(wspace=0.35, bottom=0.2)\n",
    "    if png:\n",
    "        pngfile = os.path.join(outdir, png)\n",
    "        print('Writing {}'.format(pngfile))\n",
    "        fig.savefig(pngfile)    "
   ]
  },
  {
   "cell_type": "code",
   "execution_count": null,
   "metadata": {},
   "outputs": [],
   "source": [
    "qa_morph(png='qa-lslga-morph.png')"
   ]
  },
  {
   "cell_type": "code",
   "execution_count": null,
   "metadata": {},
   "outputs": [],
   "source": [
    "def qa_maskbits(png=None):\n",
    "    from astropy.io import fits\n",
    "    from astropy.visualization import AsinhStretch as Stretch\n",
    "    from astropy.visualization import ImageNormalize\n",
    "    from astropy.visualization import ZScaleInterval as Interval\n",
    "    from astrometry.util.util import Tan\n",
    "     \n",
    "    brick = '1940p412'\n",
    "    imgfile = os.path.join(outdir, 'legacysurvey-{}-image-r.fits.fz'.format(brick))\n",
    "    img = fitsio.read(imgfile)\n",
    "    msk = fitsio.read(os.path.join(outdir, 'legacysurvey-{}-maskbits.fits.fz'.format(brick)))\n",
    "    hdr = fits.getheader(imgfile, ext=1)\n",
    "    wcs = Tan(hdr['CRVAL1'], hdr['CRVAL2'], hdr['CRPIX1'], hdr['CRPIX2'], hdr['CD1_1'], \n",
    "              hdr['CD1_2'], hdr['CD2_1'], hdr['CD2_2'], hdr['NAXIS1'], hdr['NAXIS2'])\n",
    "        \n",
    "    cmap = plt.cm.viridis\n",
    "    stretch = Stretch(a=0.9)\n",
    "    interval = Interval(contrast=0.5, nsamples=10000)\n",
    "    norm = ImageNormalize(img, interval=interval, stretch=stretch)\n",
    "       \n",
    "    inchperax = 4\n",
    "    fig, ax = plt.subplots(1, 3, sharex=True, sharey=True, figsize=(inchperax*3, 3))\n",
    "    ax[0].imshow(img, origin='lower', norm=norm, cmap=cmap, interpolation='none')\n",
    "    ax[1].imshow((msk & 2**12) != 0, origin='lower', interpolation='none')\n",
    "    ax[2].imshow((msk & 2**1) != 0, origin='lower', interpolation='none')\n",
    "    for xx in ax:\n",
    "        xx.get_xaxis().set_visible(False)\n",
    "        xx.get_yaxis().set_visible(False)\n",
    "        xx.set_aspect('equal')\n",
    "        xx.axis('off')\n",
    "        xx.autoscale(False)\n",
    "    fig.subplots_adjust(wspace=0)\n",
    "    plt.tight_layout(w_pad=0)\n",
    "    \n",
    "    if png:\n",
    "        pngfile = os.path.join(outdir, png)\n",
    "        print('Writing {}'.format(pngfile))\n",
    "        fig.savefig(pngfile, bbox_inches='tight')#, pad_inches=0)"
   ]
  },
  {
   "cell_type": "code",
   "execution_count": null,
   "metadata": {},
   "outputs": [],
   "source": [
    "def qa_PGC3087924(png=None):\n",
    "    from astropy.io import fits\n",
    "    from astropy.visualization import AsinhStretch as Stretch\n",
    "    from astropy.visualization import ImageNormalize\n",
    "    from astropy.visualization import ZScaleInterval as Interval\n",
    "    from astrometry.util.util import Tan\n",
    "     \n",
    "    brick = '1940p412'\n",
    "    imgfile = os.path.join(outdir, 'legacysurvey-{}-image-r.fits.fz'.format(brick))\n",
    "    img = fitsio.read(imgfile)\n",
    "    msk = fitsio.read(os.path.join(outdir, 'legacysurvey-{}-maskbits.fits.fz'.format(brick)))\n",
    "    hdr = fits.getheader(imgfile, ext=1)\n",
    "    wcs = Tan(hdr['CRVAL1'], hdr['CRVAL2'], hdr['CRPIX1'], hdr['CRPIX2'], hdr['CD1_1'], \n",
    "              hdr['CD1_2'], hdr['CD2_1'], hdr['CD2_2'], hdr['NAXIS1'], hdr['NAXIS2'])\n",
    "    \n",
    "    cmap = plt.cm.viridis\n",
    "    stretch = Stretch(a=0.9)\n",
    "    interval = Interval(contrast=0.5, nsamples=10000)\n",
    "    norm = ImageNormalize(img, interval=interval, stretch=stretch)\n",
    "       \n",
    "    rad = 250\n",
    "    _, x0, y0 = wcs.radec2pixelxy(194.0090, 41.2926)\n",
    "    x0, y0 = np.int(x0), np.int(y0)\n",
    "    imgcut = img[y0-rad:y0+rad, x0-rad:x0+rad]\n",
    "    mskcut = msk[y0-rad:y0+rad, x0-rad:x0+rad]\n",
    "    \n",
    "    fig, ax = plt.subplots()\n",
    "    #ax.imshow(imgcut, origin='lower', norm=norm, cmap=cmap, interpolation='none')\n",
    "    ax.imshow(mskcut, origin='lower')\n",
    "    ax.get_xaxis().set_visible(False)\n",
    "    ax.get_yaxis().set_visible(False)\n",
    "    ax.set_aspect('equal')\n",
    "    ax.axis('off')\n",
    "    ax.autoscale(False)\n",
    "    fig.subplots_adjust(wspace=0)\n",
    "    plt.tight_layout(w_pad=0)\n",
    "    \n",
    "    if png:\n",
    "        pngfile = os.path.join(outdir, png)\n",
    "        print('Writing {}'.format(pngfile))\n",
    "        fig.savefig(pngfile, bbox_inches='tight', pad_inches=0)"
   ]
  },
  {
   "cell_type": "code",
   "execution_count": null,
   "metadata": {},
   "outputs": [],
   "source": [
    "qa_PGC3087924(png='PGC3087924-maskbits.jpg')"
   ]
  },
  {
   "cell_type": "code",
   "execution_count": null,
   "metadata": {},
   "outputs": [],
   "source": [
    "qa_maskbits(png='qa-maskbits.png')"
   ]
  },
  {
   "cell_type": "code",
   "execution_count": null,
   "metadata": {},
   "outputs": [],
   "source": [
    "stop"
   ]
  },
  {
   "cell_type": "code",
   "execution_count": null,
   "metadata": {},
   "outputs": [],
   "source": [
    "reff, e1, e2, lslga_rad, lslga_e1, lslga_e2, devcat = type2properties(cat, 'DEV')\n",
    "big = np.where(reff > 25)[0]\n",
    "for cc in devcat[big][:20]:\n",
    "    size = np.round(cc['D25'] * 1.5 * 60 / 0.262).astype(int)\n",
    "    montagefile = 'montage/{}.jpg'.format(cc['GALAXY'].lower())\n",
    "    jpgfile = []\n",
    "    #print('http://legacysurvey.org/viewer-dev?ra={}&dec={}&zoom=14&layer=dr8b-decam&lslga'.format(cc['RA'], cc['DEC']))\n",
    "    for ii, imtype in enumerate(('', '-model', '-resid')):\n",
    "        jpgfile.append('jpg/{}{}.jpg'.format(cc['GALAXY'].lower(), imtype))\n",
    "        url = '\"http://legacysurvey.org/viewer-dev/jpeg-cutout?ra={}&dec={}&size={}&layer=dr8b-decam{}\"'.format(\n",
    "            cc['RA'], cc['DEC'], size, imtype)\n",
    "        if not os.path.exists(jpgfile[ii]):\n",
    "            cmd = 'wget --continue -O {} {}'.format(jpgfile[ii], url)\n",
    "            print(cmd)\n",
    "            os.system(cmd)\n",
    "            time.sleep(1)\n",
    "    cmd = 'montage -bordercolor white -borderwidth 1 -tile 3x1 -geometry +0+0 '\n",
    "    cmd = cmd+' '.join(ff for ff in jpgfile)\n",
    "    cmd = cmd+' {}'.format(montagefile)\n",
    "    print(cmd)\n",
    "    os.system(cmd)    "
   ]
  },
  {
   "cell_type": "code",
   "execution_count": null,
   "metadata": {},
   "outputs": [],
   "source": []
  }
 ],
 "metadata": {
  "kernelspec": {
   "display_name": "legacypipe master",
   "language": "python",
   "name": "legacypipe-master"
  },
  "language_info": {
   "codemirror_mode": {
    "name": "ipython",
    "version": 3
   },
   "file_extension": ".py",
   "mimetype": "text/x-python",
   "name": "python",
   "nbconvert_exporter": "python",
   "pygments_lexer": "ipython3",
   "version": "3.6.6"
  }
 },
 "nbformat": 4,
 "nbformat_minor": 4
}
