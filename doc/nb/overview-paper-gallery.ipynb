{
 "cells": [
  {
   "cell_type": "markdown",
   "metadata": {},
   "source": [
    "# Gallery for the Overview Paper\n",
    "\n",
    "The purpose of this notebook is to build a nice gallery of object images for the overview paper.\n",
    "\n",
    "For future reference: The notebook must be run from https://jupyter-dev.nersc.gov with the following (approximate) activation script:\n",
    "\n",
    "```bash\n",
    "#!/bin/bash                                                                                                           \n",
    "version=$1                                                                                                            \n",
    "connection_file=$2                                                                                                    \n",
    "\n",
    "desiconda_version=20170818-1.1.12-img                                                                                 \n",
    "module use /global/common/${NERSC_HOST}/contrib/desi/desiconda/$desiconda_version/modulefiles                         \n",
    "module load desiconda                                                                                                 \n",
    "\n",
    "export LEGACY_SURVEY_DIR=/global/cscratch1/sd/dstn/dr6plus                                                            \n",
    "export LEGACYPIPE_DIR=$SCRATCH/repos/legacypipe                                                                       \n",
    "\n",
    "export PATH=$LEGACYPIPE_DIR/bin:${PATH}                                                                               \n",
    "export PATH=$SCRATCH//repos/build/bin:$PATH                                                                           \n",
    "export PYTHONPATH=$LEGACYPIPE_DIR/py:${PYTHONPATH}                                                                    \n",
    "export PYTHONPATH=$SCRATCH/repos/build/lib/python3.5/site-packages:$PYTHONPATH                                        \n",
    "\n",
    "module use $LEGACYPIPE_DIR/bin/modulefiles/cori                                                                       \n",
    "module load dust                                                                                                      \n",
    "\n",
    "exec python -m ipykernel -f $connection_file\n",
    "```\n",
    "\n",
    "Some neat objects:\n",
    "* [Bow shock](http://legacysurvey.org/viewer?ra=325.6872&dec=1.0032&zoom=14&layer=decals-dr5)\n",
    "* [Abell 383](http://legacysurvey.org/viewer?ra=42.0141&dec=-3.5291&zoom=15&layer=decals-dr5)\n",
    "* [SDSS/C4-2010 Galaxy Cluster](http://legacysurvey.org/viewer?ra=29.0707&dec=1.0510&zoom=13&layer=decals-dr5)\n",
    "* [NGC2874 Group](http://legacysurvey.org/viewer?ra=141.4373&dec=11.4284&zoom=13&layer=decals-dr5)\n",
    "* [UGC10321 Group](http://legacysurvey.org/viewer?ra=244.5280&dec=21.5591&zoom=14&layer=decals-dr5)\n",
    "* [NGC6742 (PN)](http://legacysurvey.org/viewer/?layer=decals-dr6&ra=284.83291667&dec=48.46527778)"
   ]
  },
  {
   "cell_type": "markdown",
   "metadata": {},
   "source": [
    "### Imports and paths"
   ]
  },
  {
   "cell_type": "code",
   "execution_count": 1,
   "metadata": {},
   "outputs": [],
   "source": [
    "import os, sys\n",
    "import shutil, time, warnings\n",
    "from contextlib import redirect_stdout\n",
    "import numpy as np\n",
    "import numpy.ma as ma\n",
    "import matplotlib.pyplot as plt"
   ]
  },
  {
   "cell_type": "code",
   "execution_count": 2,
   "metadata": {},
   "outputs": [],
   "source": [
    "import astropy.units as u\n",
    "from astropy.coordinates import SkyCoord\n",
    "from astropy.table import Table, Column, vstack\n",
    "from astropy.io import ascii\n",
    "from PIL import Image, ImageDraw, ImageFont\n",
    "#from astrometry.util.starutil_numpy import hmsstring2ra"
   ]
  },
  {
   "cell_type": "code",
   "execution_count": 3,
   "metadata": {},
   "outputs": [],
   "source": [
    "from astrometry.util.util import Tan\n",
    "from astrometry.util.fits import merge_tables\n",
    "from legacypipe.survey import LegacySurveyData\n",
    "from legacypipe.runbrick import run_brick"
   ]
  },
  {
   "cell_type": "code",
   "execution_count": 4,
   "metadata": {},
   "outputs": [],
   "source": [
    "import multiprocessing\n",
    "nproc = multiprocessing.cpu_count() // 2"
   ]
  },
  {
   "cell_type": "code",
   "execution_count": 5,
   "metadata": {},
   "outputs": [],
   "source": [
    "%matplotlib inline"
   ]
  },
  {
   "cell_type": "markdown",
   "metadata": {},
   "source": [
    "### Preliminaries\n",
    "\n",
    "Define the data release and the various output directories."
   ]
  },
  {
   "cell_type": "code",
   "execution_count": 6,
   "metadata": {},
   "outputs": [],
   "source": [
    "PIXSCALE = 0.262\n",
    "dr5_dir = '/global/cscratch1/sd/desiproc/dr5-new'\n",
    "dr6_dir = '/global/cscratch1/sd/dstn/dr6plus'"
   ]
  },
  {
   "cell_type": "code",
   "execution_count": 7,
   "metadata": {},
   "outputs": [],
   "source": [
    "figdir = os.path.join( os.getenv('SCRATCH'), 'overview-paper')\n",
    "figfile = os.path.join(figdir, 'gallery.fits')"
   ]
  },
  {
   "cell_type": "code",
   "execution_count": 8,
   "metadata": {},
   "outputs": [],
   "source": [
    "jpgdir = os.path.join(figdir, 'jpg')\n",
    "if not os.path.isdir(jpgdir):\n",
    "    os.mkdir(jpgdir)"
   ]
  },
  {
   "cell_type": "code",
   "execution_count": 9,
   "metadata": {},
   "outputs": [],
   "source": [
    "pngdir = os.path.join(figdir, 'png')\n",
    "if not os.path.isdir(pngdir):\n",
    "    os.mkdir(pngdir)"
   ]
  },
  {
   "cell_type": "markdown",
   "metadata": {},
   "source": [
    "#### Build a sample with the objects of interest."
   ]
  },
  {
   "cell_type": "code",
   "execution_count": 10,
   "metadata": {},
   "outputs": [
    {
     "data": {
      "text/html": [
       "&lt;Table length=7&gt;\n",
       "<table id=\"table48000824077336\" class=\"table-striped table-bordered table-condensed\">\n",
       "<thead><tr><th>name</th><th>nicename</th><th>viewer</th><th>dr</th><th>ra</th><th>dec</th><th>diam</th></tr></thead>\n",
       "<thead><tr><th>str9</th><th>str24</th><th>str88</th><th>str3</th><th>float64</th><th>float64</th><th>float32</th></tr></thead>\n",
       "<tr><td>M92</td><td>Messier 92</td><td>http://legacysurvey.org/viewer/?layer=decals-dr6&amp;ra=259.28029167&amp;dec=43.13652778&amp;zoom=12</td><td>dr6</td><td>259.28029167</td><td>43.13652778</td><td>10.0</td></tr>\n",
       "<tr><td>UGC10321</td><td>UGC10321 Group</td><td>http://legacysurvey.org/viewer?ra=244.5280&amp;dec=21.5591&amp;zoom=14&amp;layer=decals-dr5</td><td>dr5</td><td>244.528</td><td>21.5591</td><td>6.0</td></tr>\n",
       "<tr><td>Abell383</td><td>Abell 383</td><td>http://legacysurvey.org/viewer?ra=42.0141&amp;dec=-3.5291&amp;zoom=15&amp;layer=decals-dr5</td><td>dr5</td><td>42.0141</td><td>-3.5291</td><td>6.0</td></tr>\n",
       "<tr><td>Bow-Shock</td><td>Bow Shock</td><td>http://legacysurvey.org/viewer?ra=325.6872&amp;dec=1.0032&amp;zoom=14&amp;layer=decals-dr5</td><td>dr5</td><td>325.6872</td><td>1.0032</td><td>8.0</td></tr>\n",
       "<tr><td>C4-2010</td><td>C4 Cluster 2010</td><td>http://legacysurvey.org/viewer?ra=29.0707&amp;dec=1.0510&amp;zoom=13&amp;layer=decals-dr5</td><td>dr5</td><td>29.070641492</td><td>1.050816667</td><td>5.0</td></tr>\n",
       "<tr><td>NGC2874</td><td>NGC2874 Galaxy Group</td><td>http://legacysurvey.org/viewer?ra=141.4373&amp;dec=11.4284&amp;zoom=13&amp;layer=decals-dr5</td><td>dr5</td><td>141.44215</td><td>11.43696</td><td>6.0</td></tr>\n",
       "<tr><td>NGC6742</td><td>NGC6742 Planetary Nebula</td><td>http://legacysurvey.org/viewer/?layer=decals-dr6&amp;ra=284.83291667&amp;dec=48.46527778</td><td>dr6</td><td>284.83291667</td><td>48.46527778</td><td>2.0</td></tr>\n",
       "</table>"
      ],
      "text/plain": [
       "<Table length=7>\n",
       "   name           nicename         ...     dec       diam \n",
       "   str9            str24           ...   float64   float32\n",
       "--------- ------------------------ ... ----------- -------\n",
       "      M92               Messier 92 ... 43.13652778    10.0\n",
       " UGC10321           UGC10321 Group ...     21.5591     6.0\n",
       " Abell383                Abell 383 ...     -3.5291     6.0\n",
       "Bow-Shock                Bow Shock ...      1.0032     8.0\n",
       "  C4-2010          C4 Cluster 2010 ... 1.050816667     5.0\n",
       "  NGC2874     NGC2874 Galaxy Group ...    11.43696     6.0\n",
       "  NGC6742 NGC6742 Planetary Nebula ... 48.46527778     2.0"
      ]
     },
     "execution_count": 10,
     "metadata": {},
     "output_type": "execute_result"
    }
   ],
   "source": [
    "cat = Table()\n",
    "cat['name'] = (\n",
    "    'M92', \n",
    "    'UGC10321', \n",
    "    'Abell383', \n",
    "    'Bow-Shock', \n",
    "    'C4-2010', \n",
    "    'NGC2874', \n",
    "    'NGC6742'\n",
    ")\n",
    "cat['nicename'] = (\n",
    "    'Messier 92', \n",
    "    'UGC10321 Group', \n",
    "    'Abell 383', \n",
    "    'Bow Shock', \n",
    "    'C4 Cluster 2010', \n",
    "    'NGC2874 Galaxy Group', \n",
    "    'NGC6742 Planetary Nebula'\n",
    ")\n",
    "cat['viewer'] = (\n",
    "    'http://legacysurvey.org/viewer/?layer=decals-dr6&ra=259.28029167&dec=43.13652778&zoom=12',\n",
    "    'http://legacysurvey.org/viewer?ra=244.5280&dec=21.5591&zoom=14&layer=decals-dr5',\n",
    "    'http://legacysurvey.org/viewer?ra=42.0141&dec=-3.5291&zoom=15&layer=decals-dr5',\n",
    "    'http://legacysurvey.org/viewer?ra=325.6872&dec=1.0032&zoom=14&layer=decals-dr5',\n",
    "    'http://legacysurvey.org/viewer?ra=29.0707&dec=1.0510&zoom=13&layer=decals-dr5',\n",
    "    'http://legacysurvey.org/viewer?ra=141.4373&dec=11.4284&zoom=13&layer=decals-dr5',\n",
    "    'http://legacysurvey.org/viewer/?layer=decals-dr6&ra=284.83291667&dec=48.46527778',\n",
    ")    \n",
    "cat['dr'] = (\n",
    "    'dr6', \n",
    "    'dr5', \n",
    "    'dr5', \n",
    "    'dr5', # Bow shock\n",
    "    'dr5', # C4 cluster\n",
    "    'dr5', \n",
    "    'dr6'\n",
    ")\n",
    "cat['ra'] = (\n",
    "    259.28029167, \n",
    "    244.5280, \n",
    "    42.0141, \n",
    "    325.6872, \n",
    "    29.070641492, \n",
    "    141.44215000, \n",
    "    284.83291667\n",
    ")\n",
    "cat['dec'] = (\n",
    "    43.13652778, \n",
    "    21.5591, \n",
    "    -3.5291, \n",
    "    1.0032, \n",
    "    1.050816667, \n",
    "    11.43696000, \n",
    "    48.46527778\n",
    ")\n",
    "cat['diam'] = np.array([\n",
    "    10, \n",
    "    6, \n",
    "    6, \n",
    "    8, \n",
    "    5, \n",
    "    6, \n",
    "    2\n",
    "]).astype('f4') # [arcmin]\n",
    "cat"
   ]
  },
  {
   "cell_type": "markdown",
   "metadata": {},
   "source": [
    "### Generate (find) the sample of objects in the DR6 footprint."
   ]
  },
  {
   "cell_type": "code",
   "execution_count": 11,
   "metadata": {},
   "outputs": [],
   "source": [
    "def init_survey(dr='dr5'):\n",
    "    survey = ''\n",
    "    try:\n",
    "        del survey\n",
    "    except:\n",
    "        pass\n",
    "    \n",
    "    if dr == 'dr5':\n",
    "        survey = LegacySurveyData(\n",
    "            #survey_dir='/global/cscratch1/sd/dstn/dr5-new-sky',\n",
    "            survey_dir='/global/cscratch1/sd/desiproc/dr7',\n",
    "            #survey_dir='/global/project/projectdirs/cosmo/work/legacysurvey/dr5',\n",
    "            #cache_dir='/global/cscratch1/sd/desiproc/dr5-calib',\n",
    "            #survey_dir='/global/cscratch1/sd/desiproc/dr5-calib',\n",
    "            #cache_dir='/global/cscratch1/sd/desiproc/dr7/calib',\n",
    "            output_dir=figdir)\n",
    "    elif dr == 'dr6':\n",
    "        survey = LegacySurveyData(\n",
    "            survey_dir='/global/cscratch1/sd/dstn/dr6plus',\n",
    "            output_dir=figdir)\n",
    "    \n",
    "    return survey"
   ]
  },
  {
   "cell_type": "code",
   "execution_count": 12,
   "metadata": {},
   "outputs": [],
   "source": [
    "def simple_wcs(obj):\n",
    "    \"\"\"Build a simple WCS object for a single object.\"\"\"\n",
    "    size = np.rint(obj['diam'] * 60 / PIXSCALE).astype('int') # [pixels]\n",
    "    wcs = Tan(obj['ra'], obj['dec'], size/2+0.5, size/2+0.5,\n",
    "                 -PIXSCALE/3600.0, 0.0, 0.0, PIXSCALE/3600.0, \n",
    "                 float(size), float(size))\n",
    "    return wcs"
   ]
  },
  {
   "cell_type": "code",
   "execution_count": 13,
   "metadata": {},
   "outputs": [],
   "source": [
    "def _build_sample_one(args):\n",
    "    \"\"\"Wrapper function for the multiprocessing.\"\"\"\n",
    "    return build_sample_one(*args)"
   ]
  },
  {
   "cell_type": "code",
   "execution_count": 14,
   "metadata": {},
   "outputs": [],
   "source": [
    "def build_sample_one(obj, verbose=False):\n",
    "    \"\"\"Wrapper function to find overlapping grz CCDs for a given object.\n",
    "    \n",
    "    \"\"\"\n",
    "    survey = init_survey(dr=obj['dr'])\n",
    "    \n",
    "    print('Working on {}...'.format(obj['name']))\n",
    "    wcs = simple_wcs(obj)\n",
    "    try:\n",
    "        ccds = survey.ccds_touching_wcs(wcs) # , ccdrad=2*diam/3600)\n",
    "    except:\n",
    "        return None\n",
    "    \n",
    "    if ccds:\n",
    "        # Is there 3-band coverage?\n",
    "        if 'g' in ccds.filter and 'r' in ccds.filter and 'z' in ccds.filter:\n",
    "            if verbose:\n",
    "                print('For {} found {} CCDs, RA = {:.5f}, Dec = {:.5f}, Diameter={:.4f} arcmin'.format(\n",
    "                        obj['name'], len(ccds), obj['ra'], obj['dec'], obj['diam']))\n",
    "            return obj\n",
    "    return None"
   ]
  },
  {
   "cell_type": "code",
   "execution_count": 15,
   "metadata": {},
   "outputs": [],
   "source": [
    "def build_sample(cat, use_nproc=nproc):\n",
    "    \"\"\"Build the full sample with grz coverage in DR6.\"\"\"\n",
    "\n",
    "    sampleargs = list()\n",
    "    for cc in cat:\n",
    "        sampleargs.append( (cc, True) ) # the False refers to verbose=False\n",
    "\n",
    "    if use_nproc > 1:\n",
    "        p = multiprocessing.Pool(nproc)\n",
    "        result = p.map(_build_sample_one, sampleargs)\n",
    "        p.close()\n",
    "    else:\n",
    "        result = list()\n",
    "        for args in sampleargs:\n",
    "            result.append(_build_sample_one(args))\n",
    "\n",
    "    # Remove non-matching objects and write out the sample\n",
    "    outcat = vstack(list(filter(None, result)))\n",
    "    print('Found {}/{} objects in the DR5+6 footprint.'.format(len(outcat), len(cat)))\n",
    "    \n",
    "    return outcat"
   ]
  },
  {
   "cell_type": "code",
   "execution_count": 16,
   "metadata": {},
   "outputs": [
    {
     "name": "stdout",
     "output_type": "stream",
     "text": [
      "Working on M92...\n",
      "Searching /global/cscratch1/sd/dstn/dr6plus/survey-ccds-dr6plus.kd.fits\n",
      "192 CCDs within 1.0 deg of RA,Dec (259.280, 43.137)\n",
      "For M92 found 17 CCDs, RA = 259.28029, Dec = 43.13653, Diameter=10.0000 arcmin\n",
      "Working on UGC10321...\n",
      "Searching /global/cscratch1/sd/desiproc/dr7/survey-ccds-dr7-uncut.kd.fits\n",
      "639 CCDs within 1.0 deg of RA,Dec (244.528, 21.559)\n",
      "For UGC10321 found 21 CCDs, RA = 244.52800, Dec = 21.55910, Diameter=6.0000 arcmin\n",
      "Working on Abell383...\n",
      "Searching /global/cscratch1/sd/desiproc/dr7/survey-ccds-dr7-uncut.kd.fits\n",
      "1204 CCDs within 1.0 deg of RA,Dec (42.014, -3.529)\n",
      "For Abell383 found 40 CCDs, RA = 42.01410, Dec = -3.52910, Diameter=6.0000 arcmin\n",
      "Working on Bow-Shock...\n",
      "Searching /global/cscratch1/sd/desiproc/dr7/survey-ccds-dr7-uncut.kd.fits\n",
      "5293 CCDs within 1.0 deg of RA,Dec (325.687, 1.003)\n",
      "For Bow-Shock found 380 CCDs, RA = 325.68720, Dec = 1.00320, Diameter=8.0000 arcmin\n",
      "Working on C4-2010...\n",
      "Searching /global/cscratch1/sd/desiproc/dr7/survey-ccds-dr7-uncut.kd.fits\n",
      "2348 CCDs within 1.0 deg of RA,Dec (29.071, 1.051)\n",
      "For C4-2010 found 54 CCDs, RA = 29.07064, Dec = 1.05082, Diameter=5.0000 arcmin\n",
      "Working on NGC2874...\n",
      "Searching /global/cscratch1/sd/desiproc/dr7/survey-ccds-dr7-uncut.kd.fits\n",
      "2022 CCDs within 1.0 deg of RA,Dec (141.442, 11.437)\n",
      "For NGC2874 found 69 CCDs, RA = 141.44215, Dec = 11.43696, Diameter=6.0000 arcmin\n",
      "Working on NGC6742...\n",
      "Searching /global/cscratch1/sd/dstn/dr6plus/survey-ccds-dr6plus.kd.fits\n",
      "162 CCDs within 1.0 deg of RA,Dec (284.833, 48.465)\n",
      "For NGC6742 found 8 CCDs, RA = 284.83292, Dec = 48.46528, Diameter=2.0000 arcmin\n",
      "Found 7/7 objects in the DR5+6 footprint.\n"
     ]
    }
   ],
   "source": [
    "sample = build_sample(cat, use_nproc=1)"
   ]
  },
  {
   "cell_type": "code",
   "execution_count": 17,
   "metadata": {},
   "outputs": [
    {
     "name": "stdout",
     "output_type": "stream",
     "text": [
      "Writing /global/cscratch1/sd/ioannis/overview-paper/gallery.fits\n"
     ]
    }
   ],
   "source": [
    "print('Writing {}'.format(figfile))\n",
    "sample.write(figfile, overwrite=True)"
   ]
  },
  {
   "cell_type": "code",
   "execution_count": 18,
   "metadata": {},
   "outputs": [
    {
     "data": {
      "text/html": [
       "&lt;Table length=7&gt;\n",
       "<table id=\"table48000824077112\" class=\"table-striped table-bordered table-condensed\">\n",
       "<thead><tr><th>name</th><th>nicename</th><th>viewer</th><th>dr</th><th>ra</th><th>dec</th><th>diam</th></tr></thead>\n",
       "<thead><tr><th>str36</th><th>str96</th><th>str352</th><th>str12</th><th>float64</th><th>float64</th><th>float32</th></tr></thead>\n",
       "<tr><td>M92</td><td>Messier 92</td><td>http://legacysurvey.org/viewer/?layer=decals-dr6&amp;ra=259.28029167&amp;dec=43.13652778&amp;zoom=12</td><td>dr6</td><td>259.28029167</td><td>43.13652778</td><td>10.0</td></tr>\n",
       "<tr><td>UGC10321</td><td>UGC10321 Group</td><td>http://legacysurvey.org/viewer?ra=244.5280&amp;dec=21.5591&amp;zoom=14&amp;layer=decals-dr5</td><td>dr5</td><td>244.528</td><td>21.5591</td><td>6.0</td></tr>\n",
       "<tr><td>Abell383</td><td>Abell 383</td><td>http://legacysurvey.org/viewer?ra=42.0141&amp;dec=-3.5291&amp;zoom=15&amp;layer=decals-dr5</td><td>dr5</td><td>42.0141</td><td>-3.5291</td><td>6.0</td></tr>\n",
       "<tr><td>Bow-Shock</td><td>Bow Shock</td><td>http://legacysurvey.org/viewer?ra=325.6872&amp;dec=1.0032&amp;zoom=14&amp;layer=decals-dr5</td><td>dr5</td><td>325.6872</td><td>1.0032</td><td>8.0</td></tr>\n",
       "<tr><td>C4-2010</td><td>C4 Cluster 2010</td><td>http://legacysurvey.org/viewer?ra=29.0707&amp;dec=1.0510&amp;zoom=13&amp;layer=decals-dr5</td><td>dr5</td><td>29.070641492</td><td>1.050816667</td><td>5.0</td></tr>\n",
       "<tr><td>NGC2874</td><td>NGC2874 Galaxy Group</td><td>http://legacysurvey.org/viewer?ra=141.4373&amp;dec=11.4284&amp;zoom=13&amp;layer=decals-dr5</td><td>dr5</td><td>141.44215</td><td>11.43696</td><td>6.0</td></tr>\n",
       "<tr><td>NGC6742</td><td>NGC6742 Planetary Nebula</td><td>http://legacysurvey.org/viewer/?layer=decals-dr6&amp;ra=284.83291667&amp;dec=48.46527778</td><td>dr6</td><td>284.83291667</td><td>48.46527778</td><td>2.0</td></tr>\n",
       "</table>"
      ],
      "text/plain": [
       "<Table length=7>\n",
       "   name           nicename         ...     dec       diam \n",
       "  str36            str96           ...   float64   float32\n",
       "--------- ------------------------ ... ----------- -------\n",
       "      M92               Messier 92 ... 43.13652778    10.0\n",
       " UGC10321           UGC10321 Group ...     21.5591     6.0\n",
       " Abell383                Abell 383 ...     -3.5291     6.0\n",
       "Bow-Shock                Bow Shock ...      1.0032     8.0\n",
       "  C4-2010          C4 Cluster 2010 ... 1.050816667     5.0\n",
       "  NGC2874     NGC2874 Galaxy Group ...    11.43696     6.0\n",
       "  NGC6742 NGC6742 Planetary Nebula ... 48.46527778     2.0"
      ]
     },
     "execution_count": 18,
     "metadata": {},
     "output_type": "execute_result"
    }
   ],
   "source": [
    "sample"
   ]
  },
  {
   "cell_type": "markdown",
   "metadata": {},
   "source": [
    "### Generate the color mosaics for each object."
   ]
  },
  {
   "cell_type": "code",
   "execution_count": 19,
   "metadata": {},
   "outputs": [],
   "source": [
    "def custom_brickname(obj, prefix='custom-'): \n",
    "    brickname = 'custom-{:06d}{}{:05d}'.format(\n",
    "        int(1000*obj['ra']), 'm' if obj['dec'] < 0 else 'p', \n",
    "        int(1000*np.abs(obj['dec'])))\n",
    "    return brickname"
   ]
  },
  {
   "cell_type": "code",
   "execution_count": 20,
   "metadata": {},
   "outputs": [],
   "source": [
    "def make_coadds_one(obj, scale=PIXSCALE, clobber=False):\n",
    "    name = obj['name']\n",
    "    jpgfile = os.path.join(jpgdir, '{}.jpg'.format(name))\n",
    "    if os.path.isfile(jpgfile) and not clobber:\n",
    "        print('File {} exists...skipping.'.format(jpgfile))\n",
    "    else:\n",
    "        size = np.rint(obj['diam'] * 60 / scale).astype('int') # [pixels]\n",
    "        print('Generating mosaic for {} with width={} pixels.'.format(name, size))\n",
    "        \n",
    "        survey = init_survey(dr=obj['dr'])\n",
    "        with warnings.catch_warnings():\n",
    "            warnings.simplefilter(\"ignore\")\n",
    "            run_brick(None, survey, radec=(obj['ra'], obj['dec']), pixscale=scale, \n",
    "                      width=size, height=size, stages=['image_coadds'], splinesky=True,\n",
    "                      early_coadds=True, pixPsf=True, hybridPsf=True, normalizePsf=True,\n",
    "                      write_pickles=False, depth_cut=False, apodize=True, threads=nproc,\n",
    "                      do_calibs=False, ceres=False)\n",
    "            \n",
    "        sys.stdout.flush()    \n",
    "        brickname = custom_brickname(obj, prefix='custom-')\n",
    "        _jpgfile = os.path.join(survey.output_dir, 'coadd', 'cus', brickname, \n",
    "                               'legacysurvey-{}-image.jpg'.format(brickname))\n",
    "        shutil.copy(_jpgfile, jpgfile)\n",
    "        shutil.rmtree(os.path.join(survey.output_dir, 'coadd'))"
   ]
  },
  {
   "cell_type": "code",
   "execution_count": 21,
   "metadata": {},
   "outputs": [],
   "source": [
    "def make_coadds(sample, clobber=False):\n",
    "    for obj in sample:\n",
    "        make_coadds_one(obj, clobber=clobber)"
   ]
  },
  {
   "cell_type": "code",
   "execution_count": null,
   "metadata": {},
   "outputs": [],
   "source": [
    "#make_coadds_one(sample[0], clobber=True)"
   ]
  },
  {
   "cell_type": "code",
   "execution_count": null,
   "metadata": {},
   "outputs": [
    {
     "name": "stdout",
     "output_type": "stream",
     "text": [
      "Generating the coadds.\n",
      "Logging to /global/cscratch1/sd/ioannis/overview-paper/make-coadds.log\n"
     ]
    }
   ],
   "source": [
    "coaddslogfile = os.path.join(figdir, 'make-coadds.log')\n",
    "print('Generating the coadds.')\n",
    "print('Logging to {}'.format(coaddslogfile))\n",
    "t0 = time.time()\n",
    "with open(coaddslogfile, 'w') as log:\n",
    "    with redirect_stdout(log):\n",
    "        make_coadds(sample, clobber=True)\n",
    "print('Total time = {:.3f} minutes.'.format((time.time() - t0) / 60))"
   ]
  },
  {
   "cell_type": "markdown",
   "metadata": {},
   "source": [
    "### Add labels and a scale bar."
   ]
  },
  {
   "cell_type": "code",
   "execution_count": null,
   "metadata": {},
   "outputs": [],
   "source": [
    "barlen = np.round(60.0 / PIXSCALE).astype('int')\n",
    "fonttype = os.path.join(figdir, 'Georgia.ttf')"
   ]
  },
  {
   "cell_type": "code",
   "execution_count": null,
   "metadata": {},
   "outputs": [],
   "source": [
    "def _add_labels_one(args):\n",
    "    \"\"\"Wrapper function for the multiprocessing.\"\"\"\n",
    "    return add_labels_one(*args)"
   ]
  },
  {
   "cell_type": "code",
   "execution_count": null,
   "metadata": {},
   "outputs": [],
   "source": [
    "def add_labels_one(obj, verbose=False):\n",
    "    name = obj['name']\n",
    "    nicename = obj['nicename']\n",
    "    \n",
    "    jpgfile = os.path.join(jpgdir, '{}.jpg'.format(name))\n",
    "    pngfile = os.path.join(pngdir, '{}.png'.format(name))\n",
    "    thumbfile = os.path.join(pngdir, 'thumb-{}.png'.format(name))\n",
    "        \n",
    "    im = Image.open(jpgfile)\n",
    "    sz = im.size\n",
    "    fntsize = np.round(sz[0]/28).astype('int')\n",
    "    width = np.round(sz[0]/175).astype('int')\n",
    "    font = ImageFont.truetype(fonttype, size=fntsize)\n",
    "    draw = ImageDraw.Draw(im)\n",
    "    # Label the object name--\n",
    "    draw.text((0+fntsize*2, 0+fntsize*2), nicename, font=font)\n",
    "    # Add a scale bar--\n",
    "    x0, x1, yy = sz[1]-fntsize*2-barlen, sz[1]-fntsize*2, sz[0]-fntsize*2\n",
    "    draw.line((x0, yy, x1, yy), fill='white', width=width)\n",
    "    im.save(pngfile)    \n",
    "        \n",
    "    # Generate a thumbnail\n",
    "    if False:\n",
    "        cmd = '/usr/bin/convert -thumbnail 300x300 {} {}'.format(pngfile, thumbfile)\n",
    "        os.system(cmd)"
   ]
  },
  {
   "cell_type": "code",
   "execution_count": null,
   "metadata": {},
   "outputs": [],
   "source": [
    "def add_labels(sample):\n",
    "    labelargs = list()\n",
    "    for obj in sample:\n",
    "        labelargs.append((obj, False))\n",
    "\n",
    "    if nproc > 1:\n",
    "        p = multiprocessing.Pool(nproc)\n",
    "        res = p.map(_add_labels_one, labelargs)\n",
    "        p.close()\n",
    "    else:\n",
    "        for args in labelargs:\n",
    "            res = _add_labels_one(args)"
   ]
  },
  {
   "cell_type": "code",
   "execution_count": null,
   "metadata": {},
   "outputs": [],
   "source": [
    "%time add_labels(sample)"
   ]
  },
  {
   "cell_type": "markdown",
   "metadata": {
    "collapsed": true
   },
   "source": [
    "### Finally make a nice montage figure for the paper."
   ]
  },
  {
   "cell_type": "code",
   "execution_count": null,
   "metadata": {},
   "outputs": [],
   "source": [
    "def make_montage(cat, clobber=False):\n",
    "    montagefile = os.path.join(figdir, 'overview-gallery.png')\n",
    "\n",
    "    ncol = 3\n",
    "    nrow = np.ceil(len(sample) / ncol).astype('int')\n",
    "    \n",
    "    if not os.path.isfile(montagefile) or clobber:\n",
    "        cmd = 'montage -bordercolor white -borderwidth 1 -tile {}x{} -geometry 512x512 '.format(ncol, nrow)\n",
    "        cmd = cmd+' '.join([os.path.join(pngdir, '{}.png'.format(name)) for name in cat['name']])\n",
    "        cmd = cmd+' {}'.format(montagefile)\n",
    "        print(cmd)\n",
    "        os.system(cmd)        \n",
    "        print('Writing {}'.format(montagefile))"
   ]
  },
  {
   "cell_type": "code",
   "execution_count": null,
   "metadata": {},
   "outputs": [],
   "source": [
    "%time make_montage(cat, clobber=True)"
   ]
  },
  {
   "cell_type": "code",
   "execution_count": null,
   "metadata": {},
   "outputs": [],
   "source": []
  }
 ],
 "metadata": {
  "anaconda-cloud": {},
  "kernelspec": {
   "display_name": "legacypipe master",
   "language": "python",
   "name": "legacypipe-master"
  },
  "language_info": {
   "codemirror_mode": {
    "name": "ipython",
    "version": 3
   },
   "file_extension": ".py",
   "mimetype": "text/x-python",
   "name": "python",
   "nbconvert_exporter": "python",
   "pygments_lexer": "ipython3",
   "version": "3.5.4"
  }
 },
 "nbformat": 4,
 "nbformat_minor": 2
}
