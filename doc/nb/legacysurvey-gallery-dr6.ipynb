{
 "cells": [
  {
   "cell_type": "markdown",
   "metadata": {},
   "source": [
    "# Gallery for DR6\n",
    "\n",
    "The purpose of this notebook is to build the gallery for the sixth Legacy Survey data release, DR6.  The theme of this gallery is...\n",
    "\n",
    "The parent sample is a diameter-limited (*D25>5* arcsec) sample defined and documented as part of the [Legacy Survey Large Galaxy Atlas](https://github.com/moustakas/LSLGA).  Here, we use the group catalog constructed in [this notebook](https://github.com/legacysurvey/legacypipe/blob/master/doc/nb/legacysurvey-gallery-groups-dr5.ipynb)."
   ]
  },
  {
   "cell_type": "markdown",
   "metadata": {},
   "source": [
    "### Imports and paths"
   ]
  },
  {
   "cell_type": "code",
   "execution_count": 37,
   "metadata": {},
   "outputs": [],
   "source": [
    "import os\n",
    "import numpy as np\n",
    "import numpy.ma as ma\n",
    "import matplotlib.pyplot as plt"
   ]
  },
  {
   "cell_type": "code",
   "execution_count": 2,
   "metadata": {},
   "outputs": [],
   "source": [
    "import astropy.units as u\n",
    "from astropy.coordinates import SkyCoord\n",
    "from astropy.table import Table, Column, vstack\n",
    "from astropy.io import ascii\n",
    "from PIL import Image, ImageDraw, ImageFont\n",
    "#from astrometry.util.starutil_numpy import hmsstring2ra"
   ]
  },
  {
   "cell_type": "code",
   "execution_count": 3,
   "metadata": {},
   "outputs": [],
   "source": [
    "from astrometry.util.util import Tan\n",
    "from astrometry.util.fits import merge_tables\n",
    "from legacypipe.survey import ccds_touching_wcs, LegacySurveyData\n",
    "from legacypipe.runbrick import run_brick"
   ]
  },
  {
   "cell_type": "code",
   "execution_count": 4,
   "metadata": {},
   "outputs": [],
   "source": [
    "import multiprocessing\n",
    "nproc = multiprocessing.cpu_count() // 2\n",
    "nproc = 1 # hack because multiprocessing doesn't seem to be working in jupyter-dev"
   ]
  },
  {
   "cell_type": "code",
   "execution_count": 5,
   "metadata": {},
   "outputs": [],
   "source": [
    "%matplotlib inline"
   ]
  },
  {
   "cell_type": "markdown",
   "metadata": {},
   "source": [
    "### Preliminaries\n",
    "\n",
    "Define the data release and specify the desired angular radius range (in arcmin) for the galaxies (and galaxy groups) that will end up in the gallery."
   ]
  },
  {
   "cell_type": "code",
   "execution_count": 6,
   "metadata": {},
   "outputs": [],
   "source": [
    "dr = 'dr6'\n",
    "if dr == 'dr6':\n",
    "    PIXSCALE = 0.470\n",
    "else:\n",
    "    raise NotImplementedError"
   ]
  },
  {
   "cell_type": "code",
   "execution_count": 7,
   "metadata": {},
   "outputs": [],
   "source": [
    "gallerydir = os.path.join( os.getenv('SCRATCH'), dr, 'gallery' )\n",
    "#cache_dir = os.path.join('global', 'cscratch1', 'sd', 'dstn', 'dr5-new-sky') # hack!\n",
    "galleryfile = os.path.join(gallerydir, 'gallery-{}.fits'.format(dr))"
   ]
  },
  {
   "cell_type": "markdown",
   "metadata": {},
   "source": [
    "#### Read the Open NGC catalog created by Mattia Verga:\n",
    "https://github.com/mattiaverga/OpenNGC\n",
    "\n",
    "```bash\n",
    "wget https://raw.githubusercontent.com/mattiaverga/OpenNGC/master/NGC.csv\n",
    "```\n",
    "\n",
    "- Name: Object name composed by catalog + number\n",
    "    NGC: New General Catalogue\n",
    "    IC: Index Catalogue\n",
    "    \n",
    "- Type: Object type\n",
    "    *: Star\n",
    "    **: Double star\n",
    "    *Ass: Association of stars\n",
    "    OCl: Open Cluster\n",
    "    GCl: Globular Cluster\n",
    "    Cl+N: Star cluster + Nebula\n",
    "    G: Galaxy\n",
    "    GPair: Galaxy Pair\n",
    "    GTrpl: Galaxy Triplet\n",
    "    GGroup: Group of galaxies\n",
    "    PN: Planetary Nebula\n",
    "    HII: HII Ionized region\n",
    "    DrkN: Dark Nebula\n",
    "    EmN: Emission Nebula\n",
    "    Neb: Nebula\n",
    "    RfN: Reflection Nebula\n",
    "    SNR: Supernova remnant\n",
    "    Nova: Nova star\n",
    "    NonEx: Nonexistent object\n",
    "    \n",
    "- RA: Right Ascension in J2000 Epoch (HH:MM:SS.SS)\n",
    "\n",
    "- Dec: Declination in J2000 Epoch (+/-DD:MM:SS.SS)\n",
    "\n",
    "- Const: Constellation where the object is located\n",
    "\n",
    "- MajAx: Major axis, expressed in arcmin\n",
    "\n",
    "- MinAx: Minor axis, expressed in arcmin\n",
    "\n",
    "- PosAng: Major axis position angle (North Eastwards)\n",
    "\n",
    "- B-Mag: Apparent total magnitude in B filter\n",
    "\n",
    "- V-Mag: Apparent total magnitude in V filter\n",
    "\n",
    "- J-Mag: Apparent total magnitude in J filter\n",
    "\n",
    "- H-Mag: Apparent total magnitude in H filter\n",
    "\n",
    "- K-Mag: Apparent total magnitude in K filter\n",
    "\n",
    "- SurfBr (only Galaxies): Mean surface brigthness within 25 mag isophot (B-band), expressed in mag/arcsec2\n",
    "\n",
    "- Hubble (only Galaxies): Morphological type (for galaxies)\n",
    "\n",
    "- Cstar U-Mag (only Planetary Nebulae): Apparent magnitude of central star in U filter\n",
    "\n",
    "- Cstar B-Mag (only Planetary Nebulae): Apparent magnitude of central star in B filter\n",
    "\n",
    "- Cstar V-Mag (only Planetary Nebulae): Apparent magnitude of central star in V filter\n",
    "\n",
    "- M: cross reference Messier number\n",
    "\n",
    "- NGC: other NGC identification, if the object is listed twice in the catalog\n",
    "\n",
    "- IC: cross reference IC number, if the object is also listed with that identification\n",
    "\n",
    "- Cstar Names (only Planetary Nebulae): central star identifications\n",
    "\n",
    "- Identifiers: cross reference with other catalogs\n",
    "\n",
    "- Common names: Common names of the object if any\n",
    "\n",
    "- NED Notes: notes about object exported from NED\n",
    "\n",
    "- OpenNGC Notes: notes about the object data from OpenNGC catalog\n"
   ]
  },
  {
   "cell_type": "code",
   "execution_count": 8,
   "metadata": {},
   "outputs": [],
   "source": [
    "names = ('name', 'type', 'ra_hms', 'dec_dms', 'const', 'majax', 'minax', \n",
    "         'pa', 'bmag', 'vmag', 'jmag', 'hmag', 'kmag', 'sbrightn', 'hubble', \n",
    "         'cstarumag', 'cstarbmag', 'cstarvmag', 'messier', 'ngc', 'ic', \n",
    "         'cstarnames', 'identifiers', 'commonnames', 'nednotes', 'ongcnotes')"
   ]
  },
  {
   "cell_type": "code",
   "execution_count": 9,
   "metadata": {},
   "outputs": [
    {
     "data": {
      "text/html": [
       "&lt;Table masked=True length=13953&gt;\n",
       "<table id=\"table46969158315984\" class=\"table-striped table-bordered table-condensed\">\n",
       "<thead><tr><th>name</th><th>type</th><th>ra_hms</th><th>dec_dms</th><th>const</th><th>majax</th><th>minax</th><th>pa</th><th>bmag</th><th>vmag</th><th>jmag</th><th>hmag</th><th>kmag</th><th>sbrightn</th><th>hubble</th><th>cstarumag</th><th>cstarbmag</th><th>cstarvmag</th><th>messier</th><th>ngc</th><th>ic</th><th>cstarnames</th><th>identifiers</th><th>commonnames</th><th>nednotes</th><th>ongcnotes</th></tr></thead>\n",
       "<thead><tr><th>str13</th><th>str6</th><th>str11</th><th>str11</th><th>str3</th><th>float64</th><th>float64</th><th>int64</th><th>float64</th><th>float64</th><th>float64</th><th>float64</th><th>float64</th><th>float64</th><th>str4</th><th>float64</th><th>float64</th><th>float64</th><th>int64</th><th>str10</th><th>str14</th><th>str51</th><th>str211</th><th>str56</th><th>str80</th><th>str97</th></tr></thead>\n",
       "<tr><td>IC0002</td><td>G</td><td>00:11:00.88</td><td>-12:49:22.3</td><td>Cet</td><td>0.98</td><td>0.32</td><td>142</td><td>15.46</td><td>--</td><td>12.26</td><td>11.48</td><td>11.17</td><td>23.45</td><td>Sb</td><td>--</td><td>--</td><td>--</td><td>--</td><td>--</td><td>--</td><td>--</td><td>2MASX J00110081-1249206,IRAS 00084-1306,MCG -02-01-031,PGC 000778</td><td>--</td><td>--</td><td>B-Mag taken from LEDA.</td></tr>\n",
       "<tr><td>IC0003</td><td>G</td><td>00:12:06.09</td><td>-00:24:54.8</td><td>Psc</td><td>0.93</td><td>0.67</td><td>53</td><td>15.1</td><td>--</td><td>11.53</td><td>10.79</td><td>10.54</td><td>23.5</td><td>E</td><td>--</td><td>--</td><td>--</td><td>--</td><td>--</td><td>--</td><td>--</td><td>2MASX J00120604-0024543,MCG +00-01-038,PGC 000836,SDSS J001206.08-002454.7,SDSS J001206.09-002454.7,SDSS J001206.09-002454.8,SDSS J001206.10-002454.8</td><td>--</td><td>--</td><td>--</td></tr>\n",
       "<tr><td>IC0004</td><td>G</td><td>00:13:26.94</td><td>+17:29:11.2</td><td>Peg</td><td>1.17</td><td>0.84</td><td>12</td><td>14.2</td><td>--</td><td>11.51</td><td>10.65</td><td>10.5</td><td>23.01</td><td>Sc</td><td>--</td><td>--</td><td>--</td><td>--</td><td>--</td><td>--</td><td>--</td><td>2MASX J00132695+1729111,IRAS 00108+1712,MCG +03-01-029,PGC 000897,UGC 00123</td><td>--</td><td>--</td><td>--</td></tr>\n",
       "<tr><td>IC0005</td><td>G</td><td>00:17:34.93</td><td>-09:32:36.1</td><td>Cet</td><td>0.99</td><td>0.66</td><td>9</td><td>14.57</td><td>--</td><td>11.5</td><td>10.85</td><td>10.5</td><td>23.4</td><td>E</td><td>--</td><td>--</td><td>--</td><td>--</td><td>--</td><td>--</td><td>--</td><td>2MASX J00173495-0932364,MCG -02-01-047,PGC 001145,SDSS J001734.93-093236.0,SDSS J001734.93-093236.1</td><td>--</td><td>--</td><td>B-Mag taken from LEDA.</td></tr>\n",
       "<tr><td>IC0006</td><td>G</td><td>00:18:55.04</td><td>-03:16:33.9</td><td>Psc</td><td>1.23</td><td>1.08</td><td>146</td><td>14.5</td><td>--</td><td>11.03</td><td>10.32</td><td>10.08</td><td>23.89</td><td>E</td><td>--</td><td>--</td><td>--</td><td>--</td><td>--</td><td>--</td><td>--</td><td>2MASX J00185505-0316339,MCG -01-01-075,PGC 001228</td><td>--</td><td>--</td><td>--</td></tr>\n",
       "<tr><td>IC0007</td><td>G</td><td>00:18:53.16</td><td>+10:35:40.9</td><td>Psc</td><td>0.9</td><td>0.63</td><td>174</td><td>14.7</td><td>--</td><td>11.33</td><td>10.57</td><td>10.26</td><td>23.22</td><td>S0</td><td>--</td><td>--</td><td>--</td><td>--</td><td>--</td><td>--</td><td>--</td><td>2MASX J00185316+1035410,PGC 001216</td><td>--</td><td>--</td><td>--</td></tr>\n",
       "<tr><td>IC0008</td><td>G</td><td>00:19:02.72</td><td>-03:13:19.5</td><td>Psc</td><td>0.82</td><td>0.34</td><td>129</td><td>15.16</td><td>--</td><td>12.7</td><td>12.08</td><td>12.08</td><td>23.4</td><td>E?</td><td>--</td><td>--</td><td>--</td><td>--</td><td>--</td><td>--</td><td>--</td><td>2MASX J00190272-0313196,MCG -01-01-076,PGC 001234</td><td>--</td><td>--</td><td>B-Mag taken from LEDA.</td></tr>\n",
       "<tr><td>IC0009</td><td>G</td><td>00:19:43.98</td><td>-14:07:18.8</td><td>Cet</td><td>0.59</td><td>0.46</td><td>122</td><td>15.41</td><td>--</td><td>12.38</td><td>11.71</td><td>11.28</td><td>22.88</td><td>Sa</td><td>--</td><td>--</td><td>--</td><td>--</td><td>--</td><td>--</td><td>--</td><td>2MASX J00194400-1407184,MCG -02-02-001,PGC 001271</td><td>--</td><td>--</td><td>B-Mag taken from LEDA.</td></tr>\n",
       "<tr><td>IC0010</td><td>G</td><td>00:20:17.34</td><td>+59:18:13.6</td><td>Cas</td><td>6.76</td><td>6.03</td><td>129</td><td>13.6</td><td>9.5</td><td>7.23</td><td>6.34</td><td>6.01</td><td>24.53</td><td>IB</td><td>--</td><td>--</td><td>--</td><td>--</td><td>--</td><td>--</td><td>--</td><td>2MASX J00201733+5918136,IRAS 00175+5902,IRAS 00177+5900,MCG +10-01-001,PGC 001305,UGC 00192</td><td>--</td><td>The 2MASX position refers to the center of the IR isophotes.</td><td>--</td></tr>\n",
       "<tr><td>IC0011</td><td>Dup</td><td>00:52:59.35</td><td>+56:37:18.8</td><td>Cas</td><td>--</td><td>--</td><td>--</td><td>--</td><td>--</td><td>--</td><td>--</td><td>--</td><td>--</td><td>--</td><td>--</td><td>--</td><td>--</td><td>--</td><td>0281</td><td>--</td><td>--</td><td>--</td><td>--</td><td>--</td><td>--</td></tr>\n",
       "<tr><td>...</td><td>...</td><td>...</td><td>...</td><td>...</td><td>...</td><td>...</td><td>...</td><td>...</td><td>...</td><td>...</td><td>...</td><td>...</td><td>...</td><td>...</td><td>...</td><td>...</td><td>...</td><td>...</td><td>...</td><td>...</td><td>...</td><td>...</td><td>...</td><td>...</td><td>...</td></tr>\n",
       "<tr><td>NGC7831</td><td>G</td><td>00:07:19.53</td><td>+32:36:33.3</td><td>And</td><td>1.8</td><td>0.39</td><td>40</td><td>13.4</td><td>--</td><td>10.95</td><td>10.16</td><td>9.88</td><td>22.59</td><td>Sb</td><td>--</td><td>--</td><td>--</td><td>--</td><td>--</td><td>1530</td><td>--</td><td>2MASX J00071951+3236334,IRAS 00047+3219,MCG +05-01-032,PGC 000569,UGC 00060</td><td>--</td><td>--</td><td>--</td></tr>\n",
       "<tr><td>NGC7832</td><td>G</td><td>00:06:28.46</td><td>-03:42:58.1</td><td>Psc</td><td>1.68</td><td>0.38</td><td>23</td><td>13.0</td><td>--</td><td>10.35</td><td>9.69</td><td>9.45</td><td>23.68</td><td>E</td><td>--</td><td>--</td><td>--</td><td>--</td><td>--</td><td>5386</td><td>--</td><td>2MASX J00062844-0342581,MCG -01-01-033,PGC 000485</td><td>--</td><td>--</td><td>--</td></tr>\n",
       "<tr><td>NGC7833</td><td>Other</td><td>00:06:31.46</td><td>+27:38:22.8</td><td>Peg</td><td>--</td><td>--</td><td>--</td><td>--</td><td>--</td><td>--</td><td>--</td><td>--</td><td>--</td><td>--</td><td>--</td><td>--</td><td>--</td><td>--</td><td>--</td><td>--</td><td>--</td><td>--</td><td>--</td><td>Five Galactic stars.</td><td>--</td></tr>\n",
       "<tr><td>NGC7834</td><td>G</td><td>00:06:37.82</td><td>+08:22:04.4</td><td>Psc</td><td>0.93</td><td>0.83</td><td>16</td><td>15.4</td><td>--</td><td>12.74</td><td>12.24</td><td>11.85</td><td>23.94</td><td>Sc</td><td>--</td><td>--</td><td>--</td><td>--</td><td>--</td><td>--</td><td>--</td><td>2MASX J00063780+0822045,MCG +01-01-030,PGC 000504,UGC 00049</td><td>--</td><td>--</td><td>--</td></tr>\n",
       "<tr><td>NGC7835</td><td>G</td><td>00:06:46.77</td><td>+08:25:33.4</td><td>Psc</td><td>0.56</td><td>0.24</td><td>150</td><td>15.5</td><td>--</td><td>12.28</td><td>11.5</td><td>11.21</td><td>--</td><td>Sb</td><td>--</td><td>--</td><td>--</td><td>--</td><td>--</td><td>--</td><td>--</td><td>2MASX J00064677+0825335,MCG +01-01-031,PGC 000505</td><td>--</td><td>--</td><td>--</td></tr>\n",
       "<tr><td>NGC7836</td><td>G</td><td>00:08:01.64</td><td>+33:04:14.8</td><td>And</td><td>0.9</td><td>0.39</td><td>133</td><td>13.8</td><td>--</td><td>11.32</td><td>10.64</td><td>10.28</td><td>22.8</td><td>E?</td><td>--</td><td>--</td><td>--</td><td>--</td><td>--</td><td>--</td><td>--</td><td>2MASX J00080163+3304148,IRAS 00054+3247,PGC 000608,UGC 00065</td><td>--</td><td>--</td><td>--</td></tr>\n",
       "<tr><td>NGC7837</td><td>G</td><td>00:06:51.39</td><td>+08:21:05.0</td><td>Psc</td><td>0.67</td><td>0.38</td><td>169</td><td>16.0</td><td>--</td><td>12.39</td><td>11.89</td><td>11.46</td><td>24.01</td><td>Sb</td><td>--</td><td>--</td><td>--</td><td>--</td><td>--</td><td>--</td><td>--</td><td>2MASX J00065141+0821045,MCG +01-01-035,PGC 000516</td><td>--</td><td>--</td><td>--</td></tr>\n",
       "<tr><td>NGC7838</td><td>G</td><td>00:06:53.95</td><td>+08:21:03.1</td><td>Psc</td><td>1.3</td><td>0.57</td><td>93</td><td>15.3</td><td>--</td><td>11.48</td><td>10.81</td><td>10.48</td><td>24.37</td><td>S0-a</td><td>--</td><td>--</td><td>--</td><td>--</td><td>--</td><td>--</td><td>--</td><td>2MASX J00065396+0821027,MCG +01-01-036,PGC 000525</td><td>--</td><td>--</td><td>--</td></tr>\n",
       "<tr><td>NGC7839</td><td>**</td><td>00:07:00.63</td><td>+27:38:06.8</td><td>Peg</td><td>--</td><td>--</td><td>--</td><td>--</td><td>--</td><td>--</td><td>--</td><td>--</td><td>--</td><td>--</td><td>--</td><td>--</td><td>--</td><td>--</td><td>--</td><td>--</td><td>--</td><td>--</td><td>--</td><td>--</td><td>--</td></tr>\n",
       "<tr><td>NGC7840</td><td>G</td><td>00:07:08.80</td><td>+08:23:00.6</td><td>Psc</td><td>0.68</td><td>0.46</td><td>127</td><td>16.47</td><td>--</td><td>--</td><td>--</td><td>--</td><td>24.36</td><td>--</td><td>--</td><td>--</td><td>--</td><td>--</td><td>--</td><td>--</td><td>--</td><td>2MASX J00070878+0822598,PGC 1345780</td><td>--</td><td>--</td><td>--</td></tr>\n",
       "</table>"
      ],
      "text/plain": [
       "<Table masked=True length=13953>\n",
       "  name   type ...       ongcnotes       \n",
       " str13   str6 ...         str97         \n",
       "------- ----- ... ----------------------\n",
       " IC0002     G ... B-Mag taken from LEDA.\n",
       " IC0003     G ...                     --\n",
       " IC0004     G ...                     --\n",
       " IC0005     G ... B-Mag taken from LEDA.\n",
       " IC0006     G ...                     --\n",
       " IC0007     G ...                     --\n",
       " IC0008     G ... B-Mag taken from LEDA.\n",
       " IC0009     G ... B-Mag taken from LEDA.\n",
       " IC0010     G ...                     --\n",
       " IC0011   Dup ...                     --\n",
       "    ...   ... ...                    ...\n",
       "NGC7831     G ...                     --\n",
       "NGC7832     G ...                     --\n",
       "NGC7833 Other ...                     --\n",
       "NGC7834     G ...                     --\n",
       "NGC7835     G ...                     --\n",
       "NGC7836     G ...                     --\n",
       "NGC7837     G ...                     --\n",
       "NGC7838     G ...                     --\n",
       "NGC7839    ** ...                     --\n",
       "NGC7840     G ...                     --"
      ]
     },
     "execution_count": 9,
     "metadata": {},
     "output_type": "execute_result"
    }
   ],
   "source": [
    "NGC = ascii.read(os.path.join(gallerydir, 'NGC.csv'), delimiter=';', names=names)\n",
    "NGC"
   ]
  },
  {
   "cell_type": "code",
   "execution_count": 41,
   "metadata": {},
   "outputs": [
    {
     "name": "stdout",
     "output_type": "stream",
     "text": [
      "Keeping 331 / 13953 objects\n"
     ]
    },
    {
     "data": {
      "text/html": [
       "&lt;Table masked=True length=331&gt;\n",
       "<table id=\"table46969178338752\" class=\"table-striped table-bordered table-condensed\">\n",
       "<thead><tr><th>name</th><th>type</th><th>ra_hms</th><th>dec_dms</th><th>const</th><th>majax</th><th>minax</th><th>pa</th><th>bmag</th><th>vmag</th><th>jmag</th><th>hmag</th><th>kmag</th><th>sbrightn</th><th>hubble</th><th>cstarumag</th><th>cstarbmag</th><th>cstarvmag</th><th>messier</th><th>ngc</th><th>ic</th><th>cstarnames</th><th>identifiers</th><th>commonnames</th><th>nednotes</th><th>ongcnotes</th></tr></thead>\n",
       "<thead><tr><th>str13</th><th>str6</th><th>str11</th><th>str11</th><th>str3</th><th>float64</th><th>float64</th><th>int64</th><th>float64</th><th>float64</th><th>float64</th><th>float64</th><th>float64</th><th>float64</th><th>str4</th><th>float64</th><th>float64</th><th>float64</th><th>int64</th><th>str10</th><th>str14</th><th>str51</th><th>str211</th><th>str56</th><th>str80</th><th>str97</th></tr></thead>\n",
       "<tr><td>IC0132</td><td>HII</td><td>01:33:15.92</td><td>+30:56:44.2</td><td>Tri</td><td>0.67</td><td>0.55</td><td>--</td><td>14.87</td><td>14.82</td><td>--</td><td>--</td><td>--</td><td>--</td><td>--</td><td>--</td><td>--</td><td>--</td><td>--</td><td>--</td><td>--</td><td>--</td><td>--</td><td>--</td><td>--</td><td>Diameters taken from SIMBAD.</td></tr>\n",
       "<tr><td>IC0133</td><td>HII</td><td>01:33:15.18</td><td>+30:53:18.2</td><td>Tri</td><td>0.45</td><td>0.45</td><td>--</td><td>18.28</td><td>18.45</td><td>14.48</td><td>13.91</td><td>13.51</td><td>--</td><td>--</td><td>--</td><td>--</td><td>--</td><td>--</td><td>--</td><td>--</td><td>--</td><td>2MASX J01331516+3053196,IRAS 01304+3037</td><td>--</td><td>HII region in Messier 033. The IC object includes the surrounding star cloud.</td><td>Diameters taken from SIMBAD.</td></tr>\n",
       "<tr><td>IC0135</td><td>HII</td><td>01:34:15.53</td><td>+30:37:12.3</td><td>Tri</td><td>0.4</td><td>--</td><td>--</td><td>--</td><td>--</td><td>--</td><td>--</td><td>--</td><td>--</td><td>--</td><td>--</td><td>--</td><td>--</td><td>--</td><td>--</td><td>--</td><td>--</td><td>--</td><td>--</td><td>HII region in Messier 033.</td><td>--</td></tr>\n",
       "<tr><td>IC0142</td><td>HII</td><td>01:33:55.53</td><td>+30:45:28.1</td><td>Tri</td><td>0.5</td><td>--</td><td>--</td><td>11.3</td><td>14.2</td><td>--</td><td>--</td><td>--</td><td>--</td><td>--</td><td>--</td><td>--</td><td>--</td><td>--</td><td>--</td><td>--</td><td>--</td><td>--</td><td>--</td><td>HII region in Messier 033.</td><td>Dimensions taken from LEDA</td></tr>\n",
       "<tr><td>IC0289</td><td>PN</td><td>03:10:19.26</td><td>+61:19:00.4</td><td>Cas</td><td>0.58</td><td>--</td><td>--</td><td>16.8</td><td>--</td><td>15.59</td><td>15.62</td><td>15.14</td><td>--</td><td>--</td><td>--</td><td>15.1</td><td>15.9</td><td>--</td><td>--</td><td>--</td><td>--</td><td>IRAS 03062+6107,PK 138+02 1,PN G138.8+02.8</td><td>--</td><td>--</td><td>--</td></tr>\n",
       "<tr><td>IC0466</td><td>HII</td><td>07:08:38.80</td><td>-04:19:04.8</td><td>Mon</td><td>1.0</td><td>--</td><td>--</td><td>12.71</td><td>12.06</td><td>10.56</td><td>10.25</td><td>9.94</td><td>--</td><td>--</td><td>--</td><td>--</td><td>--</td><td>--</td><td>--</td><td>--</td><td>--</td><td>2MASX J07083878-0419046,IRAS 07061-0414</td><td>--</td><td>--</td><td>Dimensions taken from LEDA</td></tr>\n",
       "<tr><td>IC0972</td><td>PN</td><td>14:04:25.91</td><td>-17:13:41.5</td><td>Vir</td><td>0.7</td><td>--</td><td>--</td><td>14.5</td><td>--</td><td>15.78</td><td>15.41</td><td>15.16</td><td>--</td><td>--</td><td>--</td><td>17.91</td><td>--</td><td>--</td><td>--</td><td>--</td><td>--</td><td>PK 326+42 1,PN G326.7+42.2</td><td>--</td><td>--</td><td>--</td></tr>\n",
       "<tr><td>IC1295</td><td>PN</td><td>18:54:37.13</td><td>-08:49:37.3</td><td>Sct</td><td>1.5</td><td>--</td><td>--</td><td>15.0</td><td>--</td><td>--</td><td>--</td><td>--</td><td>--</td><td>--</td><td>--</td><td>15.5</td><td>--</td><td>--</td><td>--</td><td>--</td><td>--</td><td>IRAS 18519-0853,PK 25-04 2,PN G025.4-04.7</td><td>--</td><td>--</td><td>B-Mag taken from LEDA.</td></tr>\n",
       "<tr><td>IC1454</td><td>PN</td><td>22:42:25.01</td><td>+80:26:32.0</td><td>Cep</td><td>0.47</td><td>--</td><td>--</td><td>14.8</td><td>--</td><td>--</td><td>--</td><td>--</td><td>--</td><td>--</td><td>--</td><td>18.8</td><td>--</td><td>--</td><td>--</td><td>--</td><td>--</td><td>IRAS 22419+8010,PK 117+18 1,PN G117.5+18.9</td><td>--</td><td>--</td><td>B-Mag taken from LEDA.</td></tr>\n",
       "<tr><td>IC1470</td><td>HII</td><td>23:05:10.21</td><td>+60:14:38.7</td><td>Cep</td><td>1.8</td><td>1.8</td><td>90</td><td>11.5</td><td>--</td><td>--</td><td>--</td><td>--</td><td>--</td><td>--</td><td>--</td><td>--</td><td>--</td><td>--</td><td>--</td><td>--</td><td>--</td><td>2MASX J23050983+6014560</td><td>--</td><td>--</td><td>Diameters taken from SIMBAD.</td></tr>\n",
       "<tr><td>...</td><td>...</td><td>...</td><td>...</td><td>...</td><td>...</td><td>...</td><td>...</td><td>...</td><td>...</td><td>...</td><td>...</td><td>...</td><td>...</td><td>...</td><td>...</td><td>...</td><td>...</td><td>...</td><td>...</td><td>...</td><td>...</td><td>...</td><td>...</td><td>...</td><td>...</td></tr>\n",
       "<tr><td>NGC6857</td><td>HII</td><td>20:01:48.13</td><td>+33:31:33.3</td><td>Cyg</td><td>0.63</td><td>0.63</td><td>--</td><td>11.4</td><td>--</td><td>--</td><td>--</td><td>--</td><td>--</td><td>--</td><td>--</td><td>--</td><td>--</td><td>--</td><td>--</td><td>--</td><td>--</td><td>--</td><td>--</td><td>--</td><td>Dimensions and B-Mag taken from LEDA</td></tr>\n",
       "<tr><td>NGC6894</td><td>PN</td><td>20:16:24.05</td><td>+30:33:54.3</td><td>Cyg</td><td>0.67</td><td>--</td><td>--</td><td>14.4</td><td>--</td><td>--</td><td>--</td><td>--</td><td>--</td><td>--</td><td>--</td><td>18.1</td><td>--</td><td>--</td><td>--</td><td>--</td><td>--</td><td>PN G069.4-02.6</td><td>--</td><td>--</td><td>--</td></tr>\n",
       "<tr><td>NGC6905</td><td>PN</td><td>20:22:22.99</td><td>+20:06:16.3</td><td>Del</td><td>0.67</td><td>--</td><td>--</td><td>11.9</td><td>--</td><td>--</td><td>--</td><td>--</td><td>--</td><td>--</td><td>--</td><td>16.3</td><td>15.7</td><td>--</td><td>--</td><td>--</td><td>HD 193949</td><td>2MASX J20222299+2006162,IRAS 20201+1956,PN G061.4-09.5</td><td>Blue Flash Nebula</td><td>--</td><td>--</td></tr>\n",
       "<tr><td>NGC7008</td><td>PN</td><td>21:00:32.80</td><td>+54:32:35.5</td><td>Cyg</td><td>1.43</td><td>--</td><td>--</td><td>13.3</td><td>--</td><td>--</td><td>--</td><td>--</td><td>--</td><td>--</td><td>12.99</td><td>13.75</td><td>13.23</td><td>--</td><td>--</td><td>--</td><td>BD +53 2533C</td><td>IRAS 20590+5420,PN G093.4+05.4</td><td>--</td><td>--</td><td>--</td></tr>\n",
       "<tr><td>NGC7026</td><td>PN</td><td>21:06:18.48</td><td>+47:51:07.9</td><td>Cyg</td><td>0.33</td><td>--</td><td>--</td><td>12.7</td><td>--</td><td>--</td><td>--</td><td>--</td><td>--</td><td>--</td><td>--</td><td>15.33</td><td>14.2</td><td>--</td><td>--</td><td>--</td><td>HD 201192</td><td>IRAS 21046+4739,PN G089.0+00.3</td><td>--</td><td>--</td><td>--</td></tr>\n",
       "<tr><td>NGC7048</td><td>PN</td><td>21:14:15.20</td><td>+46:17:19.0</td><td>Cyg</td><td>1.02</td><td>--</td><td>--</td><td>11.3</td><td>--</td><td>--</td><td>--</td><td>--</td><td>--</td><td>--</td><td>--</td><td>--</td><td>19.12</td><td>--</td><td>--</td><td>--</td><td>--</td><td>IRAS 21124+4604,PN G088.7-01.6</td><td>--</td><td>--</td><td>--</td></tr>\n",
       "<tr><td>NGC7076</td><td>PN</td><td>21:26:23.50</td><td>+62:53:33.0</td><td>Cep</td><td>0.93</td><td>--</td><td>--</td><td>14.5</td><td>--</td><td>--</td><td>--</td><td>--</td><td>--</td><td>--</td><td>--</td><td>18.0</td><td>--</td><td>--</td><td>--</td><td>--</td><td>--</td><td>IRAS 21251+6240,PN G101.8+08.7</td><td>--</td><td>--</td><td>--</td></tr>\n",
       "<tr><td>NGC7094</td><td>PN</td><td>21:36:52.97</td><td>+12:47:19.1</td><td>Peg</td><td>1.57</td><td>--</td><td>--</td><td>13.6</td><td>--</td><td>--</td><td>--</td><td>--</td><td>--</td><td>--</td><td>12.39</td><td>13.58</td><td>13.68</td><td>--</td><td>--</td><td>--</td><td>--</td><td>IRAS 21344+1233,PN G066.7-28.2</td><td>--</td><td>--</td><td>--</td></tr>\n",
       "<tr><td>NGC7139</td><td>PN</td><td>21:46:08.60</td><td>+63:47:31.0</td><td>Cep</td><td>1.28</td><td>--</td><td>--</td><td>13.0</td><td>--</td><td>--</td><td>--</td><td>--</td><td>--</td><td>--</td><td>--</td><td>--</td><td>18.72</td><td>--</td><td>--</td><td>--</td><td>--</td><td>IRAS 21448+6333,PN G104.1+07.9</td><td>--</td><td>--</td><td>--</td></tr>\n",
       "<tr><td>NGC7354</td><td>PN</td><td>22:40:19.61</td><td>+61:17:05.4</td><td>Cep</td><td>0.38</td><td>--</td><td>--</td><td>12.9</td><td>--</td><td>--</td><td>--</td><td>--</td><td>--</td><td>--</td><td>--</td><td>--</td><td>16.2</td><td>--</td><td>--</td><td>--</td><td>--</td><td>IRAS 22384+6101,PN G107.8+02.3</td><td>--</td><td>--</td><td>--</td></tr>\n",
       "</table>"
      ],
      "text/plain": [
       "<Table masked=True length=331>\n",
       "  name  type ...              ongcnotes              \n",
       " str13  str6 ...                str97                \n",
       "------- ---- ... ------------------------------------\n",
       " IC0132  HII ...         Diameters taken from SIMBAD.\n",
       " IC0133  HII ...         Diameters taken from SIMBAD.\n",
       " IC0135  HII ...                                   --\n",
       " IC0142  HII ...           Dimensions taken from LEDA\n",
       " IC0289   PN ...                                   --\n",
       " IC0466  HII ...           Dimensions taken from LEDA\n",
       " IC0972   PN ...                                   --\n",
       " IC1295   PN ...               B-Mag taken from LEDA.\n",
       " IC1454   PN ...               B-Mag taken from LEDA.\n",
       " IC1470  HII ...         Diameters taken from SIMBAD.\n",
       "    ...  ... ...                                  ...\n",
       "NGC6857  HII ... Dimensions and B-Mag taken from LEDA\n",
       "NGC6894   PN ...                                   --\n",
       "NGC6905   PN ...                                   --\n",
       "NGC7008   PN ...                                   --\n",
       "NGC7026   PN ...                                   --\n",
       "NGC7048   PN ...                                   --\n",
       "NGC7076   PN ...                                   --\n",
       "NGC7094   PN ...                                   --\n",
       "NGC7139   PN ...                                   --\n",
       "NGC7354   PN ...                                   --"
      ]
     },
     "execution_count": 41,
     "metadata": {},
     "output_type": "execute_result"
    }
   ],
   "source": [
    "keep = ( np.array(['*' not in tt for tt in NGC['type'].data]) * \n",
    "        np.array(['--' not in cc for cc in NGC['ra_hms'].data]) *\n",
    "        np.array(['--' not in cc for cc in NGC['dec_dms'].data]) *\n",
    "        (NGC['type'] != 'NonEx') * \n",
    "        (NGC['type'] != 'Dup') * \n",
    "        (NGC['type'] != 'Other') * \n",
    "        (NGC['type'] != 'Nova') * \n",
    "        (NGC['type'] != 'G') * \n",
    "        (NGC['type'] != 'GPair') * \n",
    "        (NGC['type'] != 'GTrpl') * \n",
    "        (ma.getdata(NGC['majax']) > 0.3) * (ma.getdata(NGC['majax']) < 2) * \n",
    "        (NGC['type'] != 'GGroup') )\n",
    "nobj = np.count_nonzero(keep)\n",
    "print('Keeping {} / {} objects'.format(nobj, len(NGC)))\n",
    "cat = NGC[keep]\n",
    "cat"
   ]
  },
  {
   "cell_type": "markdown",
   "metadata": {},
   "source": [
    "#### Convert coordinates in decimal degrees."
   ]
  },
  {
   "cell_type": "code",
   "execution_count": 42,
   "metadata": {},
   "outputs": [],
   "source": [
    "coord = SkyCoord(ra=cat['ra_hms'], dec=cat['dec_dms'], unit=(u.hourangle, u.deg))\n",
    "cat.add_column(Column(name='ra', unit='deg', length=nobj))\n",
    "cat.add_column(Column(name='dec', unit='deg', length=nobj))\n",
    "cat['ra'] = coord.ra.value\n",
    "cat['dec'] = coord.dec.value"
   ]
  },
  {
   "cell_type": "code",
   "execution_count": 56,
   "metadata": {},
   "outputs": [
    {
     "data": {
      "image/png": "[encoded data removed]",
      "text/plain": [
       "<matplotlib.figure.Figure at 0x2ab7dd3b8390>"
      ]
     },
     "metadata": {},
     "output_type": "display_data"
    }
   ],
   "source": [
    "fig, ax = plt.subplots()\n",
    "im = ax.scatter(cat['ra'], cat['dec'], c=cat['majax'])\n",
    "plt.colorbar(im)"
   ]
  },
  {
   "cell_type": "markdown",
   "metadata": {},
   "source": [
    "### Instantiate the LegacySurveyData class and then build the sample in the footprint."
   ]
  },
  {
   "cell_type": "code",
   "execution_count": 13,
   "metadata": {},
   "outputs": [],
   "source": [
    "survey = LegacySurveyData()"
   ]
  },
  {
   "cell_type": "code",
   "execution_count": 68,
   "metadata": {},
   "outputs": [],
   "source": [
    "def simple_wcs(obj, diam):\n",
    "    \"\"\"Build a simple WCS object for a single object.\"\"\"\n",
    "    size = np.rint(diam / PIXSCALE).astype('int') # [pixels]\n",
    "    wcs = Tan(obj['ra'], obj['dec'], size/2+0.5, size/2+0.5,\n",
    "                 -PIXSCALE/3600.0, 0.0, 0.0, PIXSCALE/3600.0, \n",
    "                 float(size), float(size))\n",
    "    return wcs"
   ]
  },
  {
   "cell_type": "code",
   "execution_count": 69,
   "metadata": {},
   "outputs": [],
   "source": [
    "def _build_sample_one(args):\n",
    "    \"\"\"Wrapper function for the multiprocessing.\"\"\"\n",
    "    return build_sample_one(*args)"
   ]
  },
  {
   "cell_type": "code",
   "execution_count": 87,
   "metadata": {},
   "outputs": [],
   "source": [
    "def build_sample_one(obj, factor=1.0, verbose=False):\n",
    "    \"\"\"Wrapper function to find overlapping grz CCDs for a given object.\n",
    "\n",
    "    First generously find the nearest set of CCDs that are near the galaxy and\n",
    "    then demand that there's 3-band coverage in a much smaller region centered\n",
    "    on the galaxy.\n",
    "\n",
    "    \"\"\"\n",
    "    print('Working on {}...'.format(obj['name'].strip()))\n",
    "    diam = factor * ma.getdata(obj['majax']) * 60.0 # diameter [arcsec]\n",
    "    wcs = simple_wcs(obj, diam)\n",
    "    try:\n",
    "        ccds = survey.ccds_touching_wcs(wcs) # , ccdrad=2*diam/3600)\n",
    "    except:\n",
    "        return [None, None]\n",
    "    \n",
    "    if ccds:\n",
    "        # Is there 3-band coverage?\n",
    "        if 'g' in ccds.filter and 'r' in ccds.filter and 'z' in ccds.filter:\n",
    "            if verbose:\n",
    "                print('For {} (type={}) found {} CCDs, RA = {:.5f}, Dec = {:.5f}, Diameter={:.4f} arcmin'.format(\n",
    "                        obj['name'], obj['type'], len(ccds), obj['ra'], obj['dec'], obj['majax']))\n",
    "            return [obj, ccds]\n",
    "    return [None, None]"
   ]
  },
  {
   "cell_type": "code",
   "execution_count": null,
   "metadata": {},
   "outputs": [],
   "source": [
    "def build_sample(factor=1.0):\n",
    "    \"\"\"Build the full sample with grz coverage in DR6.\"\"\"\n",
    "\n",
    "    sampleargs = list()\n",
    "    for cc in cat:\n",
    "        sampleargs.append( (cc, factor, True) ) # the False refers to verbose=False\n",
    "\n",
    "    if nproc > 1:\n",
    "        p = multiprocessing.Pool(nproc)\n",
    "        result = p.map(_build_sample_one, sampleargs)\n",
    "        p.close()\n",
    "    else:\n",
    "        result = list()\n",
    "        for args in sampleargs:\n",
    "            result.append(_build_sample_one(args))\n",
    "\n",
    "    # Remove non-matching objects and write out the sample\n",
    "    res = list(zip(*result))\n",
    "    outcat = vstack(list(filter(None, res[0])))\n",
    "    outccds = merge_tables(list(filter(None, res[1])))\n",
    "    print('Found {}/{} objects in the DR6 footprint.'.format(len(outcat), len(cat)))\n",
    "    \n",
    "    # Add a fracmasked column.\n",
    "    outcat.add_column(Column(name='fracmasked', shape=(3,), length=len(outcat), dtype='f2'))\n",
    "    \n",
    "    return outcat"
   ]
  },
  {
   "cell_type": "code",
   "execution_count": null,
   "metadata": {},
   "outputs": [],
   "source": [
    "sample = build_sample()"
   ]
  },
  {
   "cell_type": "code",
   "execution_count": null,
   "metadata": {},
   "outputs": [],
   "source": [
    "stop"
   ]
  },
  {
   "cell_type": "code",
   "execution_count": 149,
   "metadata": {},
   "outputs": [
    {
     "name": "stdout",
     "output_type": "stream",
     "text": [
      "Total Memory Available to Job:\n",
      "Maximum VMEM                      (RLIMIT_AS      ) :                   -1                   -1\n",
      "Maximum core file size            (RLIMIT_CORE    ) :                    0                   -1\n",
      "Maximum CPU time                  (RLIMIT_CPU     ) :                   -1                   -1\n",
      "Maximum file size                 (RLIMIT_FSIZE   ) :                   -1                   -1\n",
      "Maximum heap size                 (RLIMIT_DATA    ) :                   -1                   -1\n",
      "Maximum stack size                (RLIMIT_STACK   ) :                   -1                   -1\n",
      "Maximum resident set size         (RLIMIT_RSS     ) :                   -1                   -1\n",
      "Maximum number of processes       (RLIMIT_NPROC   ) :                 2048                 8192\n",
      "Maximum number of open files      (RLIMIT_NOFILE  ) :                 4096                65536\n",
      "Maximum lockable memory address   (RLIMIT_MEMLOCK ) :                   -1                   -1\n",
      "RA,Dec: (23.316334, 30.945612)\n",
      "Parsed RA,Dec 23.316333770751953 30.94561195373535\n",
      "Starting process 102965 Wall: -0.00 s, CPU: -0.00 s\n",
      "Runstage image_coadds\n",
      "Runstage mask_junk\n",
      "Runstage tims\n",
      "Running stage tims\n",
      "Running stage tims at 2018-02-20T12:06:54.735538\n",
      "Got brick: Wall: 0.00 s, CPU: 0.00 s\n",
      "Got brick wcs: Wall: 0.01 s, CPU: 0.00 s\n",
      "Got git version: Wall: 2.46 s, CPU: 2.44 s\n",
      "Got FITS header: Wall: 2.48 s, CPU: 2.45 s\n",
      "Cached file miss: /global/cscratch1/sd/desiproc/dr5-new/survey-ccds-dr5.kd.fits -/-> global/cscratch1/sd/dstn/dr5-new-sky/survey-ccds-dr5.kd.fits\n",
      "Searching /global/cscratch1/sd/desiproc/dr5-new/survey-ccds-dr5.kd.fits\n",
      "12 CCDs within 1.0 deg of RA,Dec (23.316, 30.946)\n",
      "Converted image_filename from |S65 to <U65\n",
      "Converted camera from |S7 to <U7\n",
      "Converted ccdname from |S4 to <U4\n",
      "Converted object from |S35 to <U35\n",
      "Converted propid from |S10 to <U10\n",
      "Converted filter from |S1 to <U1\n"
     ]
    },
    {
     "ename": "NothingToDoError",
     "evalue": "No CCDs touching brick",
     "output_type": "error",
     "traceback": [
      "\u001b[0;31m---------------------------------------------------------------------------\u001b[0m",
      "\u001b[0;31mNothingToDoError\u001b[0m                          Traceback (most recent call last)",
      "\u001b[0;32m<ipython-input-149-ec09e8060b96>\u001b[0m in \u001b[0;36m<module>\u001b[0;34m()\u001b[0m\n\u001b[1;32m      1\u001b[0m run_brick(None, survey, radec=(ra, dec), pixscale=PIXSCALE, early_coadds=True,\n\u001b[0;32m----> 2\u001b[0;31m           width=size, height=size, stages=['image_coadds'], splinesky=True)\n\u001b[0m",
      "\u001b[0;32m/global/cscratch1/sd/ioannis/repos/legacypipe/py/legacypipe/runbrick.py\u001b[0m in \u001b[0;36mrun_brick\u001b[0;34m(brick, survey, radec, pixscale, width, height, zoom, bands, allbands, depth_cut, nblobs, blob, blobxy, blobradec, blobid, max_blobsize, nsigma, simul_opt, wise, lanczos, early_coadds, blob_image, do_calibs, write_metrics, gaussPsf, pixPsf, hybridPsf, normalizePsf, apodize, rex, splinesky, constant_invvar, gaia_stars, ceres, wise_ceres, unwise_dir, unwise_tr_dir, threads, plots, plots2, coadd_bw, plot_base, plot_number, record_event, pickle_pat, stages, force, forceall, write_pickles, checkpoint_filename, checkpoint_period, prereqs_update, stagefunc)\u001b[0m\n\u001b[1;32m   2886\u001b[0m     \u001b[0;32mfor\u001b[0m \u001b[0mstage\u001b[0m \u001b[0;32min\u001b[0m \u001b[0mstages\u001b[0m\u001b[0;34m:\u001b[0m\u001b[0;34m\u001b[0m\u001b[0m\n\u001b[1;32m   2887\u001b[0m         R = runstage(stage, pickle_pat, mystagefunc, prereqs=prereqs,\n\u001b[0;32m-> 2888\u001b[0;31m                      initial_args=initargs, **kwargs)\n\u001b[0m\u001b[1;32m   2889\u001b[0m \u001b[0;34m\u001b[0m\u001b[0m\n\u001b[1;32m   2890\u001b[0m     \u001b[0mprint\u001b[0m\u001b[0;34m(\u001b[0m\u001b[0;34m'All done:'\u001b[0m\u001b[0;34m,\u001b[0m \u001b[0mStageTime\u001b[0m\u001b[0;34m(\u001b[0m\u001b[0;34m)\u001b[0m\u001b[0;34m-\u001b[0m\u001b[0mt0\u001b[0m\u001b[0;34m)\u001b[0m\u001b[0;34m\u001b[0m\u001b[0m\n",
      "\u001b[0;32m/global/common/cori/contrib/desi/desiconda/20170818-1.1.12-img/aux/lib/python3.5/site-packages/astrometry/util/stages.py\u001b[0m in \u001b[0;36mrunstage\u001b[0;34m(stage, picklepat, stagefunc, force, forceall, prereqs, update, write, initial_args, **kwargs)\u001b[0m\n\u001b[1;32m    108\u001b[0m         P = runstage(prereq, picklepat, stagefunc,\n\u001b[1;32m    109\u001b[0m                      \u001b[0mforce\u001b[0m\u001b[0;34m=\u001b[0m\u001b[0mforce\u001b[0m\u001b[0;34m,\u001b[0m \u001b[0mforceall\u001b[0m\u001b[0;34m=\u001b[0m\u001b[0mforceall\u001b[0m\u001b[0;34m,\u001b[0m \u001b[0mprereqs\u001b[0m\u001b[0;34m=\u001b[0m\u001b[0mprereqs\u001b[0m\u001b[0;34m,\u001b[0m \u001b[0mupdate\u001b[0m\u001b[0;34m=\u001b[0m\u001b[0mupdate\u001b[0m\u001b[0;34m,\u001b[0m\u001b[0;34m\u001b[0m\u001b[0m\n\u001b[0;32m--> 110\u001b[0;31m                      write=write, initial_args=initial_args, **kwargs)\n\u001b[0m\u001b[1;32m    111\u001b[0m \u001b[0;34m\u001b[0m\u001b[0m\n\u001b[1;32m    112\u001b[0m     \u001b[0;31m#P.update(kwargs)\u001b[0m\u001b[0;34m\u001b[0m\u001b[0;34m\u001b[0m\u001b[0m\n",
      "\u001b[0;32m/global/common/cori/contrib/desi/desiconda/20170818-1.1.12-img/aux/lib/python3.5/site-packages/astrometry/util/stages.py\u001b[0m in \u001b[0;36mrunstage\u001b[0;34m(stage, picklepat, stagefunc, force, forceall, prereqs, update, write, initial_args, **kwargs)\u001b[0m\n\u001b[1;32m    108\u001b[0m         P = runstage(prereq, picklepat, stagefunc,\n\u001b[1;32m    109\u001b[0m                      \u001b[0mforce\u001b[0m\u001b[0;34m=\u001b[0m\u001b[0mforce\u001b[0m\u001b[0;34m,\u001b[0m \u001b[0mforceall\u001b[0m\u001b[0;34m=\u001b[0m\u001b[0mforceall\u001b[0m\u001b[0;34m,\u001b[0m \u001b[0mprereqs\u001b[0m\u001b[0;34m=\u001b[0m\u001b[0mprereqs\u001b[0m\u001b[0;34m,\u001b[0m \u001b[0mupdate\u001b[0m\u001b[0;34m=\u001b[0m\u001b[0mupdate\u001b[0m\u001b[0;34m,\u001b[0m\u001b[0;34m\u001b[0m\u001b[0m\n\u001b[0;32m--> 110\u001b[0;31m                      write=write, initial_args=initial_args, **kwargs)\n\u001b[0m\u001b[1;32m    111\u001b[0m \u001b[0;34m\u001b[0m\u001b[0m\n\u001b[1;32m    112\u001b[0m     \u001b[0;31m#P.update(kwargs)\u001b[0m\u001b[0;34m\u001b[0m\u001b[0;34m\u001b[0m\u001b[0m\n",
      "\u001b[0;32m/global/common/cori/contrib/desi/desiconda/20170818-1.1.12-img/aux/lib/python3.5/site-packages/astrometry/util/stages.py\u001b[0m in \u001b[0;36mrunstage\u001b[0;34m(stage, picklepat, stagefunc, force, forceall, prereqs, update, write, initial_args, **kwargs)\u001b[0m\n\u001b[1;32m    119\u001b[0m     \u001b[0;31m# print('Combined keys:', Px.keys())\u001b[0m\u001b[0;34m\u001b[0m\u001b[0;34m\u001b[0m\u001b[0m\n\u001b[1;32m    120\u001b[0m \u001b[0;34m\u001b[0m\u001b[0m\n\u001b[0;32m--> 121\u001b[0;31m     \u001b[0mR\u001b[0m \u001b[0;34m=\u001b[0m \u001b[0mstagefunc\u001b[0m\u001b[0;34m(\u001b[0m\u001b[0mstage\u001b[0m\u001b[0;34m,\u001b[0m \u001b[0;34m**\u001b[0m\u001b[0mPx\u001b[0m\u001b[0;34m)\u001b[0m\u001b[0;34m\u001b[0m\u001b[0m\n\u001b[0m\u001b[1;32m    122\u001b[0m     \u001b[0mprint\u001b[0m\u001b[0;34m(\u001b[0m\u001b[0;34m'Stage'\u001b[0m\u001b[0;34m,\u001b[0m \u001b[0mstage\u001b[0m\u001b[0;34m,\u001b[0m \u001b[0;34m'finished'\u001b[0m\u001b[0;34m)\u001b[0m\u001b[0;34m\u001b[0m\u001b[0m\n\u001b[1;32m    123\u001b[0m     \u001b[0;31m# if R is not None:\u001b[0m\u001b[0;34m\u001b[0m\u001b[0;34m\u001b[0m\u001b[0m\n",
      "\u001b[0;32m/global/cscratch1/sd/ioannis/repos/legacypipe/py/legacypipe/runbrick.py\u001b[0m in \u001b[0;36mmystagefunc\u001b[0;34m(stage, mp, **kwargs)\u001b[0m\n\u001b[1;32m   2874\u001b[0m             \u001b[0mmp\u001b[0m\u001b[0;34m.\u001b[0m\u001b[0mmap\u001b[0m\u001b[0;34m(\u001b[0m\u001b[0mflush\u001b[0m\u001b[0;34m,\u001b[0m \u001b[0;34m[\u001b[0m\u001b[0;34m[\u001b[0m\u001b[0;34m]\u001b[0m\u001b[0;34m]\u001b[0m \u001b[0;34m*\u001b[0m \u001b[0mthreads\u001b[0m\u001b[0;34m)\u001b[0m\u001b[0;34m\u001b[0m\u001b[0m\n\u001b[1;32m   2875\u001b[0m         \u001b[0mstaget0\u001b[0m \u001b[0;34m=\u001b[0m \u001b[0mStageTime\u001b[0m\u001b[0;34m(\u001b[0m\u001b[0;34m)\u001b[0m\u001b[0;34m\u001b[0m\u001b[0m\n\u001b[0;32m-> 2876\u001b[0;31m         \u001b[0mR\u001b[0m \u001b[0;34m=\u001b[0m \u001b[0mstagefunc\u001b[0m\u001b[0;34m(\u001b[0m\u001b[0mstage\u001b[0m\u001b[0;34m,\u001b[0m \u001b[0mmp\u001b[0m\u001b[0;34m=\u001b[0m\u001b[0mmp\u001b[0m\u001b[0;34m,\u001b[0m \u001b[0;34m**\u001b[0m\u001b[0mkwargs\u001b[0m\u001b[0;34m)\u001b[0m\u001b[0;34m\u001b[0m\u001b[0m\n\u001b[0m\u001b[1;32m   2877\u001b[0m         \u001b[0mflush\u001b[0m\u001b[0;34m(\u001b[0m\u001b[0;34m)\u001b[0m\u001b[0;34m\u001b[0m\u001b[0m\n\u001b[1;32m   2878\u001b[0m         \u001b[0;32mif\u001b[0m \u001b[0mmp\u001b[0m \u001b[0;32mis\u001b[0m \u001b[0;32mnot\u001b[0m \u001b[0;32mNone\u001b[0m \u001b[0;32mand\u001b[0m \u001b[0mthreads\u001b[0m \u001b[0;32mis\u001b[0m \u001b[0;32mnot\u001b[0m \u001b[0;32mNone\u001b[0m \u001b[0;32mand\u001b[0m \u001b[0mthreads\u001b[0m \u001b[0;34m>\u001b[0m \u001b[0;36m1\u001b[0m\u001b[0;34m:\u001b[0m\u001b[0;34m\u001b[0m\u001b[0m\n",
      "\u001b[0;32m/global/common/cori/contrib/desi/desiconda/20170818-1.1.12-img/aux/lib/python3.5/site-packages/astrometry/util/stages.py\u001b[0m in \u001b[0;36m__call__\u001b[0;34m(self, stage, **kwargs)\u001b[0m\n\u001b[1;32m     38\u001b[0m         \u001b[0mt0\u001b[0m \u001b[0;34m=\u001b[0m \u001b[0mTime\u001b[0m\u001b[0;34m(\u001b[0m\u001b[0;34m)\u001b[0m\u001b[0;34m\u001b[0m\u001b[0m\n\u001b[1;32m     39\u001b[0m         \u001b[0mprint\u001b[0m\u001b[0;34m(\u001b[0m\u001b[0;34m'Running stage'\u001b[0m\u001b[0;34m,\u001b[0m \u001b[0mstage\u001b[0m\u001b[0;34m,\u001b[0m \u001b[0;34m'at'\u001b[0m\u001b[0;34m,\u001b[0m \u001b[0mdatetime\u001b[0m\u001b[0;34m.\u001b[0m\u001b[0mnow\u001b[0m\u001b[0;34m(\u001b[0m\u001b[0;34m)\u001b[0m\u001b[0;34m.\u001b[0m\u001b[0misoformat\u001b[0m\u001b[0;34m(\u001b[0m\u001b[0;34m)\u001b[0m\u001b[0;34m)\u001b[0m\u001b[0;34m\u001b[0m\u001b[0m\n\u001b[0;32m---> 40\u001b[0;31m         \u001b[0mrtn\u001b[0m \u001b[0;34m=\u001b[0m \u001b[0msuper\u001b[0m\u001b[0;34m(\u001b[0m\u001b[0mCallGlobalTime\u001b[0m\u001b[0;34m,\u001b[0m \u001b[0mself\u001b[0m\u001b[0;34m)\u001b[0m\u001b[0;34m.\u001b[0m\u001b[0m__call__\u001b[0m\u001b[0;34m(\u001b[0m\u001b[0mstage\u001b[0m\u001b[0;34m,\u001b[0m \u001b[0;34m**\u001b[0m\u001b[0mkwargs\u001b[0m\u001b[0;34m)\u001b[0m\u001b[0;34m\u001b[0m\u001b[0m\n\u001b[0m\u001b[1;32m     41\u001b[0m         \u001b[0mt1\u001b[0m \u001b[0;34m=\u001b[0m \u001b[0mTime\u001b[0m\u001b[0;34m(\u001b[0m\u001b[0;34m)\u001b[0m\u001b[0;34m\u001b[0m\u001b[0m\n\u001b[1;32m     42\u001b[0m         \u001b[0mprint\u001b[0m\u001b[0;34m(\u001b[0m\u001b[0;34m'Stage'\u001b[0m\u001b[0;34m,\u001b[0m \u001b[0mstage\u001b[0m\u001b[0;34m,\u001b[0m \u001b[0;34m':'\u001b[0m\u001b[0;34m,\u001b[0m \u001b[0mt1\u001b[0m\u001b[0;34m-\u001b[0m\u001b[0mt0\u001b[0m\u001b[0;34m)\u001b[0m\u001b[0;34m\u001b[0m\u001b[0m\n",
      "\u001b[0;32m/global/common/cori/contrib/desi/desiconda/20170818-1.1.12-img/aux/lib/python3.5/site-packages/astrometry/util/stages.py\u001b[0m in \u001b[0;36m__call__\u001b[0;34m(self, stage, **kwargs)\u001b[0m\n\u001b[1;32m     30\u001b[0m         \u001b[0mfunc\u001b[0m \u001b[0;34m=\u001b[0m \u001b[0mself\u001b[0m\u001b[0;34m.\u001b[0m\u001b[0mgetfunc\u001b[0m\u001b[0;34m(\u001b[0m\u001b[0mstage\u001b[0m\u001b[0;34m)\u001b[0m\u001b[0;34m\u001b[0m\u001b[0m\n\u001b[1;32m     31\u001b[0m         \u001b[0mkwa\u001b[0m \u001b[0;34m=\u001b[0m \u001b[0mself\u001b[0m\u001b[0;34m.\u001b[0m\u001b[0mgetkwargs\u001b[0m\u001b[0;34m(\u001b[0m\u001b[0mstage\u001b[0m\u001b[0;34m,\u001b[0m \u001b[0;34m**\u001b[0m\u001b[0mkwargs\u001b[0m\u001b[0;34m)\u001b[0m\u001b[0;34m\u001b[0m\u001b[0m\n\u001b[0;32m---> 32\u001b[0;31m         \u001b[0;32mreturn\u001b[0m \u001b[0mfunc\u001b[0m\u001b[0;34m(\u001b[0m\u001b[0;34m*\u001b[0m\u001b[0mself\u001b[0m\u001b[0;34m.\u001b[0m\u001b[0margs\u001b[0m\u001b[0;34m,\u001b[0m \u001b[0;34m**\u001b[0m\u001b[0mkwa\u001b[0m\u001b[0;34m)\u001b[0m\u001b[0;34m\u001b[0m\u001b[0m\n\u001b[0m\u001b[1;32m     33\u001b[0m \u001b[0;34m\u001b[0m\u001b[0m\n\u001b[1;32m     34\u001b[0m \u001b[0;32mclass\u001b[0m \u001b[0mCallGlobalTime\u001b[0m\u001b[0;34m(\u001b[0m\u001b[0mCallGlobal\u001b[0m\u001b[0;34m)\u001b[0m\u001b[0;34m:\u001b[0m\u001b[0;34m\u001b[0m\u001b[0m\n",
      "\u001b[0;32m/global/cscratch1/sd/ioannis/repos/legacypipe/py/legacypipe/runbrick.py\u001b[0m in \u001b[0;36mstage_tims\u001b[0;34m(W, H, pixscale, brickname, survey, ra, dec, plots, ps, target_extent, program_name, bands, do_calibs, splinesky, gaussPsf, pixPsf, hybridPsf, normalizePsf, apodize, constant_invvar, depth_cut, read_image_pixels, mp, record_event, **kwargs)\u001b[0m\n\u001b[1;32m    256\u001b[0m     \u001b[0mccds\u001b[0m \u001b[0;34m=\u001b[0m \u001b[0msurvey\u001b[0m\u001b[0;34m.\u001b[0m\u001b[0mccds_touching_wcs\u001b[0m\u001b[0;34m(\u001b[0m\u001b[0mtargetwcs\u001b[0m\u001b[0;34m,\u001b[0m \u001b[0mccdrad\u001b[0m\u001b[0;34m=\u001b[0m\u001b[0;32mNone\u001b[0m\u001b[0;34m)\u001b[0m\u001b[0;34m\u001b[0m\u001b[0m\n\u001b[1;32m    257\u001b[0m     \u001b[0;32mif\u001b[0m \u001b[0mccds\u001b[0m \u001b[0;32mis\u001b[0m \u001b[0;32mNone\u001b[0m\u001b[0;34m:\u001b[0m\u001b[0;34m\u001b[0m\u001b[0m\n\u001b[0;32m--> 258\u001b[0;31m         \u001b[0;32mraise\u001b[0m \u001b[0mNothingToDoError\u001b[0m\u001b[0;34m(\u001b[0m\u001b[0;34m'No CCDs touching brick'\u001b[0m\u001b[0;34m)\u001b[0m\u001b[0;34m\u001b[0m\u001b[0m\n\u001b[0m\u001b[1;32m    259\u001b[0m     \u001b[0mprint\u001b[0m\u001b[0;34m(\u001b[0m\u001b[0mlen\u001b[0m\u001b[0;34m(\u001b[0m\u001b[0mccds\u001b[0m\u001b[0;34m)\u001b[0m\u001b[0;34m,\u001b[0m \u001b[0;34m'CCDs touching target WCS'\u001b[0m\u001b[0;34m)\u001b[0m\u001b[0;34m\u001b[0m\u001b[0m\n\u001b[1;32m    260\u001b[0m \u001b[0;34m\u001b[0m\u001b[0m\n",
      "\u001b[0;31mNothingToDoError\u001b[0m: No CCDs touching brick"
     ]
    }
   ],
   "source": [
    "run_brick(None, survey, radec=(ra, dec), pixscale=PIXSCALE, early_coadds=True,\n",
    "          width=size, height=size, stages=['image_coadds'], splinesky=True)"
   ]
  },
  {
   "cell_type": "code",
   "execution_count": 30,
   "metadata": {},
   "outputs": [
    {
     "name": "stdout",
     "output_type": "stream",
     "text": [
      "Working on IC0132...\n",
      "Searching /global/projecta/projectdirs/cosmo/work/legacysurvey/dr6/survey-ccds-dr6plus.kd.fits\n",
      "199 CCDs within 1.0 deg of RA,Dec (23.316, 30.946)\n",
      "Converted image_filename from |S55 to <U55\n",
      "Converted camera from |S7 to <U7\n",
      "Converted ccdname from |S4 to <U4\n",
      "Converted object from |S24 to <U24\n",
      "Converted propid from |S10 to <U10\n",
      "Converted filter from |S1 to <U1\n"
     ]
    }
   ],
   "source": [
    "obj, ccds = build_sample_one(cat[0])"
   ]
  },
  {
   "cell_type": "code",
   "execution_count": 147,
   "metadata": {},
   "outputs": [
    {
     "name": "stdout",
     "output_type": "stream",
     "text": [
      "23.3163 30.9456 171\n"
     ]
    },
    {
     "data": {
      "text/html": [
       "&lt;Row index=0 masked=True&gt;\n",
       "<table id=\"table47150061233320\">\n",
       "<thead><tr><th>name</th><th>type</th><th>ra_hms</th><th>dec_dms</th><th>const</th><th>majax</th><th>minax</th><th>pa</th><th>bmag</th><th>vmag</th><th>jmag</th><th>hmag</th><th>kmag</th><th>sbrightn</th><th>hubble</th><th>cstarumag</th><th>cstarbmag</th><th>cstarvmag</th><th>messier</th><th>ngc</th><th>ic</th><th>cstarnames</th><th>identifiers</th><th>commonnames</th><th>nednotes</th><th>ongcnotes</th><th>ra</th><th>dec</th></tr></thead>\n",
       "<thead><tr><th>str13</th><th>str6</th><th>str11</th><th>str11</th><th>str3</th><th>float64</th><th>float64</th><th>int64</th><th>float64</th><th>float64</th><th>float64</th><th>float64</th><th>float64</th><th>float64</th><th>str4</th><th>float64</th><th>float64</th><th>float64</th><th>int64</th><th>str10</th><th>str14</th><th>str51</th><th>str211</th><th>str56</th><th>str80</th><th>str97</th><th>float64</th><th>float64</th></tr></thead>\n",
       "<tr><td>IC0132</td><td>HII</td><td>01:33:15.92</td><td>+30:56:44.2</td><td>Tri</td><td>0.67</td><td>0.55</td><td>--</td><td>14.87</td><td>14.82</td><td>--</td><td>--</td><td>--</td><td>--</td><td>--</td><td>--</td><td>--</td><td>--</td><td>--</td><td>--</td><td>--</td><td>--</td><td>--</td><td>--</td><td>--</td><td>Diameters taken from SIMBAD.</td><td>23.3163333333</td><td>30.9456111111</td></tr>\n",
       "</table>"
      ],
      "text/plain": [
       "<Row index=0 masked=True>\n",
       " name  type    ra_hms     dec_dms   const  majax   minax    pa    bmag    vmag    jmag    hmag    kmag  sbrightn hubble cstarumag cstarbmag cstarvmag messier  ngc    ic  cstarnames identifiers commonnames nednotes          ongcnotes                 ra           dec     \n",
       "str13  str6    str11       str11     str3 float64 float64 int64 float64 float64 float64 float64 float64 float64   str4   float64   float64   float64   int64  str10 str14   str51       str211      str56     str80              str97                float64       float64   \n",
       "------ ---- ----------- ----------- ----- ------- ------- ----- ------- ------- ------- ------- ------- -------- ------ --------- --------- --------- ------- ----- ----- ---------- ----------- ----------- -------- ---------------------------- ------------- -------------\n",
       "IC0132  HII 01:33:15.92 +30:56:44.2   Tri    0.67    0.55    --   14.87   14.82      --      --      --       --     --        --        --        --      --    --    --         --          --          --       -- Diameters taken from SIMBAD. 23.3163333333 30.9456111111"
      ]
     },
     "execution_count": 147,
     "metadata": {},
     "output_type": "execute_result"
    }
   ],
   "source": [
    "obj = cat[0]         \n",
    "size = np.rint(2*obj['majax'] * 60 / PIXSCALE).astype('int') # [pixels]\n",
    "ra = obj['ra'].astype('f4')\n",
    "dec = obj['dec'].astype('f4')\n",
    "print(ra, dec, size)\n",
    "obj"
   ]
  },
  {
   "cell_type": "markdown",
   "metadata": {},
   "source": [
    "### Build the parent sample of galaxies in the DR5 footprint."
   ]
  },
  {
   "cell_type": "code",
   "execution_count": 14,
   "metadata": {
    "collapsed": true
   },
   "outputs": [],
   "source": [
    "def _uniqccds(ccds):\n",
    "    '''Get the unique set of CCD files.'''\n",
    "    ccdfile = []\n",
    "    [ccdfile.append('{}-{}'.format(expnum, ccdname)) for expnum,\n",
    "     ccdname in zip(ccds.expnum, ccds.ccdname)]\n",
    "    _, indx = np.unique(ccdfile, return_index=True)\n",
    "    return ccds[indx]"
   ]
  },
  {
   "cell_type": "code",
   "execution_count": 10,
   "metadata": {},
   "outputs": [
    {
     "name": "stdout",
     "output_type": "stream",
     "text": [
      "Converted brickname from |S8 to <U8\n",
      "Reading annotated CCDs from /global/cscratch1/sd/desiproc/dr5/ccds-annotated-run19.fits.gz\n",
      "Converted object from |S37 to <U37\n",
      "Converted filter from |S1 to <U1\n",
      "Converted date_obs from |S10 to <U10\n",
      "Converted ut from |S15 to <U15\n",
      "Converted ha from |S13 to <U13\n",
      "Converted propid from |S10 to <U10\n",
      "Converted ccdname from |S3 to <U3\n",
      "Converted camera from |S5 to <U5\n",
      "Converted expid from |S12 to <U12\n",
      "Converted image_filename from |S51 to <U51\n",
      "Converted plver from |S6 to <U6\n",
      "Got 73860 CCDs\n",
      "Reading annotated CCDs from /global/cscratch1/sd/desiproc/dr5/ccds-annotated-decals.fits.gz\n",
      "Converted object from |S37 to <U37\n",
      "Converted filter from |S1 to <U1\n",
      "Converted date_obs from |S10 to <U10\n",
      "Converted ut from |S15 to <U15\n",
      "Converted ha from |S13 to <U13\n",
      "Converted propid from |S10 to <U10\n",
      "Converted ccdname from |S3 to <U3\n",
      "Converted camera from |S5 to <U5\n",
      "Converted expid from |S12 to <U12\n",
      "Converted image_filename from |S61 to <U61\n",
      "Converted plver from |S6 to <U6\n",
      "Got 493440 CCDs\n",
      "Reading annotated CCDs from /global/cscratch1/sd/desiproc/dr5/ccds-annotated-run28.fits.gz\n",
      "Converted object from |S37 to <U37\n",
      "Converted filter from |S1 to <U1\n",
      "Converted date_obs from |S10 to <U10\n",
      "Converted ut from |S15 to <U15\n",
      "Converted ha from |S13 to <U13\n",
      "Converted propid from |S10 to <U10\n",
      "Converted ccdname from |S3 to <U3\n",
      "Converted camera from |S5 to <U5\n",
      "Converted expid from |S12 to <U12\n",
      "Converted image_filename from |S51 to <U51\n",
      "Converted plver from |S6 to <U6\n",
      "Got 86986 CCDs\n",
      "Reading annotated CCDs from /global/cscratch1/sd/desiproc/dr5/ccds-annotated-extra.fits.gz\n",
      "Converted object from |S37 to <U37\n",
      "Converted filter from |S1 to <U1\n",
      "Converted date_obs from |S10 to <U10\n",
      "Converted ut from |S15 to <U15\n",
      "Converted ha from |S13 to <U13\n",
      "Converted propid from |S10 to <U10\n",
      "Converted ccdname from |S3 to <U3\n",
      "Converted camera from |S5 to <U5\n",
      "Converted expid from |S12 to <U12\n",
      "Converted image_filename from |S61 to <U61\n",
      "Converted plver from |S6 to <U6\n",
      "Got 487556 CCDs\n",
      "Reading annotated CCDs from /global/cscratch1/sd/desiproc/dr5/ccds-annotated-nondecals.fits.gz\n",
      "Converted object from |S37 to <U37\n",
      "Converted filter from |S1 to <U1\n",
      "Converted date_obs from |S10 to <U10\n",
      "Converted ut from |S15 to <U15\n",
      "Converted ha from |S13 to <U13\n",
      "Converted propid from |S10 to <U10\n",
      "Converted ccdname from |S3 to <U3\n",
      "Converted camera from |S5 to <U5\n",
      "Converted expid from |S12 to <U12\n",
      "Converted image_filename from |S61 to <U61\n",
      "Converted plver from |S6 to <U6\n",
      "Got 670810 CCDs\n",
      "Reading annotated CCDs from /global/cscratch1/sd/desiproc/dr5/ccds-annotated-run21.fits.gz\n",
      "Converted object from |S37 to <U37\n",
      "Converted filter from |S1 to <U1\n",
      "Converted date_obs from |S10 to <U10\n",
      "Converted ut from |S15 to <U15\n",
      "Converted ha from |S13 to <U13\n",
      "Converted propid from |S10 to <U10\n",
      "Converted ccdname from |S3 to <U3\n",
      "Converted camera from |S5 to <U5\n",
      "Converted expid from |S12 to <U12\n",
      "Converted image_filename from |S51 to <U51\n",
      "Converted plver from |S6 to <U6\n",
      "Got 39720 CCDs\n",
      "Reading annotated CCDs from /global/cscratch1/sd/desiproc/dr5/ccds-annotated-run27.fits.gz\n",
      "Converted object from |S37 to <U37\n",
      "Converted filter from |S1 to <U1\n",
      "Converted date_obs from |S10 to <U10\n",
      "Converted ut from |S15 to <U15\n",
      "Converted ha from |S13 to <U13\n",
      "Converted propid from |S10 to <U10\n",
      "Converted ccdname from |S3 to <U3\n",
      "Converted camera from |S5 to <U5\n",
      "Converted expid from |S12 to <U12\n",
      "Converted image_filename from |S51 to <U51\n",
      "Converted plver from |S6 to <U6\n",
      "Got 91866 CCDs\n",
      "Reading annotated CCDs from /global/cscratch1/sd/desiproc/dr5/ccds-annotated-nondecals-dr5.fits.gz\n",
      "Converted object from |S37 to <U37\n",
      "Converted filter from |S1 to <U1\n",
      "Converted date_obs from |S10 to <U10\n",
      "Converted ut from |S15 to <U15\n",
      "Converted ha from |S13 to <U13\n",
      "Converted propid from |S10 to <U10\n",
      "Converted ccdname from |S3 to <U3\n",
      "Converted temp from |S32 to <U32\n",
      "Converted camera from |S5 to <U5\n",
      "Converted expid from |S12 to <U12\n",
      "Converted image_filename from |S65 to <U65\n",
      "Converted plver from |S6 to <U6\n",
      "Got 551580 CCDs\n",
      "Reading annotated CCDs from /global/cscratch1/sd/desiproc/dr5/ccds-annotated-run14.fits.gz\n",
      "Converted object from |S37 to <U37\n",
      "Converted filter from |S1 to <U1\n",
      "Converted date_obs from |S10 to <U10\n",
      "Converted ut from |S15 to <U15\n",
      "Converted ha from |S13 to <U13\n",
      "Converted propid from |S10 to <U10\n",
      "Converted ccdname from |S3 to <U3\n",
      "Converted camera from |S5 to <U5\n",
      "Converted expid from |S12 to <U12\n",
      "Converted image_filename from |S51 to <U51\n",
      "Converted plver from |S6 to <U6\n",
      "Got 85020 CCDs\n",
      "Reading annotated CCDs from /global/cscratch1/sd/desiproc/dr5/ccds-annotated-run16.fits.gz\n",
      "Converted object from |S37 to <U37\n",
      "Converted filter from |S1 to <U1\n",
      "Converted date_obs from |S10 to <U10\n",
      "Converted ut from |S15 to <U15\n",
      "Converted ha from |S13 to <U13\n",
      "Converted propid from |S10 to <U10\n",
      "Converted ccdname from |S3 to <U3\n",
      "Converted camera from |S5 to <U5\n",
      "Converted expid from |S12 to <U12\n",
      "Converted image_filename from |S51 to <U51\n",
      "Converted plver from |S6 to <U6\n",
      "Got 40200 CCDs\n",
      "Reading annotated CCDs from /global/cscratch1/sd/desiproc/dr5/ccds-annotated-run25.fits.gz\n",
      "Converted object from |S37 to <U37\n",
      "Converted filter from |S1 to <U1\n",
      "Converted date_obs from |S10 to <U10\n",
      "Converted ut from |S15 to <U15\n",
      "Converted ha from |S13 to <U13\n",
      "Converted propid from |S10 to <U10\n",
      "Converted ccdname from |S3 to <U3\n",
      "Converted camera from |S5 to <U5\n",
      "Converted expid from |S12 to <U12\n",
      "Converted image_filename from |S51 to <U51\n",
      "Converted plver from |S6 to <U6\n",
      "Got 121085 CCDs\n",
      "Total of 2742123 CCDs\n",
      "Finding photometric CCDs.  Cameras: ['decam']\n",
      "Checking 2742123 images from camera decam\n",
      "Flagged 8007 more non-photometric using criterion: exptime < 30 s\n",
      "Flagged 91271 more non-photometric using criterion: ccdnmatch < 20\n",
      "Flagged 15502 more non-photometric using criterion: abs(zpt - ccdzpt) > 0.1\n",
      "Flagged 114979 more non-photometric using criterion: zpt < 0.5 mag of nominal\n",
      "Flagged 0 more non-photometric using criterion: zpt > 0.25 mag of nominal\n",
      "Keeping 2512364 photometric CCDs from camera decam\n",
      "Computing CCD cuts.  Cameras: ['decam']\n",
      "Checking 2512364 images from camera decam\n",
      "Read 2512364 CCDs.\n"
     ]
    }
   ],
   "source": [
    "bricks = survey.get_bricks()\n",
    "allccds = survey.get_annotated_ccds()\n",
    "cut = survey.photometric_ccds(allccds)\n",
    "if cut is not None:\n",
    "    allccds.cut(cut)\n",
    "cut = survey.ccd_cuts(allccds)\n",
    "allccds.cut(cut == 0)\n",
    "print('Read {} CCDs.'.format(len(allccds)))"
   ]
  },
  {
   "cell_type": "code",
   "execution_count": 19,
   "metadata": {},
   "outputs": [
    {
     "name": "stdout",
     "output_type": "stream",
     "text": [
      "Found 271/1300 galaxies and groups in the DR5 footprint.\n",
      "CPU times: user 28.7 s, sys: 164 ms, total: 28.9 s\n",
      "Wall time: 28.9 s\n"
     ]
    },
    {
     "data": {
      "text/html": [
       "&lt;Table length=271&gt;\n",
       "<table id=\"table47990738975432\" class=\"table-striped table-bordered table-condensed\">\n",
       "<thead><tr><th>GROUPID</th><th>GALAXY</th><th>NMEMBERS</th><th>RA</th><th>DEC</th><th>DIAMETER</th><th>D25MAX</th><th>D25MIN</th><th>BRICKNAME [6]</th><th>FRACMASKED [3]</th></tr></thead>\n",
       "<thead><tr><th>int32</th><th>str1000</th><th>int32</th><th>float64</th><th>float64</th><th>float32</th><th>float32</th><th>float32</th><th>bytes20</th><th>float16</th></tr></thead>\n",
       "<tr><td>614652</td><td>NGC0127,NGC0128,NGC0130</td><td>3</td><td>7.3139</td><td>2.86903333333</td><td>189.737</td><td>189.737</td><td>42.4767</td><td>0073p027 ..</td><td>0.0 .. 0.0</td></tr>\n",
       "<tr><td>615005</td><td>PGC1036047,PGC1036361,PGC1036593</td><td>3</td><td>8.2232</td><td>-6.13836333333</td><td>201.951</td><td>53.4751</td><td>28.0641</td><td>0081m062 ..</td><td>0.0 .. 0.0</td></tr>\n",
       "<tr><td>615052</td><td>PGC1028413,PGC143577,PGC143579</td><td>3</td><td>8.3796</td><td>-6.82209333333</td><td>151.885</td><td>27.4253</td><td>24.4428</td><td>0084m067 ..</td><td>0.0 .. 0.0</td></tr>\n",
       "<tr><td>615465</td><td>PGC1101085,PGC1100823,PGC1100450</td><td>3</td><td>9.30705</td><td>-2.13501666667</td><td>141.452</td><td>37.8574</td><td>25.0122</td><td>0093m022 ..</td><td>0.0 .. 0.0</td></tr>\n",
       "<tr><td>615699</td><td>NGC0192,NGC0196,NGC0197</td><td>3</td><td>9.8195</td><td>0.889566666667</td><td>212.301</td><td>122.504</td><td>55.9953</td><td>0098p007 ..</td><td>0.0 .. 0.0</td></tr>\n",
       "<tr><td>616634</td><td>PGC842319,NGC0247B,ESO540-024,ESO540-025,PGC002798</td><td>5</td><td>11.89698</td><td>-20.456582</td><td>480.295</td><td>62.8277</td><td>31.4885</td><td>0118m205 ..</td><td>0.0 .. 0.0</td></tr>\n",
       "<tr><td>616934</td><td>PGC090503,PGC1244573,PGC1244244</td><td>3</td><td>12.65625</td><td>3.07869666667</td><td>151.249</td><td>39.6416</td><td>28.0641</td><td>0126p030 ..</td><td>0.0 .. 0.0</td></tr>\n",
       "<tr><td>617056</td><td>IC0055,PGC1328252,PGC1328284</td><td>3</td><td>12.95565</td><td>7.69844333333</td><td>258.555</td><td>47.6597</td><td>26.1909</td><td>0129p077 ..</td><td>0.0 .. 0.0</td></tr>\n",
       "<tr><td>617185</td><td>PGC173062,PGC173063,PGC173070</td><td>3</td><td>13.28545</td><td>-3.63262</td><td>196.097</td><td>47.6597</td><td>30.7717</td><td>0131m037 ..</td><td>0.0 .. 0.0</td></tr>\n",
       "<tr><td>618099</td><td>PGC003597,PGC914550,PGC173260</td><td>3</td><td>15.12245</td><td>-15.18764</td><td>219.216</td><td>48.7698</td><td>25.0122</td><td>0151m152 ..</td><td>0.0 .. 0.0</td></tr>\n",
       "<tr><td>...</td><td>...</td><td>...</td><td>...</td><td>...</td><td>...</td><td>...</td><td>...</td><td>...</td><td>...</td></tr>\n",
       "<tr><td>702612</td><td>PGC1016425,PGC1016359,PGC1016757,PGC3103716</td><td>4</td><td>328.2866625</td><td>-7.585455</td><td>188.898</td><td>52.2578</td><td>25.5948</td><td>3281m077 ..</td><td>0.0 .. 0.0</td></tr>\n",
       "<tr><td>702871</td><td>PGC214792,UGC11853,PGC1125125</td><td>3</td><td>329.0723</td><td>-1.16768</td><td>113.978</td><td>55.9953</td><td>25.0122</td><td>3291m012 ..</td><td>0.0 .. 0.0</td></tr>\n",
       "<tr><td>704272</td><td>PGC1137098,PGC1137118,PGC1137040</td><td>3</td><td>333.18625</td><td>-0.691466666667</td><td>186.901</td><td>28.7178</td><td>24.4428</td><td>3331m007 ..</td><td>0.0 .. 0.0</td></tr>\n",
       "<tr><td>706306</td><td>PGC193192,PGC193199,PGC193201</td><td>3</td><td>339.0573</td><td>1.40753666667</td><td>82.9296</td><td>43.4662</td><td>25.5948</td><td>3391p015 ..</td><td>0.0 .. 0.0</td></tr>\n",
       "<tr><td>706866</td><td>PGC1188417,PGC1187491,PGC1187416</td><td>3</td><td>340.6067</td><td>1.20671333333</td><td>157.135</td><td>32.2219</td><td>25.5948</td><td>3406p012 ..</td><td>0.0 .. 0.0</td></tr>\n",
       "<tr><td>708496</td><td>NGC7463,NGC7464,NGC7465</td><td>3</td><td>345.48155</td><td>15.9734866667</td><td>170.702</td><td>95.0936</td><td>30.7717</td><td>3453p160 ..</td><td>0.0 .. 0.0</td></tr>\n",
       "<tr><td>709687</td><td>NGC7562,PGC197664,NGC7562A</td><td>3</td><td>348.99735</td><td>6.6563</td><td>235.432</td><td>131.266</td><td>25.0122</td><td>3488p065 ..</td><td>0.0 .. 0.0</td></tr>\n",
       "<tr><td>710495</td><td>PGC1479636,PGC1476973,UGC12590,PGC165923,PGC1478384</td><td>5</td><td>351.3018</td><td>15.215332</td><td>402.32</td><td>52.2578</td><td>24.4428</td><td>3510p150 ..</td><td>0.0 .. 0.0</td></tr>\n",
       "<tr><td>712332</td><td>PGC196423,PGC1087348,PGC1087779</td><td>3</td><td>356.436</td><td>-2.61394333333</td><td>233.658</td><td>44.4786</td><td>26.1909</td><td>3563m027 ..</td><td>0.0 .. 0.0</td></tr>\n",
       "<tr><td>712466</td><td>IC5351,PGC072405,IC5357</td><td>3</td><td>356.83595</td><td>-2.29861333333</td><td>131.781</td><td>101.895</td><td>26.801</td><td>3568m022 ..</td><td>0.0 .. 0.0</td></tr>\n",
       "</table>"
      ],
      "text/plain": [
       "<Table length=271>\n",
       "GROUPID                        GALAXY                       ... FRACMASKED [3]\n",
       " int32                        str1000                       ...    float16    \n",
       "------- --------------------------------------------------- ... --------------\n",
       " 614652                             NGC0127,NGC0128,NGC0130 ...     0.0 .. 0.0\n",
       " 615005                    PGC1036047,PGC1036361,PGC1036593 ...     0.0 .. 0.0\n",
       " 615052                      PGC1028413,PGC143577,PGC143579 ...     0.0 .. 0.0\n",
       " 615465                    PGC1101085,PGC1100823,PGC1100450 ...     0.0 .. 0.0\n",
       " 615699                             NGC0192,NGC0196,NGC0197 ...     0.0 .. 0.0\n",
       " 616634  PGC842319,NGC0247B,ESO540-024,ESO540-025,PGC002798 ...     0.0 .. 0.0\n",
       " 616934                     PGC090503,PGC1244573,PGC1244244 ...     0.0 .. 0.0\n",
       " 617056                        IC0055,PGC1328252,PGC1328284 ...     0.0 .. 0.0\n",
       " 617185                       PGC173062,PGC173063,PGC173070 ...     0.0 .. 0.0\n",
       " 618099                       PGC003597,PGC914550,PGC173260 ...     0.0 .. 0.0\n",
       "    ...                                                 ... ...            ...\n",
       " 702612         PGC1016425,PGC1016359,PGC1016757,PGC3103716 ...     0.0 .. 0.0\n",
       " 702871                       PGC214792,UGC11853,PGC1125125 ...     0.0 .. 0.0\n",
       " 704272                    PGC1137098,PGC1137118,PGC1137040 ...     0.0 .. 0.0\n",
       " 706306                       PGC193192,PGC193199,PGC193201 ...     0.0 .. 0.0\n",
       " 706866                    PGC1188417,PGC1187491,PGC1187416 ...     0.0 .. 0.0\n",
       " 708496                             NGC7463,NGC7464,NGC7465 ...     0.0 .. 0.0\n",
       " 709687                          NGC7562,PGC197664,NGC7562A ...     0.0 .. 0.0\n",
       " 710495 PGC1479636,PGC1476973,UGC12590,PGC165923,PGC1478384 ...     0.0 .. 0.0\n",
       " 712332                     PGC196423,PGC1087348,PGC1087779 ...     0.0 .. 0.0\n",
       " 712466                             IC5351,PGC072405,IC5357 ...     0.0 .. 0.0"
      ]
     },
     "execution_count": 19,
     "metadata": {},
     "output_type": "execute_result"
    }
   ],
   "source": [
    "%time sample = build_sample()\n",
    "sample"
   ]
  },
  {
   "cell_type": "markdown",
   "metadata": {},
   "source": [
    "### Retrieve FITS cutouts of each galaxy in each band.\n",
    "\n",
    "We also compute the fraction of masked pixels in each band (so we can do some quality cuts, below) and then write out the final sample."
   ]
  },
  {
   "cell_type": "code",
   "execution_count": 20,
   "metadata": {},
   "outputs": [],
   "source": [
    "fitsdir = os.path.join(gallerydir, 'fits')\n",
    "if not os.path.isdir(fitsdir):\n",
    "    os.mkdir(fitsdir)"
   ]
  },
  {
   "cell_type": "code",
   "execution_count": 21,
   "metadata": {
    "collapsed": true
   },
   "outputs": [],
   "source": [
    "def galaxyname(gal, html=False):\n",
    "    \"\"\"We want to prevent the output FITS/png filenames from arbitrarily long\n",
    "    so we use the following convention:\n",
    "    \n",
    "    1 member - use the galaxy name\n",
    "    2-3 members - join the individual galaxy names with a hyphen\n",
    "    >3 members - use the groupid with format :08d\n",
    "    \n",
    "    \"\"\"\n",
    "    if gal['NMEMBERS'] > 500:\n",
    "        galaxy = 'group{:08d}'.format(gal['GROUPID'])\n",
    "    else:\n",
    "        if html:\n",
    "            galaxy = gal['GALAXY'].strip().lower().replace(',', ' ')\n",
    "        else:\n",
    "            galaxy = gal['GALAXY'].strip().lower().replace(',', '-')\n",
    "    \n",
    "    return galaxy"
   ]
  },
  {
   "cell_type": "code",
   "execution_count": 22,
   "metadata": {
    "collapsed": true
   },
   "outputs": [],
   "source": [
    "def fits_cutouts(verbose=False):\n",
    "    \"\"\"Grab cutouts of every galaxy and also quickly compute the fraction of \n",
    "    pixels that are masked in each image (in fracmasked).\n",
    "    \n",
    "    \"\"\"\n",
    "    for jj, gal in enumerate(sample):\n",
    "        galaxy = galaxyname(gal)\n",
    "        if gal['NMEMBERS'] == 1:\n",
    "            size = np.ceil(GALAXY_DIAMFACTOR*gal['DIAMETER']/PIXSCALE).astype('int16') # [pixels]\n",
    "        else:\n",
    "            size = np.ceil(GROUP_DIAMFACTOR*gal['DIAMETER']/PIXSCALE).astype('int16') # [pixels]\n",
    "\n",
    "        # Get a FITS cutout and then split the file into three individual bands.\n",
    "        baseurl = 'http://legacysurvey.org/viewer-dev/fits-cutout/'\n",
    "        fitsurl = '{}?ra={:.6f}&dec={:.6f}&pixscale={:.3f}&size={:g}&layer=decals-{}'.format(\n",
    "            baseurl, gal['RA'], gal['DEC'], PIXSCALE, size, dr)\n",
    "        fitsfile = os.path.join(fitsdir, '{}.fits'.format(galaxy))\n",
    "        cmd = 'wget --continue -O {:s} \"{:s}\"' .format(fitsfile, fitsurl)\n",
    "        if os.path.isfile(os.path.join(fitsdir, '{}-{}.fits'.format(galaxy, 'g'))):\n",
    "            if verbose:\n",
    "                print('Skipping galaxy {}'.format(galaxy))\n",
    "        else:\n",
    "            if verbose:\n",
    "                print(cmd)\n",
    "            os.system(cmd)\n",
    "\n",
    "            img, hdr = fitsio.read(fitsfile, ext=0, header=True)\n",
    "            for ii, band in enumerate(['g', 'r', 'z']):\n",
    "                bandfile = os.path.join(fitsdir, '{}-{}.fits'.format(galaxy, band))\n",
    "                #print('  Writing {}'.format(bandfile))\n",
    "                sample['FRACMASKED'][jj][ii] = np.sum(img[ii, :, :] == 0) / img[ii, :, :].size\n",
    "                fitsio.write(bandfile, img[ii, :, :], clobber=True, header=hdr)        \n",
    "            #print('  Removing {}'.format(fitsfile))\n",
    "            os.remove(fitsfile)"
   ]
  },
  {
   "cell_type": "code",
   "execution_count": 23,
   "metadata": {},
   "outputs": [
    {
     "name": "stdout",
     "output_type": "stream",
     "text": [
      "CPU times: user 8.88 s, sys: 17.6 s, total: 26.5 s\n",
      "Wall time: 19min 23s\n"
     ]
    }
   ],
   "source": [
    "%time fits_cutouts(verbose=False)"
   ]
  },
  {
   "cell_type": "code",
   "execution_count": 24,
   "metadata": {},
   "outputs": [
    {
     "name": "stdout",
     "output_type": "stream",
     "text": [
      "Writing /global/cscratch1/sd/ioannis/dr5/gallery/gallery-dr5.fits\n"
     ]
    }
   ],
   "source": [
    "if os.path.isfile(galleryfile):\n",
    "    os.remove(galleryfile)\n",
    "    \n",
    "print('Writing {}'.format(galleryfile))\n",
    "sample.write(galleryfile)"
   ]
  },
  {
   "cell_type": "markdown",
   "metadata": {},
   "source": [
    "### Build a color image using trilogy.py\n",
    "\n",
    "Here we require no more than 2% of the pixels in *all* the FITS images to be masked (i.e., to have values of zero) before generating a PNG file.  Then, after the PNG image has been generated, we read it back in and add a scale bar and a galaxy label."
   ]
  },
  {
   "cell_type": "code",
   "execution_count": 25,
   "metadata": {
    "collapsed": true
   },
   "outputs": [],
   "source": [
    "fraccut = 0.02 # [fraction]"
   ]
  },
  {
   "cell_type": "code",
   "execution_count": 26,
   "metadata": {},
   "outputs": [],
   "source": [
    "pngdir = os.path.join(gallerydir, 'png')\n",
    "if not os.path.isdir(pngdir):\n",
    "    os.mkdir(pngdir)"
   ]
  },
  {
   "cell_type": "code",
   "execution_count": 27,
   "metadata": {},
   "outputs": [],
   "source": [
    "barlen30 = np.round(30.0 / PIXSCALE).astype('int')\n",
    "fonttype = os.path.join(gallerydir, 'Georgia.ttf')"
   ]
  },
  {
   "cell_type": "code",
   "execution_count": 28,
   "metadata": {
    "collapsed": true
   },
   "outputs": [],
   "source": [
    "def make_png(pngsample, verbose=False):\n",
    "    \"\"\"Build a png file for each galaxy / group using Trilogy. \n",
    "    \n",
    "    \"\"\"\n",
    "    for gal in pngsample:\n",
    "        galaxy = galaxyname(gal)\n",
    "        \n",
    "        pngfile = os.path.join(pngdir, '{}.png'.format(galaxy))\n",
    "        thumbfile = os.path.join(pngdir, 'thumb-{}.png'.format(galaxy))\n",
    "\n",
    "        paramfile = os.path.join(pngdir, '{}.in'.format(galaxy))\n",
    "        with open(paramfile, 'w') as param:\n",
    "            param.write('B\\n')\n",
    "            param.write(os.path.join(fitsdir, '{}-g.fits\\n'.format(galaxy)))\n",
    "            param.write('\\n')\n",
    "            param.write('G\\n')\n",
    "            param.write(os.path.join(fitsdir, '{}-r.fits\\n'.format(galaxy)))\n",
    "            param.write('\\n')        \n",
    "            param.write('R\\n')\n",
    "            param.write(os.path.join(fitsdir, '{}-z.fits\\n'.format(galaxy)))\n",
    "            param.write('\\n')\n",
    "            param.write('indir {}\\n'.format(fitsdir))\n",
    "            param.write('outname {}\\n'.format(pngfile))\n",
    "            param.write('noiselum 0.3\\n')\n",
    "            param.write('satpercent 0.001\\n')\n",
    "            param.write('samplesize 1000\\n')\n",
    "            param.write('stampsize 5000\\n')\n",
    "            #param.write('scaling {}\\n'.format(os.path.join(gallerydir, 'levels.txt')))\n",
    "            param.write('colorsatfac 0.95\\n')\n",
    "            param.write('deletetests 1\\n')\n",
    "            param.write('showstamps 0\\n')\n",
    "            param.write('show 0\\n')\n",
    "            param.write('legend 0\\n')\n",
    "            param.write('testfirst 0\\n')\n",
    "        param.close()\n",
    "        \n",
    "        trilogy = os.path.join(os.getenv('LEGACYPIPE_DIR'), 'py', 'legacyanalysis', 'trilogy.py')\n",
    "        cmd = 'python {} {}'.format(trilogy, paramfile)\n",
    "        #print(cmd)\n",
    "        os.system(cmd)\n",
    "        for txt in ('levels.txt', 'trilogyfilterlog.txt'):\n",
    "            thisfile = os.path.join(os.getenv('LEGACYPIPE_DIR'), 'doc', 'nb', txt)\n",
    "            os.remove(thisfile)\n",
    "        os.remove(os.path.join(pngdir, '{}_filters.txt'.format(galaxy)))\n",
    "        os.remove(os.path.join(pngdir, '{}.in'.format(galaxy)))\n",
    "    \n",
    "        im = Image.open(pngfile)\n",
    "        sz = im.size\n",
    "        fntsize = np.round(sz[0]/28).astype('int')\n",
    "        width = np.round(sz[0]/175).astype('int')\n",
    "        font = ImageFont.truetype(fonttype, size=fntsize)\n",
    "        draw = ImageDraw.Draw(im)\n",
    "        # Label the galaxy name--\n",
    "        draw.text((0+fntsize*2, 0+fntsize*2), galaxy.upper(), font=font)\n",
    "        #draw.text((sz[0]-fntsize*6, sz[1]-fntsize*3), galaxy.upper(), font=font)\n",
    "        # Add a 30 arcsec scale bar--\n",
    "        x0, x1, yy = sz[1]-fntsize*2-barlen30, sz[1]-fntsize*2, sz[0]-fntsize*2\n",
    "        draw.line((x0, yy, x1, yy), fill='white', width=width)\n",
    "        im.save(pngfile)    \n",
    "        \n",
    "        # Generate a thumbnail\n",
    "        cmd = '/usr/bin/convert -thumbnail 300x300 {} {}'.format(pngfile, thumbfile)\n",
    "        os.system(cmd)\n",
    "        \n",
    "        if verbose:\n",
    "            print('Wrote {}'.format(pngfile))    "
   ]
  },
  {
   "cell_type": "code",
   "execution_count": 29,
   "metadata": {},
   "outputs": [
    {
     "name": "stdout",
     "output_type": "stream",
     "text": [
      "Identified 174 groups with <2% pixels masked in grz.\n"
     ]
    }
   ],
   "source": [
    "indx = np.sum(sample['FRACMASKED'] < fraccut, axis=1) == 3\n",
    "pngsample = sample[indx]\n",
    "print('Identified {} groups with <2% pixels masked in grz.'.format(len(pngsample)))"
   ]
  },
  {
   "cell_type": "code",
   "execution_count": 30,
   "metadata": {},
   "outputs": [
    {
     "data": {
      "text/html": [
       "&lt;Table length=174&gt;\n",
       "<table id=\"table47991437899312\" class=\"table-striped table-bordered table-condensed\">\n",
       "<thead><tr><th>GROUPID</th><th>GALAXY</th><th>NMEMBERS</th><th>RA</th><th>DEC</th><th>DIAMETER</th><th>D25MAX</th><th>D25MIN</th><th>BRICKNAME [6]</th><th>FRACMASKED [3]</th></tr></thead>\n",
       "<thead><tr><th>int32</th><th>str1000</th><th>int32</th><th>float64</th><th>float64</th><th>float32</th><th>float32</th><th>float32</th><th>bytes20</th><th>float16</th></tr></thead>\n",
       "<tr><td>614652</td><td>NGC0127,NGC0128,NGC0130</td><td>3</td><td>7.3139</td><td>2.86903333333</td><td>189.737</td><td>189.737</td><td>42.4767</td><td>0073p027 ..</td><td>4.7684e-07 .. 7.1526e-06</td></tr>\n",
       "<tr><td>615005</td><td>PGC1036047,PGC1036361,PGC1036593</td><td>3</td><td>8.2232</td><td>-6.13836333333</td><td>201.951</td><td>53.4751</td><td>28.0641</td><td>0081m062 ..</td><td>5.3823e-05 .. 7.7784e-05</td></tr>\n",
       "<tr><td>615052</td><td>PGC1028413,PGC143577,PGC143579</td><td>3</td><td>8.3796</td><td>-6.82209333333</td><td>151.885</td><td>27.4253</td><td>24.4428</td><td>0084m067 ..</td><td>0.0 .. 0.0</td></tr>\n",
       "<tr><td>615465</td><td>PGC1101085,PGC1100823,PGC1100450</td><td>3</td><td>9.30705</td><td>-2.13501666667</td><td>141.452</td><td>37.8574</td><td>25.0122</td><td>0093m022 ..</td><td>1.2875e-05 .. 9.4175e-06</td></tr>\n",
       "<tr><td>616934</td><td>PGC090503,PGC1244573,PGC1244244</td><td>3</td><td>12.65625</td><td>3.07869666667</td><td>151.249</td><td>39.6416</td><td>28.0641</td><td>0126p030 ..</td><td>0.0 .. 0.0</td></tr>\n",
       "<tr><td>617185</td><td>PGC173062,PGC173063,PGC173070</td><td>3</td><td>13.28545</td><td>-3.63262</td><td>196.097</td><td>47.6597</td><td>30.7717</td><td>0131m037 ..</td><td>9.6858e-05 .. 0.0</td></tr>\n",
       "<tr><td>618099</td><td>PGC003597,PGC914550,PGC173260</td><td>3</td><td>15.12245</td><td>-15.18764</td><td>219.216</td><td>48.7698</td><td>25.0122</td><td>0151m152 ..</td><td>0.00061321 .. 0.0</td></tr>\n",
       "<tr><td>619319</td><td>PGC929534,PGC929768,PGC004283</td><td>3</td><td>17.8845</td><td>-14.0488366667</td><td>185.516</td><td>45.5147</td><td>26.1909</td><td>0178m140 ..</td><td>0.0010471 .. 6.1274e-05</td></tr>\n",
       "<tr><td>619432</td><td>PGC1036232,PGC1036166,PGC144001,PGC1036077</td><td>4</td><td>18.1082625</td><td>-6.1616275</td><td>288.214</td><td>54.7206</td><td>24.4428</td><td>0179m062 ..</td><td>0.0 .. 1.7881e-07</td></tr>\n",
       "<tr><td>619720</td><td>PGC875134,PGC134705,PGC874824</td><td>3</td><td>18.7087</td><td>-17.9446033333</td><td>132.906</td><td>36.9957</td><td>32.9725</td><td>0187m180 ..</td><td>0.0 .. 9.5367e-07</td></tr>\n",
       "<tr><td>...</td><td>...</td><td>...</td><td>...</td><td>...</td><td>...</td><td>...</td><td>...</td><td>...</td><td>...</td></tr>\n",
       "<tr><td>690576</td><td>PGC057765,PGC200337,PGC200336,PGC057770</td><td>4</td><td>244.5272625</td><td>21.561835</td><td>89.0901</td><td>77.295</td><td>26.801</td><td>2445p215 ..</td><td>0.0 .. 0.0</td></tr>\n",
       "<tr><td>690589</td><td>PGC057773,PGC057774,PGC057777,PGC057779</td><td>4</td><td>244.55955</td><td>12.7952275</td><td>60.7545</td><td>31.4885</td><td>26.801</td><td>2446p127 ..</td><td>0.00067329 .. 0.0</td></tr>\n",
       "<tr><td>690608</td><td>PGC1878557,PGC057794,PGC057793</td><td>3</td><td>244.64065</td><td>29.8097933333</td><td>162.743</td><td>40.565</td><td>25.0122</td><td>2445p297 ..</td><td>0.0012741 .. 0.0011616</td></tr>\n",
       "<tr><td>692756</td><td>PGC1667789,PGC1667493,PGC1666803,PGC1666735</td><td>4</td><td>256.35195</td><td>22.29306</td><td>268.278</td><td>47.6597</td><td>26.1909</td><td>2562p222 ..</td><td>0.011276 .. 0.0</td></tr>\n",
       "<tr><td>693255</td><td>PGC1843188,PGC1843607,PGC1843894</td><td>3</td><td>260.18045</td><td>28.7068066667</td><td>166.838</td><td>38.7393</td><td>30.0712</td><td>2601p287 ..</td><td>0.00020266 .. 0.00010228</td></tr>\n",
       "<tr><td>702442</td><td>PGC1638034,PGC1637505,PGC1636718</td><td>3</td><td>327.84065</td><td>20.8574966667</td><td>272.391</td><td>30.7717</td><td>25.0122</td><td>3278p207 ..</td><td>0.00069332 .. 0.0</td></tr>\n",
       "<tr><td>702871</td><td>PGC214792,UGC11853,PGC1125125</td><td>3</td><td>329.0723</td><td>-1.16768</td><td>113.978</td><td>55.9953</td><td>25.0122</td><td>3291m012 ..</td><td>0.0 .. 0.0</td></tr>\n",
       "<tr><td>704272</td><td>PGC1137098,PGC1137118,PGC1137040</td><td>3</td><td>333.18625</td><td>-0.691466666667</td><td>186.901</td><td>28.7178</td><td>24.4428</td><td>3331m007 ..</td><td>2.6047e-05 .. 9.5367e-07</td></tr>\n",
       "<tr><td>706306</td><td>PGC193192,PGC193199,PGC193201</td><td>3</td><td>339.0573</td><td>1.40753666667</td><td>82.9296</td><td>43.4662</td><td>25.5948</td><td>3391p015 ..</td><td>0.0 .. 0.0</td></tr>\n",
       "<tr><td>706866</td><td>PGC1188417,PGC1187491,PGC1187416</td><td>3</td><td>340.6067</td><td>1.20671333333</td><td>157.135</td><td>32.2219</td><td>25.5948</td><td>3406p012 ..</td><td>0.00012779 .. 0.00039315</td></tr>\n",
       "</table>"
      ],
      "text/plain": [
       "<Table length=174>\n",
       "GROUPID                    GALAXY                   ...      FRACMASKED [3]     \n",
       " int32                    str1000                   ...         float16         \n",
       "------- ------------------------------------------- ... ------------------------\n",
       " 614652                     NGC0127,NGC0128,NGC0130 ... 4.7684e-07 .. 7.1526e-06\n",
       " 615005            PGC1036047,PGC1036361,PGC1036593 ... 5.3823e-05 .. 7.7784e-05\n",
       " 615052              PGC1028413,PGC143577,PGC143579 ...               0.0 .. 0.0\n",
       " 615465            PGC1101085,PGC1100823,PGC1100450 ... 1.2875e-05 .. 9.4175e-06\n",
       " 616934             PGC090503,PGC1244573,PGC1244244 ...               0.0 .. 0.0\n",
       " 617185               PGC173062,PGC173063,PGC173070 ...        9.6858e-05 .. 0.0\n",
       " 618099               PGC003597,PGC914550,PGC173260 ...        0.00061321 .. 0.0\n",
       " 619319               PGC929534,PGC929768,PGC004283 ...  0.0010471 .. 6.1274e-05\n",
       " 619432  PGC1036232,PGC1036166,PGC144001,PGC1036077 ...        0.0 .. 1.7881e-07\n",
       " 619720               PGC875134,PGC134705,PGC874824 ...        0.0 .. 9.5367e-07\n",
       "    ...                                         ... ...                      ...\n",
       " 690576     PGC057765,PGC200337,PGC200336,PGC057770 ...               0.0 .. 0.0\n",
       " 690589     PGC057773,PGC057774,PGC057777,PGC057779 ...        0.00067329 .. 0.0\n",
       " 690608              PGC1878557,PGC057794,PGC057793 ...   0.0012741 .. 0.0011616\n",
       " 692756 PGC1667789,PGC1667493,PGC1666803,PGC1666735 ...          0.011276 .. 0.0\n",
       " 693255            PGC1843188,PGC1843607,PGC1843894 ... 0.00020266 .. 0.00010228\n",
       " 702442            PGC1638034,PGC1637505,PGC1636718 ...        0.00069332 .. 0.0\n",
       " 702871               PGC214792,UGC11853,PGC1125125 ...               0.0 .. 0.0\n",
       " 704272            PGC1137098,PGC1137118,PGC1137040 ... 2.6047e-05 .. 9.5367e-07\n",
       " 706306               PGC193192,PGC193199,PGC193201 ...               0.0 .. 0.0\n",
       " 706866            PGC1188417,PGC1187491,PGC1187416 ... 0.00012779 .. 0.00039315"
      ]
     },
     "execution_count": 30,
     "metadata": {},
     "output_type": "execute_result"
    }
   ],
   "source": [
    "pngsample"
   ]
  },
  {
   "cell_type": "code",
   "execution_count": 31,
   "metadata": {},
   "outputs": [
    {
     "name": "stdout",
     "output_type": "stream",
     "text": [
      "CPU times: user 2min 15s, sys: 10 s, total: 2min 25s\n",
      "Wall time: 12min 42s\n"
     ]
    }
   ],
   "source": [
    "%time make_png(pngsample, verbose=False)"
   ]
  },
  {
   "cell_type": "markdown",
   "metadata": {
    "collapsed": true
   },
   "source": [
    "### Finally, assemble the webpage of good and rejected gallery images.\n",
    "\n",
    "To test the webpage before release, do\n",
    "  * rsync -auvP /global/cscratch1/sd/ioannis/dr5/gallery/png /global/project/projectdirs/cosmo/www/temp/ioannis/dr5/gallery/\n",
    "  * rsync -auvP /global/cscratch1/sd/ioannis/dr5/gallery/index.html /global/project/projectdirs/cosmo/www/temp/ioannis/dr5/gallery/"
   ]
  },
  {
   "cell_type": "code",
   "execution_count": 58,
   "metadata": {},
   "outputs": [
    {
     "name": "stdout",
     "output_type": "stream",
     "text": [
      "Rejecting 4 groups.\n"
     ]
    }
   ],
   "source": [
    "reject = ['pgc1667789-pgc1667493-pgc1666803-pgc1666735',\n",
    "          'pgc156324-pgc156326-pgc1151284',\n",
    "          'pgc200252-pgc1591421-ngc3040',\n",
    "          'pgc008096-ugc01617-ugc01618-pgc008116-ugc01620'\n",
    "         ]\n",
    "toss = np.zeros(len(pngsample), dtype=bool)\n",
    "for ii, gg in enumerate(pngsample['GALAXY']):\n",
    "    for rej in np.atleast_1d(reject):\n",
    "        toss[ii] = rej in gg.lower().replace(',', '-')\n",
    "        if toss[ii]:\n",
    "            break\n",
    "print('Rejecting {} groups.'.format(np.sum(toss)))\n",
    "pngkeep = pngsample[~toss]\n",
    "if np.sum(toss) > 0:\n",
    "    pngrej = pngsample[toss]\n",
    "else:\n",
    "    pngrej = []"
   ]
  },
  {
   "cell_type": "code",
   "execution_count": 62,
   "metadata": {},
   "outputs": [
    {
     "name": "stdout",
     "output_type": "stream",
     "text": [
      "Splitting the sample into 34 rows with 5 mosaics per row.\n"
     ]
    }
   ],
   "source": [
    "nperrow = 5\n",
    "nrow = np.ceil(len(pngkeep) / nperrow).astype('int')\n",
    "pngsplit = np.array_split(pngkeep, nrow)\n",
    "print('Splitting the sample into {} rows with {} mosaics per row.'.format(nrow, nperrow))"
   ]
  },
  {
   "cell_type": "code",
   "execution_count": 63,
   "metadata": {
    "collapsed": true
   },
   "outputs": [],
   "source": [
    "htmlfile = os.path.join(gallerydir, 'index.html')\n",
    "baseurl = 'http://legacysurvey.org/viewer-dev'"
   ]
  },
  {
   "cell_type": "code",
   "execution_count": 66,
   "metadata": {},
   "outputs": [],
   "source": [
    "with open(htmlfile, 'w') as html:\n",
    "    html.write('<html><head>\\n')\n",
    "    html.write('<style type=\"text/css\">\\n')\n",
    "    html.write('img.ls-gallery {display: block;}\\n')\n",
    "    html.write('td.ls-gallery {width: 20%; word-wrap: break-word;}\\n')\n",
    "    html.write('</style>\\n')\n",
    "    html.write('</head><body>\\n')\n",
    "    html.write('<h1>Image Gallery of Galaxy Groups</h1>\\n')\n",
    "    html.write(\"\"\"<p>This gallery highlights some of the galaxy groups in the DR5 footprint.  The\n",
    "    groups were identified using an input catalog of galaxies with an apparent angular diameter greater than 24 arcsec\n",
    "    and a friends-of-friends algorithm with a linking length of 2.5 arcminute.  The color mosaics\n",
    "    were generated using <a class=\"reference external\" href=\"http://www.stsci.edu/~dcoe/trilogy\">trilogy.py</a>.  \n",
    "    Each thumbnail links to a larger image while the galaxy names below the thumbnails link to the\n",
    "    <a href=\"http://legacysurvey.org/viewer\">Sky Viewer</a>.  For reference, the horizontal white bar in \n",
    "    each image represents 30 arcsec.</p>\\n\"\"\")\n",
    "    html.write(\"\"\"<p><a href=\"http://portal.nersc.gov/project/cosmo/data/legacysurvey/dr4/gallery/\">\n",
    "    Visit the DR4 Gallery.</a></p>\\n\"\"\")\n",
    "    html.write('<table><tbody>\\n')\n",
    "    for pngrow in pngsplit:\n",
    "        html.write('<tr>\\n')\n",
    "        for gal in pngrow:\n",
    "            galaxy = galaxyname(gal)\n",
    "            pngfile = os.path.join('png', '{}.png'.format(galaxy))\n",
    "            thumbfile = os.path.join('png', 'thumb-{}.png'.format(galaxy))\n",
    "            img = 'class=\"ls-gallery\" src=\"{}\" alt=\"{}\"'.format(thumbfile, galaxy.upper())\n",
    "            html.write('<td class=\"ls-gallery\"><a href=\"{}\"><img {} /></a></td>\\n'.format(pngfile, img))\n",
    "        html.write('</tr><tr>\\n')\n",
    "        for gal in pngrow:\n",
    "            galaxy = galaxyname(gal, html=True)\n",
    "            href = '{}/?layer=decals-{}&ra={:.8f}&dec={:.8f}&zoom=13'.format(baseurl, dr, gal['RA'], gal['DEC'])\n",
    "            html.write('<td class=\"ls-gallery\"><a href=\"{}\">{}</a></td>\\n'.format(href, galaxy.upper()))\n",
    "        html.write('</tr>\\n')\n",
    "    html.write('</table></tbody>')\n",
    "    html.write('</body></html>\\n')"
   ]
  },
  {
   "cell_type": "code",
   "execution_count": 60,
   "metadata": {
    "collapsed": true
   },
   "outputs": [],
   "source": [
    "htmlfile_reject = os.path.join(gallerydir, 'index-reject.html')"
   ]
  },
  {
   "cell_type": "code",
   "execution_count": 61,
   "metadata": {},
   "outputs": [],
   "source": [
    "if len(pngrej) > 0:\n",
    "    with open(htmlfile_reject, 'w') as html:\n",
    "        html.write('<html><body>\\n')\n",
    "        for gal in pngrej:\n",
    "            galaxy = galaxyname(gal)\n",
    "            pngfile = os.path.join('png', '{}.png'.format(galaxy))\n",
    "            img = 'class=\"ls-gallery\" src=\"{}\" alt=\"{}\"'.format(pngfile, galaxy.upper())\n",
    "            html.write('<a href=\"{}/?ra={:.8f}&dec={:.8f}&layer=decals-{}\"><img {}></a>\\n'.format(\n",
    "                    baseurl, gal['RA'], gal['DEC'], dr, img))\n",
    "        html.write('</body></html>\\n')"
   ]
  },
  {
   "cell_type": "code",
   "execution_count": null,
   "metadata": {
    "collapsed": true
   },
   "outputs": [],
   "source": []
  }
 ],
 "metadata": {
  "anaconda-cloud": {},
  "kernelspec": {
   "display_name": "legacypipe master",
   "language": "python",
   "name": "legacypipe-master"
  },
  "language_info": {
   "codemirror_mode": {
    "name": "ipython",
    "version": 3
   },
   "file_extension": ".py",
   "mimetype": "text/x-python",
   "name": "python",
   "nbconvert_exporter": "python",
   "pygments_lexer": "ipython3",
   "version": "3.5.4"
  }
 },
 "nbformat": 4,
 "nbformat_minor": 2
}
