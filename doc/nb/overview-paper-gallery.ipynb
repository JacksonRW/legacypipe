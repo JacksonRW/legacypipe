{
 "cells": [
  {
   "cell_type": "markdown",
   "metadata": {},
   "source": [
    "# Gallery for the Overview Paper\n",
    "\n",
    "The purpose of this notebook is to build a nice gallery of object images for the overview paper.\n",
    "\n",
    "For future reference: The notebook must be run from https://jupyter-dev.nersc.gov with the following (approximate) activation script:\n",
    "\n",
    "```bash\n",
    "#!/bin/bash                                                                                                           \n",
    "version=$1                                                                                                            \n",
    "connection_file=$2                                                                                                    \n",
    "\n",
    "desiconda_version=20170818-1.1.12-img                                                                                 \n",
    "module use /global/common/${NERSC_HOST}/contrib/desi/desiconda/$desiconda_version/modulefiles                         \n",
    "module load desiconda                                                                                                 \n",
    "\n",
    "export LEGACYPIPE_DIR=$SCRATCH/repos/legacypipe                                                                       \n",
    "\n",
    "export PATH=$LEGACYPIPE_DIR/bin:${PATH}                                                                               \n",
    "export PATH=$SCRATCH//repos/build/bin:$PATH                                                                           \n",
    "export PYTHONPATH=$LEGACYPIPE_DIR/py:${PYTHONPATH}                                                                    \n",
    "export PYTHONPATH=$SCRATCH/repos/build/lib/python3.5/site-packages:$PYTHONPATH                                        \n",
    "\n",
    "module use $LEGACYPIPE_DIR/bin/modulefiles/cori                                                                       \n",
    "module load dust                                                                                                      \n",
    "\n",
    "exec python -m ipykernel -f $connection_file\n",
    "```\n",
    "\n",
    "Some neat objects:\n",
    "* [Bow shock](http://legacysurvey.org/viewer?ra=325.6872&dec=1.0032&zoom=14&layer=decals-dr5)\n",
    "* [Abell 383](http://legacysurvey.org/viewer?ra=42.0141&dec=-3.5291&zoom=15&layer=decals-dr5)\n",
    "* [SDSS/C4-2010 Galaxy Cluster](http://legacysurvey.org/viewer?ra=29.0707&dec=1.0510&zoom=13&layer=decals-dr5)\n",
    "* [NGC2874 Group](http://legacysurvey.org/viewer?ra=141.4373&dec=11.4284&zoom=13&layer=decals-dr5)\n",
    "* [UGC10321 Group](http://legacysurvey.org/viewer?ra=244.5280&dec=21.5591&zoom=14&layer=decals-dr5)\n",
    "* [NGC6742 (PN)](http://legacysurvey.org/viewer/?layer=decals-dr6&ra=284.83291667&dec=48.46527778)"
   ]
  },
  {
   "cell_type": "markdown",
   "metadata": {},
   "source": [
    "### Imports and paths"
   ]
  },
  {
   "cell_type": "code",
   "execution_count": 1,
   "metadata": {},
   "outputs": [],
   "source": [
    "import os, sys\n",
    "import shutil, time, warnings\n",
    "from contextlib import redirect_stdout\n",
    "import numpy as np\n",
    "import matplotlib.pyplot as plt"
   ]
  },
  {
   "cell_type": "code",
   "execution_count": 2,
   "metadata": {},
   "outputs": [],
   "source": [
    "from astropy.table import Table, vstack\n",
    "from PIL import Image, ImageDraw, ImageFont"
   ]
  },
  {
   "cell_type": "code",
   "execution_count": 3,
   "metadata": {},
   "outputs": [],
   "source": [
    "import multiprocessing\n",
    "nproc = multiprocessing.cpu_count() // 2"
   ]
  },
  {
   "cell_type": "code",
   "execution_count": 4,
   "metadata": {},
   "outputs": [],
   "source": [
    "%matplotlib inline"
   ]
  },
  {
   "cell_type": "markdown",
   "metadata": {},
   "source": [
    "### Preliminaries\n",
    "\n",
    "Define the data release and the various output directories."
   ]
  },
  {
   "cell_type": "code",
   "execution_count": 5,
   "metadata": {},
   "outputs": [],
   "source": [
    "PIXSCALE = 0.262"
   ]
  },
  {
   "cell_type": "code",
   "execution_count": 6,
   "metadata": {},
   "outputs": [],
   "source": [
    "figdir = os.path.join( os.getenv('SCRATCH'), 'overview-paper')\n",
    "figfile = os.path.join(figdir, 'gallery.fits')"
   ]
  },
  {
   "cell_type": "code",
   "execution_count": 7,
   "metadata": {},
   "outputs": [],
   "source": [
    "jpgdir = os.path.join(figdir, 'jpg')\n",
    "if not os.path.isdir(jpgdir):\n",
    "    os.mkdir(jpgdir)"
   ]
  },
  {
   "cell_type": "code",
   "execution_count": 8,
   "metadata": {},
   "outputs": [],
   "source": [
    "pngdir = os.path.join(figdir, 'png')\n",
    "if not os.path.isdir(pngdir):\n",
    "    os.mkdir(pngdir)"
   ]
  },
  {
   "cell_type": "markdown",
   "metadata": {},
   "source": [
    "#### Build a sample with the objects of interest."
   ]
  },
  {
   "cell_type": "code",
   "execution_count": 9,
   "metadata": {},
   "outputs": [
    {
     "data": {
      "text/html": [
       "&lt;Table length=6&gt;\n",
       "<table id=\"table47439025011344\" class=\"table-striped table-bordered table-condensed\">\n",
       "<thead><tr><th>name</th><th>nicename</th><th>viewer</th><th>dr</th><th>ra</th><th>dec</th><th>diam</th></tr></thead>\n",
       "<thead><tr><th>str9</th><th>str27</th><th>str88</th><th>str3</th><th>float64</th><th>float64</th><th>float32</th></tr></thead>\n",
       "<tr><td>NGC6742</td><td>NGC 6742 Planetary Nebula</td><td>http://legacysurvey.org/viewer/?layer=decals-dr6&amp;ra=284.83291667&amp;dec=48.46527778</td><td>dr6</td><td>284.83291667</td><td>48.46527778</td><td>1.5</td></tr>\n",
       "<tr><td>M92</td><td>Messier 92 Globular Cluster</td><td>http://legacysurvey.org/viewer/?layer=decals-dr6&amp;ra=259.28029167&amp;dec=43.13652778&amp;zoom=12</td><td>dr6</td><td>259.28029167</td><td>43.13652778</td><td>20.0</td></tr>\n",
       "<tr><td>Bow-Shock</td><td>Interstellar Bow Shock</td><td>http://legacysurvey.org/viewer?ra=325.6872&amp;dec=1.0032&amp;zoom=14&amp;layer=decals-dr5</td><td>dr5</td><td>325.6872</td><td>1.0032</td><td>4.0</td></tr>\n",
       "<tr><td>NGC2782</td><td>NGC 2782</td><td>http://legacysurvey.org/viewer/?layer=decals-dr6&amp;ra=138.52129167&amp;dec=40.11369444&amp;zoom=12</td><td>dr6</td><td>138.52129167</td><td>40.11369444</td><td>7.0</td></tr>\n",
       "<tr><td>UGC10321</td><td>UGC 10321 Galaxy Group</td><td>http://legacysurvey.org/viewer?ra=244.5280&amp;dec=21.5591&amp;zoom=14&amp;layer=decals-dr5</td><td>dr5</td><td>244.528</td><td>21.5591</td><td>3.0</td></tr>\n",
       "<tr><td>C4-2010</td><td>SDSS/C4 Galaxy Cluster 2010</td><td>http://legacysurvey.org/viewer?ra=29.0707&amp;dec=1.0510&amp;zoom=13&amp;layer=decals-dr5</td><td>dr5</td><td>29.070641492</td><td>1.050816667</td><td>5.0</td></tr>\n",
       "</table>"
      ],
      "text/plain": [
       "<Table length=6>\n",
       "   name             nicename          ...     dec       diam \n",
       "   str9              str27            ...   float64   float32\n",
       "--------- --------------------------- ... ----------- -------\n",
       "  NGC6742   NGC 6742 Planetary Nebula ... 48.46527778     1.5\n",
       "      M92 Messier 92 Globular Cluster ... 43.13652778    20.0\n",
       "Bow-Shock      Interstellar Bow Shock ...      1.0032     4.0\n",
       "  NGC2782                    NGC 2782 ... 40.11369444     7.0\n",
       " UGC10321      UGC 10321 Galaxy Group ...     21.5591     3.0\n",
       "  C4-2010 SDSS/C4 Galaxy Cluster 2010 ... 1.050816667     5.0"
      ]
     },
     "execution_count": 9,
     "metadata": {},
     "output_type": "execute_result"
    }
   ],
   "source": [
    "cat = Table()\n",
    "cat['name'] = (\n",
    "    'NGC6742',\n",
    "    'M92', \n",
    "    'Bow-Shock', \n",
    "    'NGC2782',\n",
    "    'UGC10321', \n",
    "    'C4-2010'\n",
    ")\n",
    "cat['nicename'] = (\n",
    "    'NGC 6742 Planetary Nebula',\n",
    "    'Messier 92 Globular Cluster', \n",
    "    'Interstellar Bow Shock', \n",
    "    'NGC 2782',\n",
    "    'UGC 10321 Galaxy Group', \n",
    "    'SDSS/C4 Galaxy Cluster 2010'\n",
    ")\n",
    "cat['viewer'] = (\n",
    "    'http://legacysurvey.org/viewer/?layer=decals-dr6&ra=284.83291667&dec=48.46527778',\n",
    "    'http://legacysurvey.org/viewer/?layer=decals-dr6&ra=259.28029167&dec=43.13652778&zoom=12',\n",
    "    'http://legacysurvey.org/viewer?ra=325.6872&dec=1.0032&zoom=14&layer=decals-dr5',         \n",
    "    'http://legacysurvey.org/viewer/?layer=decals-dr6&ra=138.52129167&dec=40.11369444&zoom=12',\n",
    "    'http://legacysurvey.org/viewer?ra=244.5280&dec=21.5591&zoom=14&layer=decals-dr5',\n",
    "    'http://legacysurvey.org/viewer?ra=29.0707&dec=1.0510&zoom=13&layer=decals-dr5'\n",
    ")\n",
    "cat['dr'] = (\n",
    "    'dr6',\n",
    "    'dr6', \n",
    "    'dr5',\n",
    "    'dr6',\n",
    "    'dr5', \n",
    "    'dr5'\n",
    ")\n",
    "cat['ra'] = (\n",
    "    284.83291667,\n",
    "    259.28029167, \n",
    "    325.6872, \n",
    "    138.52129167,\n",
    "    244.5280, \n",
    "    29.070641492\n",
    ")\n",
    "cat['dec'] = (\n",
    "    48.46527778,\n",
    "    43.13652778, \n",
    "    1.0032, \n",
    "    40.11369444,\n",
    "    21.5591, \n",
    "    1.050816667\n",
    ")\n",
    "cat['diam'] = np.array([\n",
    "    1.5,\n",
    "    20, \n",
    "    4, \n",
    "    7,\n",
    "    3, \n",
    "    5 \n",
    "]).astype('f4') # [arcmin]\n",
    "cat"
   ]
  },
  {
   "cell_type": "markdown",
   "metadata": {},
   "source": [
    "#### Some rejected objects."
   ]
  },
  {
   "cell_type": "code",
   "execution_count": 10,
   "metadata": {},
   "outputs": [
    {
     "data": {
      "text/html": [
       "&lt;Table length=2&gt;\n",
       "<table id=\"table47439024968536\" class=\"table-striped table-bordered table-condensed\">\n",
       "<thead><tr><th>name</th><th>nicename</th><th>viewer</th><th>dr</th><th>ra</th><th>dec</th><th>diam</th></tr></thead>\n",
       "<thead><tr><th>str8</th><th>str20</th><th>str79</th><th>str3</th><th>float64</th><th>float64</th><th>float32</th></tr></thead>\n",
       "<tr><td>Abell383</td><td>Abell 383</td><td>http://legacysurvey.org/viewer?ra=42.0141&amp;dec=-3.5291&amp;zoom=15&amp;layer=decals-dr5</td><td>dr5</td><td>42.0141</td><td>-3.5291</td><td>6.0</td></tr>\n",
       "<tr><td>NGC2874</td><td>NGC2874 Galaxy Group</td><td>http://legacysurvey.org/viewer?ra=141.4373&amp;dec=11.4284&amp;zoom=13&amp;layer=decals-dr5</td><td>dr5</td><td>141.44215</td><td>11.43696</td><td>6.0</td></tr>\n",
       "</table>"
      ],
      "text/plain": [
       "<Table length=2>\n",
       "  name         nicename       ...   dec      diam \n",
       "  str8          str20         ... float64  float32\n",
       "-------- -------------------- ... -------- -------\n",
       "Abell383            Abell 383 ...  -3.5291     6.0\n",
       " NGC2874 NGC2874 Galaxy Group ... 11.43696     6.0"
      ]
     },
     "execution_count": 10,
     "metadata": {},
     "output_type": "execute_result"
    }
   ],
   "source": [
    "toss = Table()\n",
    "toss['name'] = (\n",
    "    'Abell383', \n",
    "    'NGC2874'\n",
    ")\n",
    "toss['nicename'] = (\n",
    "    'Abell 383', \n",
    "    'NGC2874 Galaxy Group'\n",
    ")\n",
    "toss['viewer'] = (\n",
    "    'http://legacysurvey.org/viewer?ra=42.0141&dec=-3.5291&zoom=15&layer=decals-dr5',\n",
    "    'http://legacysurvey.org/viewer?ra=141.4373&dec=11.4284&zoom=13&layer=decals-dr5'\n",
    ")\n",
    "toss['dr'] = (\n",
    "    'dr5', # Abell 383\n",
    "    'dr5'  # C4 cluster\n",
    ")\n",
    "toss['ra'] = (\n",
    "    42.0141, \n",
    "    141.44215000\n",
    ")\n",
    "toss['dec'] = (\n",
    "    -3.5291, \n",
    "    11.43696000\n",
    ")\n",
    "toss['diam'] = np.array([\n",
    "    6, \n",
    "    6\n",
    "]).astype('f4') # [arcmin]\n",
    "toss"
   ]
  },
  {
   "cell_type": "markdown",
   "metadata": {},
   "source": [
    "### Ensure all objects are in the DR5+DR6 footprint before building coadds."
   ]
  },
  {
   "cell_type": "code",
   "execution_count": 11,
   "metadata": {},
   "outputs": [],
   "source": [
    "def init_survey(dr='dr5'):\n",
    "    from legacypipe.survey import LegacySurveyData\n",
    "    \n",
    "    survey = ''\n",
    "    try:\n",
    "        del survey\n",
    "    except:\n",
    "        pass\n",
    "    \n",
    "    if dr == 'dr5':\n",
    "        survey = LegacySurveyData(\n",
    "            #survey_dir='/global/cscratch1/sd/dstn/dr5-new-sky',\n",
    "            survey_dir='/global/cscratch1/sd/desiproc/dr7',\n",
    "            #survey_dir='/global/project/projectdirs/cosmo/work/legacysurvey/dr5',\n",
    "            #cache_dir='/global/cscratch1/sd/desiproc/dr5-calib',\n",
    "            #survey_dir='/global/cscratch1/sd/desiproc/dr5-calib',\n",
    "            #cache_dir='/global/cscratch1/sd/desiproc/dr7/calib',\n",
    "            output_dir=figdir)\n",
    "    elif dr == 'dr6':\n",
    "        survey = LegacySurveyData(\n",
    "            survey_dir='/global/cscratch1/sd/dstn/dr6plus',\n",
    "            output_dir=figdir)\n",
    "    \n",
    "    return survey"
   ]
  },
  {
   "cell_type": "code",
   "execution_count": 12,
   "metadata": {},
   "outputs": [],
   "source": [
    "def simple_wcs(obj):\n",
    "    \"\"\"Build a simple WCS object for a single object.\"\"\"\n",
    "    from astrometry.util.util import Tan\n",
    "    \n",
    "    size = np.rint(obj['diam'] * 60 / PIXSCALE).astype('int') # [pixels]\n",
    "    wcs = Tan(obj['ra'], obj['dec'], size/2+0.5, size/2+0.5,\n",
    "                 -PIXSCALE/3600.0, 0.0, 0.0, PIXSCALE/3600.0, \n",
    "                 float(size), float(size))\n",
    "    return wcs"
   ]
  },
  {
   "cell_type": "code",
   "execution_count": 13,
   "metadata": {},
   "outputs": [],
   "source": [
    "def _build_sample_one(args):\n",
    "    \"\"\"Wrapper function for the multiprocessing.\"\"\"\n",
    "    return build_sample_one(*args)"
   ]
  },
  {
   "cell_type": "code",
   "execution_count": 14,
   "metadata": {},
   "outputs": [],
   "source": [
    "def build_sample_one(obj, verbose=False):\n",
    "    \"\"\"Wrapper function to find overlapping grz CCDs for a given object.\n",
    "    \n",
    "    \"\"\"\n",
    "    survey = init_survey(dr=obj['dr'])\n",
    "    \n",
    "    print('Working on {}...'.format(obj['name']))\n",
    "    wcs = simple_wcs(obj)\n",
    "    try:\n",
    "        ccds = survey.ccds_touching_wcs(wcs) # , ccdrad=2*diam/3600)\n",
    "    except:\n",
    "        return None\n",
    "    \n",
    "    if ccds:\n",
    "        # Is there 3-band coverage?\n",
    "        if 'g' in ccds.filter and 'r' in ccds.filter and 'z' in ccds.filter:\n",
    "            if verbose:\n",
    "                print('For {} found {} CCDs, RA = {:.5f}, Dec = {:.5f}, Diameter={:.4f} arcmin'.format(\n",
    "                        obj['name'], len(ccds), obj['ra'], obj['dec'], obj['diam']))\n",
    "            return obj\n",
    "    return None"
   ]
  },
  {
   "cell_type": "code",
   "execution_count": 15,
   "metadata": {},
   "outputs": [],
   "source": [
    "def build_sample(cat, use_nproc=nproc):\n",
    "    \"\"\"Build the full sample with grz coverage in DR6.\"\"\"\n",
    "\n",
    "    sampleargs = list()\n",
    "    for cc in cat:\n",
    "        sampleargs.append( (cc, True) ) # the False refers to verbose=False\n",
    "\n",
    "    if use_nproc > 1:\n",
    "        p = multiprocessing.Pool(nproc)\n",
    "        result = p.map(_build_sample_one, sampleargs)\n",
    "        p.close()\n",
    "    else:\n",
    "        result = list()\n",
    "        for args in sampleargs:\n",
    "            result.append(_build_sample_one(args))\n",
    "\n",
    "    # Remove non-matching objects and write out the sample\n",
    "    outcat = vstack(list(filter(None, result)))\n",
    "    print('Found {}/{} objects in the DR5+6 footprint.'.format(len(outcat), len(cat)))\n",
    "    \n",
    "    return outcat"
   ]
  },
  {
   "cell_type": "code",
   "execution_count": 16,
   "metadata": {},
   "outputs": [
    {
     "name": "stdout",
     "output_type": "stream",
     "text": [
      "Working on NGC6742...\n",
      "Searching /global/cscratch1/sd/dstn/dr6plus/survey-ccds-dr6plus.kd.fits\n",
      "162 CCDs within 1.0 deg of RA,Dec (284.833, 48.465)\n",
      "For NGC6742 found 7 CCDs, RA = 284.83292, Dec = 48.46528, Diameter=1.5000 arcmin\n",
      "Working on M92...\n",
      "Searching /global/cscratch1/sd/dstn/dr6plus/survey-ccds-dr6plus.kd.fits\n",
      "192 CCDs within 1.0 deg of RA,Dec (259.280, 43.137)\n",
      "For M92 found 33 CCDs, RA = 259.28029, Dec = 43.13653, Diameter=20.0000 arcmin\n",
      "Working on Bow-Shock...\n",
      "Searching /global/cscratch1/sd/desiproc/dr7/survey-ccds-dr7.kd.fits\n",
      "4923 CCDs within 1.0 deg of RA,Dec (325.687, 1.003)\n",
      "For Bow-Shock found 176 CCDs, RA = 325.68720, Dec = 1.00320, Diameter=4.0000 arcmin\n",
      "Working on NGC2782...\n",
      "Searching /global/cscratch1/sd/dstn/dr6plus/survey-ccds-dr6plus.kd.fits\n",
      "195 CCDs within 1.0 deg of RA,Dec (138.521, 40.114)\n",
      "For NGC2782 found 13 CCDs, RA = 138.52129, Dec = 40.11369, Diameter=7.0000 arcmin\n",
      "Working on UGC10321...\n",
      "Searching /global/cscratch1/sd/desiproc/dr7/survey-ccds-dr7.kd.fits\n",
      "613 CCDs within 1.0 deg of RA,Dec (244.528, 21.559)\n",
      "For UGC10321 found 20 CCDs, RA = 244.52800, Dec = 21.55910, Diameter=3.0000 arcmin\n",
      "Working on C4-2010...\n",
      "Searching /global/cscratch1/sd/desiproc/dr7/survey-ccds-dr7.kd.fits\n",
      "2076 CCDs within 1.0 deg of RA,Dec (29.071, 1.051)\n",
      "For C4-2010 found 49 CCDs, RA = 29.07064, Dec = 1.05082, Diameter=5.0000 arcmin\n",
      "Found 6/6 objects in the DR5+6 footprint.\n"
     ]
    }
   ],
   "source": [
    "sample = build_sample(cat, use_nproc=1)"
   ]
  },
  {
   "cell_type": "code",
   "execution_count": 17,
   "metadata": {},
   "outputs": [
    {
     "name": "stdout",
     "output_type": "stream",
     "text": [
      "Writing /global/cscratch1/sd/ioannis/overview-paper/gallery.fits\n"
     ]
    }
   ],
   "source": [
    "print('Writing {}'.format(figfile))\n",
    "sample.write(figfile, overwrite=True)"
   ]
  },
  {
   "cell_type": "code",
   "execution_count": 18,
   "metadata": {},
   "outputs": [
    {
     "data": {
      "text/html": [
       "&lt;Table length=6&gt;\n",
       "<table id=\"table47438973740312\" class=\"table-striped table-bordered table-condensed\">\n",
       "<thead><tr><th>name</th><th>nicename</th><th>viewer</th><th>dr</th><th>ra</th><th>dec</th><th>diam</th></tr></thead>\n",
       "<thead><tr><th>str36</th><th>str108</th><th>str352</th><th>str12</th><th>float64</th><th>float64</th><th>float32</th></tr></thead>\n",
       "<tr><td>NGC6742</td><td>NGC 6742 Planetary Nebula</td><td>http://legacysurvey.org/viewer/?layer=decals-dr6&amp;ra=284.83291667&amp;dec=48.46527778</td><td>dr6</td><td>284.83291667</td><td>48.46527778</td><td>1.5</td></tr>\n",
       "<tr><td>M92</td><td>Messier 92 Globular Cluster</td><td>http://legacysurvey.org/viewer/?layer=decals-dr6&amp;ra=259.28029167&amp;dec=43.13652778&amp;zoom=12</td><td>dr6</td><td>259.28029167</td><td>43.13652778</td><td>20.0</td></tr>\n",
       "<tr><td>Bow-Shock</td><td>Interstellar Bow Shock</td><td>http://legacysurvey.org/viewer?ra=325.6872&amp;dec=1.0032&amp;zoom=14&amp;layer=decals-dr5</td><td>dr5</td><td>325.6872</td><td>1.0032</td><td>4.0</td></tr>\n",
       "<tr><td>NGC2782</td><td>NGC 2782</td><td>http://legacysurvey.org/viewer/?layer=decals-dr6&amp;ra=138.52129167&amp;dec=40.11369444&amp;zoom=12</td><td>dr6</td><td>138.52129167</td><td>40.11369444</td><td>7.0</td></tr>\n",
       "<tr><td>UGC10321</td><td>UGC 10321 Galaxy Group</td><td>http://legacysurvey.org/viewer?ra=244.5280&amp;dec=21.5591&amp;zoom=14&amp;layer=decals-dr5</td><td>dr5</td><td>244.528</td><td>21.5591</td><td>3.0</td></tr>\n",
       "<tr><td>C4-2010</td><td>SDSS/C4 Galaxy Cluster 2010</td><td>http://legacysurvey.org/viewer?ra=29.0707&amp;dec=1.0510&amp;zoom=13&amp;layer=decals-dr5</td><td>dr5</td><td>29.070641492</td><td>1.050816667</td><td>5.0</td></tr>\n",
       "</table>"
      ],
      "text/plain": [
       "<Table length=6>\n",
       "   name             nicename          ...     dec       diam \n",
       "  str36              str108           ...   float64   float32\n",
       "--------- --------------------------- ... ----------- -------\n",
       "  NGC6742   NGC 6742 Planetary Nebula ... 48.46527778     1.5\n",
       "      M92 Messier 92 Globular Cluster ... 43.13652778    20.0\n",
       "Bow-Shock      Interstellar Bow Shock ...      1.0032     4.0\n",
       "  NGC2782                    NGC 2782 ... 40.11369444     7.0\n",
       " UGC10321      UGC 10321 Galaxy Group ...     21.5591     3.0\n",
       "  C4-2010 SDSS/C4 Galaxy Cluster 2010 ... 1.050816667     5.0"
      ]
     },
     "execution_count": 18,
     "metadata": {},
     "output_type": "execute_result"
    }
   ],
   "source": [
    "sample"
   ]
  },
  {
   "cell_type": "markdown",
   "metadata": {},
   "source": [
    "### Generate the color mosaics for each object."
   ]
  },
  {
   "cell_type": "code",
   "execution_count": 19,
   "metadata": {},
   "outputs": [],
   "source": [
    "def custom_brickname(obj, prefix='custom-'): \n",
    "    brickname = 'custom-{:06d}{}{:05d}'.format(\n",
    "        int(1000*obj['ra']), 'm' if obj['dec'] < 0 else 'p', \n",
    "        int(1000*np.abs(obj['dec'])))\n",
    "    return brickname"
   ]
  },
  {
   "cell_type": "code",
   "execution_count": 23,
   "metadata": {},
   "outputs": [],
   "source": [
    "def custom_coadds_one(obj, scale=PIXSCALE, clobber=False):\n",
    "    from legacypipe.runbrick import run_brick\n",
    "    #from astrometry.util.multiproc import multiproc\n",
    "    #from legacypipe.runbrick import stage_tims, run_brick\n",
    "    #from legacypipe.coadds import make_coadds\n",
    "\n",
    "    name = obj['name']\n",
    "    jpgfile = os.path.join(jpgdir, '{}.jpg'.format(name))\n",
    "    if os.path.isfile(jpgfile) and not clobber:\n",
    "        print('File {} exists...skipping.'.format(jpgfile))\n",
    "    else:\n",
    "        size = np.rint(obj['diam'] * 60 / scale).astype('int') # [pixels]\n",
    "        print('Generating mosaic for {} with width={} pixels.'.format(name, size))\n",
    "        \n",
    "        bands = ('g', 'r', 'z')\n",
    "        survey = init_survey(dr=obj['dr'])\n",
    "        brickname = custom_brickname(obj, prefix='custom-')\n",
    "        \n",
    "        #mp = multiproc(nthreads=nproc)\n",
    "        \n",
    "        with warnings.catch_warnings():\n",
    "            warnings.simplefilter(\"ignore\")\n",
    "            run_brick(None, survey, radec=(obj['ra'], obj['dec']), pixscale=scale, \n",
    "                      width=size, height=size, stages=['image_coadds'], splinesky=True,\n",
    "                      early_coadds=True, pixPsf=True, hybridPsf=True, normalizePsf=True,\n",
    "                      write_pickles=False, depth_cut=False, apodize=True, threads=nproc,\n",
    "                      do_calibs=False, ceres=False)\n",
    "\n",
    "            #P = stage_tims(ra=obj['ra'], dec=obj['dec'], brickname=brickname,\n",
    "            #               survey=survey, W=size, H=size, pixscale=scale,\n",
    "            #               mp=mp, pixPsf=True, hybridPsf=True, normalizePsf=True,\n",
    "            #               depth_cut=False, apodize=True, do_calibs=False, \n",
    "            #               rex=True, splinesky=True)\n",
    "\n",
    "            #C = make_coadds(P['tims'], bands, P['targetwcs'], mp=mp,\n",
    "            #                callback=write_coadd_images,\n",
    "            #                callback_args=(survey, brickname, P['version_header'],\n",
    "            #                               P['tims'], P['targetwcs']))\n",
    "            \n",
    "        sys.stdout.flush()    \n",
    "        _jpgfile = os.path.join(survey.output_dir, 'coadd', 'cus', brickname, \n",
    "                               'legacysurvey-{}-image.jpg'.format(brickname))\n",
    "        shutil.copy(_jpgfile, jpgfile)\n",
    "        #shutil.rmtree(os.path.join(survey.output_dir, 'coadd'))"
   ]
  },
  {
   "cell_type": "code",
   "execution_count": 21,
   "metadata": {},
   "outputs": [
    {
     "name": "stdout",
     "output_type": "stream",
     "text": [
      "Generating mosaic for Bow-Shock with width=916 pixels.\n",
      "Total Memory Available to Job:\n",
      "Maximum VMEM                      (RLIMIT_AS      ) :                   -1                   -1\n",
      "Maximum core file size            (RLIMIT_CORE    ) :                    0                   -1\n",
      "Maximum CPU time                  (RLIMIT_CPU     ) :                   -1                   -1\n",
      "Maximum file size                 (RLIMIT_FSIZE   ) :                   -1                   -1\n",
      "Maximum heap size                 (RLIMIT_DATA    ) :                   -1                   -1\n",
      "Maximum stack size                (RLIMIT_STACK   ) :                   -1                   -1\n",
      "Maximum resident set size         (RLIMIT_RSS     ) :                   -1                   -1\n",
      "Maximum number of processes       (RLIMIT_NPROC   ) :                 2048                 8192\n",
      "Maximum number of open files      (RLIMIT_NOFILE  ) :                 4096                65536\n",
      "Maximum lockable memory address   (RLIMIT_MEMLOCK ) :                   -1                   -1\n",
      "RA,Dec: (325.68720000000002, 1.0032000000000001)\n",
      "Parsed RA,Dec 325.6872 1.0032\n",
      "Starting process 32285 Wall: -0.00 s, CPU: -0.00 s\n",
      "Starting process 32287 Wall: -0.00 s, CPU: -0.00 s\n",
      "Starting process 32291 Wall: -0.00 s, CPU: -0.00 s\n",
      "Starting process 32294 Wall: -0.00 s, CPU: -0.00 s\n",
      "Starting process 32297 Wall: -0.00 s, CPU: -0.00 s\n",
      "Starting process 32300 Wall: -0.00 s, CPU: -0.00 s\n",
      "Starting process 32303 Wall: -0.00 s, CPU: -0.00 s\n",
      "Starting process 32306 Wall: -0.00 s, CPU: -0.00 s\n",
      "Starting process 32309 Wall: -0.00 s, CPU: -0.00 s\n",
      "Starting process 32312 Wall: -0.00 s, CPU: -0.00 s\n",
      "Starting process 32315 Wall: -0.00 s, CPU: -0.00 s\n",
      "Starting process 32318 Wall: -0.00 s, CPU: -0.00 s\n",
      "Starting process 32321 Wall: -0.00 s, CPU: -0.00 s\n",
      "Starting process 32324 Wall: -0.00 s, CPU: -0.00 s\n",
      "Starting process 32327 Wall: -0.00 s, CPU: -0.00 s\n",
      "Starting process 32330 Wall: -0.00 s, CPU: -0.00 s\n",
      "Runstage image_coadds\n",
      "Ignoring pickle pickles/runbrick-custom-325687p01003-image_coadds.pickle and forcing stage image_coadds\n",
      "Runstage mask_junk\n",
      "Reading pickle pickles/runbrick-custom-325687p01003-mask_junk.pickle\n",
      "Running stage image_coadds\n",
      "Running stage image_coadds at 2018-04-04T18:51:15.280335\n",
      "Wrote /global/cscratch1/sd/ioannis/overview-paper/coadd/cus/custom-325687p01003/tmp-legacysurvey-custom-325687p01003-ccds.fits\n",
      "Renamed to /global/cscratch1/sd/ioannis/overview-paper/coadd/cus/custom-325687p01003/legacysurvey-custom-325687p01003-ccds.fits\n",
      "Doing Lanczos resampling\n",
      "Computing coadd for band g\n",
      "Applying surface-brightness scaling of 0.998 to decam-00241991-S31 g\n",
      "Applying surface-brightness scaling of 0.998 to decam-00241991-S27 g\n",
      "Applying surface-brightness scaling of 0.998 to decam-00450912-N9 g\n",
      "Applying surface-brightness scaling of 0.998 to decam-00450897-N9 g\n",
      "Applying surface-brightness scaling of 0.998 to decam-00450892-N9 g\n",
      "Applying surface-brightness scaling of 0.998 to decam-00450903-N9 g\n",
      "Applying surface-brightness scaling of 0.998 to decam-00450902-N9 g\n",
      "Applying surface-brightness scaling of 0.998 to decam-00450913-N9 g\n",
      "Applying surface-brightness scaling of 0.998 to decam-00450907-N9 g\n",
      "Applying surface-brightness scaling of 0.998 to decam-00450917-N9 g\n",
      "Applying surface-brightness scaling of 0.998 to decam-00450887-N9 g\n",
      "Applying surface-brightness scaling of 0.998 to decam-00450882-N9 g\n",
      "Applying surface-brightness scaling of 0.998 to decam-00450898-N9 g\n",
      "Applying surface-brightness scaling of 0.998 to decam-00450908-N9 g\n",
      "Applying surface-brightness scaling of 0.997 to decam-00450879-N9 g\n",
      "Applying surface-brightness scaling of 0.998 to decam-00450883-N9 g\n",
      "Applying surface-brightness scaling of 0.998 to decam-00241581-S31 g\n",
      "Applying surface-brightness scaling of 0.998 to decam-00450884-N9 g\n",
      "Applying surface-brightness scaling of 0.998 to decam-00241781-S31 g\n",
      "Applying surface-brightness scaling of 0.998 to decam-00450894-N9 g\n",
      "Applying surface-brightness scaling of 0.998 to decam-00450889-N9 g\n",
      "Applying surface-brightness scaling of 0.998 to decam-00450914-N9 g\n",
      "Applying surface-brightness scaling of 0.998 to decam-00450909-N9 g\n",
      "Applying surface-brightness scaling of 0.998 to decam-00450904-N9 g\n",
      "Applying surface-brightness scaling of 0.998 to decam-00450899-N9 g\n",
      "Applying surface-brightness scaling of 0.998 to decam-00450910-N9 g\n",
      "Applying surface-brightness scaling of 0.998 to decam-00450900-N9 g\n",
      "Applying surface-brightness scaling of 0.997 to decam-00450880-N9 g\n",
      "Applying surface-brightness scaling of 0.998 to decam-00450891-N9 g\n",
      "Applying surface-brightness scaling of 0.998 to decam-00450916-N9 g\n",
      "Applying surface-brightness scaling of 0.998 to decam-00450896-N9 g\n",
      "Applying surface-brightness scaling of 0.998 to decam-00450886-N9 g\n",
      "Applying surface-brightness scaling of 0.998 to decam-00450901-N9 g\n",
      "Applying surface-brightness scaling of 0.998 to decam-00450906-N9 g\n",
      "Applying surface-brightness scaling of 0.998 to decam-00450881-N9 g\n",
      "Applying surface-brightness scaling of 0.998 to decam-00367141-N3 g\n",
      "Applying surface-brightness scaling of 0.998 to decam-00450911-N9 g\n",
      "Applying surface-brightness scaling of 0.998 to decam-00241582-S27 g\n",
      "Applying surface-brightness scaling of 0.998 to decam-00241782-S27 g\n",
      "Applying surface-brightness scaling of 0.998 to decam-00241583-S27 g\n",
      "Applying surface-brightness scaling of 0.998 to decam-00241783-S27 g\n",
      "Applying surface-brightness scaling of 0.998 to decam-00241992-S27 g\n",
      "Applying surface-brightness scaling of 0.998 to decam-00241993-S27 g\n",
      "Applying surface-brightness scaling of 0.998 to decam-00241581-S27 g\n",
      "Applying surface-brightness scaling of 0.998 to decam-00135574-S17 g\n",
      "Applying surface-brightness scaling of 0.998 to decam-00241578-S27 g\n",
      "Applying surface-brightness scaling of 0.998 to decam-00241781-S27 g\n",
      "Applying surface-brightness scaling of 0.998 to decam-00241988-S27 g\n",
      "Applying surface-brightness scaling of 0.998 to decam-00241778-S27 g\n",
      "Applying surface-brightness scaling of 0.998 to decam-00233133-S23 g\n",
      "Applying surface-brightness scaling of 0.998 to decam-00135590-S17 g\n",
      "Applying surface-brightness scaling of 0.998 to decam-00450893-N9 g\n",
      "Applying surface-brightness scaling of 0.998 to decam-00450918-N9 g\n",
      "Applying surface-brightness scaling of 0.998 to decam-00450888-N9 g\n",
      "Applying surface-brightness scaling of 0.998 to decam-00661555-N28 g\n",
      "Applying surface-brightness scaling of 0.998 to decam-00241990-S27 g\n",
      "Applying surface-brightness scaling of 0.998 to decam-00241780-S27 g\n",
      "Applying surface-brightness scaling of 0.998 to decam-00241580-S27 g\n",
      "Applying surface-brightness scaling of 0.998 to decam-00241989-S27 g\n",
      "Applying surface-brightness scaling of 0.998 to decam-00241779-S27 g\n",
      "Applying surface-brightness scaling of 0.998 to decam-00241579-S27 g\n",
      "Applying surface-brightness scaling of 0.998 to decam-00349700-N20 g\n",
      "Applying surface-brightness scaling of 0.998 to decam-00450905-N9 g\n",
      "Applying surface-brightness scaling of 0.998 to decam-00241997-S27 r\n",
      "Applying surface-brightness scaling of 0.998 to decam-00450915-N9 g\n",
      "Applying surface-brightness scaling of 0.998 to decam-00241787-S27 r\n",
      "Applying surface-brightness scaling of 0.998 to decam-00450890-N9 g\n",
      "Applying surface-brightness scaling of 0.998 to decam-00450895-N9 g\n",
      "Applying surface-brightness scaling of 0.998 to decam-00241587-S27 r\n",
      "Applying surface-brightness scaling of 0.998 to decam-00450885-N9 g\n",
      "Applying surface-brightness scaling of 0.998 to decam-00241996-S27 r\n",
      "Applying surface-brightness scaling of 0.998 to decam-00241998-S27 r\n",
      "Applying surface-brightness scaling of 0.997 to decam-00450864-N9 r\n",
      "Applying surface-brightness scaling of 0.998 to decam-00241996-S31 r\n",
      "Applying surface-brightness scaling of 0.997 to decam-00450859-N9 r\n",
      "Applying surface-brightness scaling of 0.997 to decam-00450874-N9 r\n",
      "Applying surface-brightness scaling of 0.997 to decam-00450847-N9 r\n",
      "Applying surface-brightness scaling of 0.997 to decam-00450872-N9 r\n",
      "Applying surface-brightness scaling of 0.997 to decam-00450867-N9 r\n",
      "Applying surface-brightness scaling of 0.997 to decam-00450877-N9 r\n",
      "Applying surface-brightness scaling of 0.997 to decam-00450857-N9 r\n",
      "Applying surface-brightness scaling of 0.997 to decam-00450873-N9 r\n",
      "Applying surface-brightness scaling of 0.998 to decam-00241786-S31 r\n"
     ]
    },
    {
     "name": "stdout",
     "output_type": "stream",
     "text": [
      "Applying surface-brightness scaling of 0.998 to decam-00241586-S31 r\n",
      "Applying surface-brightness scaling of 0.997 to decam-00450862-N9 r\n",
      "Applying surface-brightness scaling of 0.997 to decam-00450858-N9 r\n",
      "Applying surface-brightness scaling of 0.997 to decam-00450863-N9 r\n",
      "Applying surface-brightness scaling of 0.997 to decam-00450868-N9 r\n",
      "Applying surface-brightness scaling of 0.997 to decam-00450878-N9 r\n",
      "Applying surface-brightness scaling of 0.997 to decam-00450839-N9 r\n",
      "Applying surface-brightness scaling of 0.998 to decam-00241589-S28 r\n",
      "Applying surface-brightness scaling of 0.998 to decam-00241588-S28 r\n",
      "Applying surface-brightness scaling of 0.997 to decam-00450854-N9 r\n",
      "Applying surface-brightness scaling of 0.997 to decam-00450849-N9 r\n",
      "Applying surface-brightness scaling of 0.997 to decam-00450869-N9 r\n",
      "Applying surface-brightness scaling of 0.997 to decam-00450855-N9 r\n",
      "Applying surface-brightness scaling of 0.997 to decam-00450865-N9 r\n",
      "Applying surface-brightness scaling of 0.997 to decam-00450845-N9 r\n",
      "Applying surface-brightness scaling of 0.997 to decam-00450870-N9 r\n",
      "Applying surface-brightness scaling of 0.997 to decam-00450860-N9 r\n",
      "Applying surface-brightness scaling of 0.997 to decam-00450866-N9 r\n",
      "Applying surface-brightness scaling of 0.997 to decam-00450846-N9 r\n",
      "Applying surface-brightness scaling of 0.997 to decam-00450871-N9 r\n",
      "Applying surface-brightness scaling of 0.998 to decam-00241588-S27 r\n",
      "Applying surface-brightness scaling of 0.998 to decam-00241589-S27 r\n",
      "Applying surface-brightness scaling of 0.997 to decam-00450861-N9 r\n",
      "Applying surface-brightness scaling of 0.997 to decam-00450876-N9 r\n",
      "Applying surface-brightness scaling of 0.998 to decam-00241789-S27 r\n",
      "Applying surface-brightness scaling of 0.998 to decam-00241788-S27 r\n",
      "Applying surface-brightness scaling of 0.997 to decam-00450856-N9 r\n",
      "Applying surface-brightness scaling of 0.998 to decam-00241999-S27 r\n",
      "Applying surface-brightness scaling of 0.998 to decam-00241784-S27 r\n",
      "Applying surface-brightness scaling of 0.998 to decam-00367139-N23 r\n",
      "Applying surface-brightness scaling of 0.998 to decam-00241584-S27 r\n",
      "Applying surface-brightness scaling of 0.998 to decam-00241994-S27 r\n",
      "Applying surface-brightness scaling of 0.998 to decam-00241586-S27 r\n",
      "Applying surface-brightness scaling of 0.998 to decam-00135573-S17 r\n",
      "Applying surface-brightness scaling of 0.998 to decam-00241786-S27 r\n",
      "Applying surface-brightness scaling of 0.998 to decam-00241585-S27 r\n",
      "Applying surface-brightness scaling of 0.998 to decam-00241785-S27 r\n",
      "Applying surface-brightness scaling of 0.998 to decam-00241998-S31 r\n",
      "Applying surface-brightness scaling of 0.998 to decam-00241997-S31 r\n",
      "Applying surface-brightness scaling of 0.998 to decam-00241788-S31 r\n",
      "Applying surface-brightness scaling of 0.998 to decam-00241995-S27 r\n",
      "Applying surface-brightness scaling of 0.998 to decam-00241787-S31 r\n",
      "Applying surface-brightness scaling of 0.998 to decam-00569144-N31 r\n",
      "Applying surface-brightness scaling of 0.998 to decam-00241588-S31 r\n",
      "Applying surface-brightness scaling of 0.998 to decam-00241587-S31 r\n",
      "Applying surface-brightness scaling of 0.998 to decam-00348736-N28 r\n",
      "Applying surface-brightness scaling of 0.998 to decam-00241601-S28 z\n",
      "Applying surface-brightness scaling of 0.998 to decam-00558570-N20 r\n",
      "Applying surface-brightness scaling of 0.998 to decam-00241801-S28 z\n",
      "Applying surface-brightness scaling of 0.997 to decam-00450850-N9 r\n",
      "Applying surface-brightness scaling of 0.998 to decam-00242011-S28 z\n",
      "Applying surface-brightness scaling of 0.997 to decam-00450840-N9 r\n",
      "Applying surface-brightness scaling of 0.998 to decam-00241597-S28 z\n",
      "Applying surface-brightness scaling of 0.998 to decam-00241602-S28 z\n",
      "Applying surface-brightness scaling of 0.997 to decam-00450875-N9 r\n",
      "Applying surface-brightness scaling of 0.998 to decam-00242006-S28 z\n",
      "Applying surface-brightness scaling of 0.998 to decam-00242007-S27 z\n",
      "Applying surface-brightness scaling of 0.998 to decam-00241596-S28 z\n",
      "Applying surface-brightness scaling of 0.998 to decam-00241797-S27 z\n",
      "Applying surface-brightness scaling of 0.998 to decam-00241597-S27 z\n",
      "Applying surface-brightness scaling of 0.998 to decam-00241796-S28 z\n",
      "Applying surface-brightness scaling of 0.998 to decam-00241596-S27 z\n",
      "Applying surface-brightness scaling of 0.998 to decam-00242006-S27 z\n",
      "Applying surface-brightness scaling of 0.998 to decam-00241796-S27 z\n",
      "Applying surface-brightness scaling of 0.998 to decam-00135571-S17 z\n",
      "Applying surface-brightness scaling of 0.998 to decam-00241800-S31 z\n",
      "Applying surface-brightness scaling of 0.998 to decam-00242008-S31 z\n",
      "Applying surface-brightness scaling of 0.998 to decam-00242010-S31 z\n",
      "Applying surface-brightness scaling of 0.998 to decam-00242006-S31 z\n",
      "Applying surface-brightness scaling of 0.998 to decam-00241596-S31 z\n",
      "Applying surface-brightness scaling of 0.998 to decam-00241801-S31 z\n",
      "Applying surface-brightness scaling of 0.998 to decam-00241796-S31 z\n",
      "Applying surface-brightness scaling of 0.998 to decam-00241598-S31 z\n",
      "Applying surface-brightness scaling of 0.998 to decam-00241600-S31 z\n",
      "Applying surface-brightness scaling of 0.998 to decam-00241798-S31 z\n",
      "Applying surface-brightness scaling of 0.998 to decam-00242007-S31 z\n",
      "Applying surface-brightness scaling of 0.998 to decam-00242011-S31 z\n",
      "Applying surface-brightness scaling of 0.998 to decam-00241797-S31 z\n",
      "Applying surface-brightness scaling of 0.998 to decam-00241597-S31 z\n",
      "Applying surface-brightness scaling of 0.998 to decam-00241602-S31 z\n",
      "Applying surface-brightness scaling of 0.998 to decam-00241601-S31 z\n",
      "Applying surface-brightness scaling of 0.998 to decam-00347984-N28 z\n",
      "Applying surface-brightness scaling of 0.998 to decam-00242009-S31 z\n",
      "Applying surface-brightness scaling of 0.998 to decam-00241799-S31 z\n",
      "Applying surface-brightness scaling of 0.998 to decam-00567406-N31 z\n",
      "Applying surface-brightness scaling of 0.998 to decam-00563116-N20 z\n",
      "Applying surface-brightness scaling of 0.998 to decam-00241599-S31 z\n",
      "Wrote /global/cscratch1/sd/ioannis/overview-paper/coadd/cus/custom-325687p01003/tmp-legacysurvey-custom-325687p01003-image-g.fits.fz\n",
      "Renamed to /global/cscratch1/sd/ioannis/overview-paper/coadd/cus/custom-325687p01003/legacysurvey-custom-325687p01003-image-g.fits.fz\n",
      "Wrote /global/cscratch1/sd/ioannis/overview-paper/coadd/cus/custom-325687p01003/tmp-legacysurvey-custom-325687p01003-invvar-g.fits.fz\n",
      "Renamed to /global/cscratch1/sd/ioannis/overview-paper/coadd/cus/custom-325687p01003/legacysurvey-custom-325687p01003-invvar-g.fits.fz\n",
      "Wrote /global/cscratch1/sd/ioannis/overview-paper/coadd/cus/custom-325687p01003/tmp-legacysurvey-custom-325687p01003-nexp-g.fits.fz\n",
      "Renamed to /global/cscratch1/sd/ioannis/overview-paper/coadd/cus/custom-325687p01003/legacysurvey-custom-325687p01003-nexp-g.fits.fz\n",
      "Wrote /global/cscratch1/sd/ioannis/overview-paper/coadd/cus/custom-325687p01003/tmp-legacysurvey-custom-325687p01003-depth-g.fits.fz\n",
      "Renamed to /global/cscratch1/sd/ioannis/overview-paper/coadd/cus/custom-325687p01003/legacysurvey-custom-325687p01003-depth-g.fits.fz\n",
      "Wrote /global/cscratch1/sd/ioannis/overview-paper/coadd/cus/custom-325687p01003/tmp-legacysurvey-custom-325687p01003-galdepth-g.fits.fz\n",
      "Renamed to /global/cscratch1/sd/ioannis/overview-paper/coadd/cus/custom-325687p01003/legacysurvey-custom-325687p01003-galdepth-g.fits.fz\n",
      "Computing coadd for band r\n",
      "Wrote /global/cscratch1/sd/ioannis/overview-paper/coadd/cus/custom-325687p01003/tmp-legacysurvey-custom-325687p01003-image-r.fits.fz\n",
      "Renamed to /global/cscratch1/sd/ioannis/overview-paper/coadd/cus/custom-325687p01003/legacysurvey-custom-325687p01003-image-r.fits.fz\n",
      "Wrote /global/cscratch1/sd/ioannis/overview-paper/coadd/cus/custom-325687p01003/tmp-legacysurvey-custom-325687p01003-invvar-r.fits.fz\n",
      "Renamed to /global/cscratch1/sd/ioannis/overview-paper/coadd/cus/custom-325687p01003/legacysurvey-custom-325687p01003-invvar-r.fits.fz\n",
      "Wrote /global/cscratch1/sd/ioannis/overview-paper/coadd/cus/custom-325687p01003/tmp-legacysurvey-custom-325687p01003-nexp-r.fits.fz\n",
      "Renamed to /global/cscratch1/sd/ioannis/overview-paper/coadd/cus/custom-325687p01003/legacysurvey-custom-325687p01003-nexp-r.fits.fz\n",
      "Wrote /global/cscratch1/sd/ioannis/overview-paper/coadd/cus/custom-325687p01003/tmp-legacysurvey-custom-325687p01003-depth-r.fits.fz\n",
      "Renamed to /global/cscratch1/sd/ioannis/overview-paper/coadd/cus/custom-325687p01003/legacysurvey-custom-325687p01003-depth-r.fits.fz\n",
      "Wrote /global/cscratch1/sd/ioannis/overview-paper/coadd/cus/custom-325687p01003/tmp-legacysurvey-custom-325687p01003-galdepth-r.fits.fz\n",
      "Renamed to /global/cscratch1/sd/ioannis/overview-paper/coadd/cus/custom-325687p01003/legacysurvey-custom-325687p01003-galdepth-r.fits.fz\n",
      "Computing coadd for band z\n"
     ]
    },
    {
     "name": "stdout",
     "output_type": "stream",
     "text": [
      "Wrote /global/cscratch1/sd/ioannis/overview-paper/coadd/cus/custom-325687p01003/tmp-legacysurvey-custom-325687p01003-image-z.fits.fz\n",
      "Renamed to /global/cscratch1/sd/ioannis/overview-paper/coadd/cus/custom-325687p01003/legacysurvey-custom-325687p01003-image-z.fits.fz\n",
      "Wrote /global/cscratch1/sd/ioannis/overview-paper/coadd/cus/custom-325687p01003/tmp-legacysurvey-custom-325687p01003-invvar-z.fits.fz\n",
      "Renamed to /global/cscratch1/sd/ioannis/overview-paper/coadd/cus/custom-325687p01003/legacysurvey-custom-325687p01003-invvar-z.fits.fz\n",
      "Wrote /global/cscratch1/sd/ioannis/overview-paper/coadd/cus/custom-325687p01003/tmp-legacysurvey-custom-325687p01003-nexp-z.fits.fz\n",
      "Renamed to /global/cscratch1/sd/ioannis/overview-paper/coadd/cus/custom-325687p01003/legacysurvey-custom-325687p01003-nexp-z.fits.fz\n",
      "Wrote /global/cscratch1/sd/ioannis/overview-paper/coadd/cus/custom-325687p01003/tmp-legacysurvey-custom-325687p01003-depth-z.fits.fz\n",
      "Renamed to /global/cscratch1/sd/ioannis/overview-paper/coadd/cus/custom-325687p01003/legacysurvey-custom-325687p01003-depth-z.fits.fz\n",
      "Wrote /global/cscratch1/sd/ioannis/overview-paper/coadd/cus/custom-325687p01003/tmp-legacysurvey-custom-325687p01003-galdepth-z.fits.fz\n",
      "Renamed to /global/cscratch1/sd/ioannis/overview-paper/coadd/cus/custom-325687p01003/legacysurvey-custom-325687p01003-galdepth-z.fits.fz\n",
      "coadds: images: Wall: 16.56 s, CPU: 17.96 s\n",
      "Computing unique brick pixels...\n",
      "837223 of 839056 pixels are unique to this brick\n",
      "g ptsrc band depth map: percentiles [  0.          25.90986633  25.9285183   26.10540199  26.11315155\n",
      "  26.11713409  26.11713409  26.12329102  26.12510681  26.12510681\n",
      "  26.12510681]\n",
      "g gal band depth map: percentiles [  0.          25.66506958  25.68304443  25.86001968  25.86803436\n",
      "  25.87181473  25.87181473  25.87797546  25.87973404  25.87973404\n",
      "  25.87973404]\n",
      "r ptsrc band depth map: percentiles [  0.          25.43478394  25.46063995  25.60848427  25.61804199\n",
      "  25.62324333  25.62562752  25.63606262  25.64013481  25.64867783\n",
      "  25.65187645]\n",
      "r gal band depth map: percentiles [  0.          25.17475891  25.19891357  25.34729004  25.35692406\n",
      "  25.36196709  25.36321449  25.3740921   25.37932587  25.38676453\n",
      "  25.38975716]\n",
      "z ptsrc band depth map: percentiles [  0.          23.89553261  23.89684296  24.01330948  24.0336113\n",
      "  24.0336113   24.04126167  24.06086349  24.0790081   24.08039284\n",
      "  24.08741379]\n",
      "z gal band depth map: percentiles [  0.          23.57352066  23.57600975  23.69857597  23.7209301\n",
      "  23.7209301   23.72632027  23.74829865  23.76386452  23.76563072\n",
      "  23.77101898]\n",
      "Wrote /global/cscratch1/sd/ioannis/overview-paper/coadd/cus/custom-325687p01003/tmp-legacysurvey-custom-325687p01003-depth.fits\n",
      "Renamed to /global/cscratch1/sd/ioannis/overview-paper/coadd/cus/custom-325687p01003/legacysurvey-custom-325687p01003-depth.fits\n",
      "pngtopnm /tmp/tmpjgt9vth7.png | pnmtojpeg -quality 90 > /global/cscratch1/sd/ioannis/overview-paper/coadd/cus/custom-325687p01003/tmp-legacysurvey-custom-325687p01003-image.jpg -> 0\n",
      "Wrote /global/cscratch1/sd/ioannis/overview-paper/coadd/cus/custom-325687p01003/tmp-legacysurvey-custom-325687p01003-image.jpg\n",
      "Renamed to /global/cscratch1/sd/ioannis/overview-paper/coadd/cus/custom-325687p01003/legacysurvey-custom-325687p01003-image.jpg\n",
      "Stage image_coadds : Wall: 28.59 s, CPU: 18.80 s\n",
      "Stage image_coadds finished: 2018-04-04T18:51:43.874965\n",
      "Resources for stage image_coadds :\n",
      "36.186 s worker CPU, 45.811 s worker Wall, Wall: 28.622 s, Cores in use: 1.92, Total efficiency (on 16 cores): 12.0 %\n",
      "Stage image_coadds finished\n",
      "Saving pickle pickles/runbrick-custom-325687p01003-image_coadds.pickle\n",
      "Saved pickles/runbrick-custom-325687p01003-image_coadds.pickle\n",
      "All done: 36.187 s worker CPU, 45.812 s worker Wall, Wall: 38.660 s, Cores in use: 1.57, Total efficiency (on 16 cores): 9.8 %\n"
     ]
    }
   ],
   "source": [
    "custom_coadds_one(sample[2], clobber=True)"
   ]
  },
  {
   "cell_type": "code",
   "execution_count": 22,
   "metadata": {},
   "outputs": [
    {
     "ename": "NameError",
     "evalue": "name 'stop' is not defined",
     "output_type": "error",
     "traceback": [
      "\u001b[0;31m---------------------------------------------------------------------------\u001b[0m",
      "\u001b[0;31mNameError\u001b[0m                                 Traceback (most recent call last)",
      "\u001b[0;32m<ipython-input-22-30d9529ff51c>\u001b[0m in \u001b[0;36m<module>\u001b[0;34m()\u001b[0m\n\u001b[0;32m----> 1\u001b[0;31m \u001b[0mstop\u001b[0m\u001b[0;34m\u001b[0m\u001b[0m\n\u001b[0m",
      "\u001b[0;31mNameError\u001b[0m: name 'stop' is not defined"
     ]
    }
   ],
   "source": [
    "stop"
   ]
  },
  {
   "cell_type": "code",
   "execution_count": null,
   "metadata": {},
   "outputs": [],
   "source": []
  },
  {
   "cell_type": "code",
   "execution_count": null,
   "metadata": {},
   "outputs": [],
   "source": [
    "def custom_coadds(sample, clobber=False):\n",
    "    for obj in sample:\n",
    "        custom_coadds_one(obj, clobber=clobber)"
   ]
  },
  {
   "cell_type": "code",
   "execution_count": null,
   "metadata": {},
   "outputs": [],
   "source": [
    "coaddslogfile = os.path.join(figdir, 'make-coadds.log')\n",
    "print('Generating the coadds.')\n",
    "print('Logging to {}'.format(coaddslogfile))\n",
    "t0 = time.time()\n",
    "with open(coaddslogfile, 'w') as log:\n",
    "    with redirect_stdout(log):\n",
    "        make_coadds(sample, clobber=True)\n",
    "print('Total time = {:.3f} minutes.'.format((time.time() - t0) / 60))"
   ]
  },
  {
   "cell_type": "markdown",
   "metadata": {},
   "source": [
    "### Add labels and a scale bar."
   ]
  },
  {
   "cell_type": "code",
   "execution_count": null,
   "metadata": {},
   "outputs": [],
   "source": [
    "barlen = np.round(60.0 / PIXSCALE).astype('int')\n",
    "fonttype = os.path.join(figdir, 'Georgia.ttf')"
   ]
  },
  {
   "cell_type": "code",
   "execution_count": null,
   "metadata": {},
   "outputs": [],
   "source": [
    "def _add_labels_one(args):\n",
    "    \"\"\"Wrapper function for the multiprocessing.\"\"\"\n",
    "    return add_labels_one(*args)"
   ]
  },
  {
   "cell_type": "code",
   "execution_count": null,
   "metadata": {},
   "outputs": [],
   "source": [
    "def add_labels_one(obj, verbose=False):\n",
    "    name = obj['name']\n",
    "    nicename = obj['nicename']\n",
    "    \n",
    "    jpgfile = os.path.join(jpgdir, '{}.jpg'.format(name))\n",
    "    pngfile = os.path.join(pngdir, '{}.png'.format(name))\n",
    "    thumbfile = os.path.join(pngdir, 'thumb-{}.png'.format(name))\n",
    "        \n",
    "    im = Image.open(jpgfile)\n",
    "    sz = im.size\n",
    "    fntsize = np.round(sz[0]/28).astype('int')\n",
    "    width = np.round(sz[0]/175).astype('int')\n",
    "    font = ImageFont.truetype(fonttype, size=fntsize)\n",
    "    draw = ImageDraw.Draw(im)\n",
    "    # Label the object name--\n",
    "    draw.text((0+fntsize*2, 0+fntsize*2), nicename, font=font)\n",
    "    # Add a scale bar--\n",
    "    x0, x1, yy = sz[1]-fntsize*2-barlen, sz[1]-fntsize*2, sz[0]-fntsize*2\n",
    "    draw.line((x0, yy, x1, yy), fill='white', width=width)\n",
    "    im.save(pngfile)    \n",
    "        \n",
    "    # Generate a thumbnail\n",
    "    if False:\n",
    "        cmd = '/usr/bin/convert -thumbnail 300x300 {} {}'.format(pngfile, thumbfile)\n",
    "        os.system(cmd)"
   ]
  },
  {
   "cell_type": "code",
   "execution_count": null,
   "metadata": {},
   "outputs": [],
   "source": [
    "def add_labels(sample):\n",
    "    labelargs = list()\n",
    "    for obj in sample:\n",
    "        labelargs.append((obj, False))\n",
    "\n",
    "    if nproc > 1:\n",
    "        p = multiprocessing.Pool(nproc)\n",
    "        res = p.map(_add_labels_one, labelargs)\n",
    "        p.close()\n",
    "    else:\n",
    "        for args in labelargs:\n",
    "            res = _add_labels_one(args)"
   ]
  },
  {
   "cell_type": "code",
   "execution_count": null,
   "metadata": {},
   "outputs": [],
   "source": [
    "%time add_labels(sample)"
   ]
  },
  {
   "cell_type": "markdown",
   "metadata": {
    "collapsed": true
   },
   "source": [
    "### Finally make a nice montage figure for the paper."
   ]
  },
  {
   "cell_type": "code",
   "execution_count": null,
   "metadata": {},
   "outputs": [],
   "source": [
    "def make_montage(cat, clobber=False):\n",
    "    montagefile = os.path.join(figdir, 'overview-gallery.png')\n",
    "\n",
    "    ncol = 3\n",
    "    nrow = np.ceil(len(sample) / ncol).astype('int')\n",
    "    \n",
    "    if not os.path.isfile(montagefile) or clobber:\n",
    "        cmd = 'montage -bordercolor white -borderwidth 1 -tile {}x{} -geometry 512x512 '.format(ncol, nrow)\n",
    "        cmd = cmd+' '.join([os.path.join(pngdir, '{}.png'.format(name)) for name in cat['name']])\n",
    "        cmd = cmd+' {}'.format(montagefile)\n",
    "        print(cmd)\n",
    "        os.system(cmd)        \n",
    "        print('Writing {}'.format(montagefile))"
   ]
  },
  {
   "cell_type": "code",
   "execution_count": null,
   "metadata": {},
   "outputs": [],
   "source": [
    "%time make_montage(cat, clobber=True)"
   ]
  }
 ],
 "metadata": {
  "anaconda-cloud": {},
  "kernelspec": {
   "display_name": "legacypipe master",
   "language": "python",
   "name": "legacypipe-master"
  },
  "language_info": {
   "codemirror_mode": {
    "name": "ipython",
    "version": 3
   },
   "file_extension": ".py",
   "mimetype": "text/x-python",
   "name": "python",
   "nbconvert_exporter": "python",
   "pygments_lexer": "ipython3",
   "version": "3.5.4"
  }
 },
 "nbformat": 4,
 "nbformat_minor": 2
}
