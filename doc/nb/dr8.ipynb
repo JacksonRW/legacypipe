{
 "cells": [
  {
   "cell_type": "markdown",
   "metadata": {},
   "source": [
    "# DR8 Calibration Files\n",
    "\n",
    "The goal of this notebook is to document how we generate the calibration files for DR8 using the burst buffer on Cori.\n",
    "\n",
    "John Moustakas  \n",
    "Siena College  \n",
    "2019 March"
   ]
  },
  {
   "cell_type": "markdown",
   "metadata": {},
   "source": [
    "### Set up the working directories and burst buffer."
   ]
  },
  {
   "cell_type": "markdown",
   "metadata": {},
   "source": [
    "First, choose a new, empty top-level directory on `project` and create it:\n",
    "```bash\n",
    "export LEGACY_SURVEY_DIR=/global/project/projectdirs/cosmo/work/legacysurvey/dr8a\n",
    "mkdir -p $LEGACY_SURVEY_DIR\n",
    "cd $LEGACY_SURVEY_DIR\n",
    "```\n",
    "Note: the same `$LEGACY_SURVEY_DIR` environment variable will need to be defined within the scripts below so that they are self-contained.\n",
    "\n",
    "**Hereafter I will assume that all scripts are launched from the $LEGACY_SURVEY_DIR directory.**\n",
    "\n",
    "Next, create soft links to the CP-reduced imaging data.\n",
    "```bash\n",
    "mkdir -p images\n",
    "ln -s /global/project/projectdirs/cosmo/staging/90prime images/90prime\n",
    "ln -s /global/project/projectdirs/cosmo/staging/mosaic images/mosaic\n",
    "ln -s /global/project/projectdirs/cosmo/staging/decam images/decam\n",
    "```\n",
    "\n",
    "The burst buffer reservation has to be done separately (for DR8 Dustin Lang created a 40TB reservation called \"DR8\"). You can think of this as a mounted external drive, where large files can be written and read without the significant overhead associated with `$SCRATCH`, although eventually the results will be copied onto `project`.\n",
    "\n",
    "To access this file system for the first time you have to create a configuration file (just once).\n",
    "```bash\n",
    "echo \"#DW persistentdw name=DR8\" > bb.conf\n",
    "```\n",
    "\n",
    "The files in the burst buffer can be accessed *only* from an interactive Cori node.  Let's do this and make a dedicated subdirectory to keep our outputs tidy:\n",
    "```bash\n",
    "salloc -N 1 -C haswell -q interactive -t 00:10:00 --bbf=bb.conf\n",
    "mkdir -p $DW_PERSISTENT_STRIPED_DR8/dr8a\n",
    "```\n",
    "Note that the `$DW_PERSISTENT_STRIPED_DR8` environment variable must be used *always*, as every user will have a different absolute path."
   ]
  },
  {
   "cell_type": "markdown",
   "metadata": {},
   "source": [
    "### Set up software dependencies.\n",
    "**ToDo**: Add Docker instructions (link to Adam's NB).  \n",
    "**ToDo**: Add instructions for compiling tractor and astrometry.net, if needed (separate notebook).  \n",
    "**ToDo**: QDO may be added to the desiconda stack."
   ]
  },
  {
   "cell_type": "markdown",
   "metadata": {},
   "source": [
    "Most of the code dependencies are in the `desiconda` imaging stack (like [tractor](https://github.com/dstndstn/tractor) and [astrometry.net](https://github.com/dstndstn/astrometry.net)), which we will source in our setup script, below, but we usually depend on a recent (hopefully tagged) version of [legacyzpts](https://github.com/legacysurvey/legacyzpts) and [legacypipe](https://github.com/legacysurvey/legacypipe).\n",
    "\n",
    "```bash\n",
    "mkdir -p dr8code\n",
    "git clone git@github.com:legacysurvey/legacyzpts.git dr8code/legacyzpts\n",
    "git clone git@github.com:legacysurvey/legacypipe.git dr8code/legacypipe\n",
    "git clone https://bitbucket.org/berkeleylab/qdo/src/master dr8code/qdo\n",
    "cd legacyzpts ; git checkout tags/dr8 ; cd ..\n",
    "cd legacypipe ; git checkout tags/dr8 ; cd ..\n",
    "```\n",
    "\n",
    "Next, create a bash script called `dr8-env.sh` that will set up all our dependencies and myriad environment variables.  This script isn't checked in because it contains a *qdo* database password, but it should look something like this:\n",
    "\n",
    "```bash\n",
    "#! /bin/bash\n",
    "\n",
    "# Use local check-outs of qdo, legacypipe, and legacyzpts.\n",
    "export QDO_DIR=$LEGACY_SURVEY_DIR/dr8code/qdo \n",
    "export LEGACYPIPE_DIR=$LEGACY_SURVEY_DIR/dr8code/legacypipe\n",
    "export LEGACYZPTS_DIR=$LEGACY_SURVEY_DIR/dr8code/legacyzpts\n",
    "\n",
    "# This file has most of the needed environment variables.\n",
    "source $LEGACYPIPE_DIR/bin/legacypipe-env\n",
    "\n",
    "# Define LEGACY_SURVEY_DIR *after* legacypipe-env is sourced.\n",
    "export LEGACY_SURVEY_DIR=/global/project/projectdirs/cosmo/work/legacysurvey/dr8a\n",
    "\n",
    "export PYTHONPATH=$QDO_DIR:$PYTHONPATH\n",
    "export PYTHONPATH=$LEGACYPIPE_DIR/py:$PYTHONPATH\n",
    "export PYTHONPATH=$LEGACYZPTS_DIR/py:$PYTHONPATH\n",
    "\n",
    "export PATH=$QDO_DIR/bin:$PATH\n",
    "export PATH=$LEGACYPIPE_DIR/bin:$PATH\n",
    "export PATH=$LEGACYZPTS_DIR/bin:$PATH\n",
    "\n",
    "export QDO_BACKEND=postgres\n",
    "export QDO_BATCH_PROFILE=cori\n",
    "export QDO_DB_HOST=nerscdb03.nersc.gov\n",
    "export QDO_DB_NAME=desirun\n",
    "export QDO_DB_PASS=ask_a_friend_for_this\n",
    "export QDO_DB_USER=desirun_admin\n",
    "\n",
    "# Some NERSC-specific options to get MPI working properly.\n",
    "#  - Force MKL single-threaded and avoid problems with MPI and Python multiprocessing\n",
    "#  - https://software.intel.com/en-us/articles/using-threaded-intel-mkl-in-multi-thread-application\n",
    "export OMP_NUM_THREADS=1\n",
    "export MKL_NUM_THREADS=1\n",
    "export KMP_AFFINITY=disabled\n",
    "export MPICH_GNI_FORK_MODE=FULLCOPY\n",
    "```"
   ]
  },
  {
   "cell_type": "markdown",
   "metadata": {},
   "source": [
    "### Launch the everything."
   ]
  },
  {
   "cell_type": "markdown",
   "metadata": {},
   "source": [
    "### Rsync everything to `project`.\n",
    "\n",
    "```bash\n",
    "cd $DW_PERSISTENT_SCRATCH/dr8a\n",
    "rsync -auv zpts $LEGACY_SURVEY_DIR >> rsync-zpts.log 2>&1 &\n",
    "rsync -auvR calib/*/*-merged $LEGACY_SURVEY_DIR >> rsync-calib.log 2>&1 &\n",
    "```"
   ]
  },
  {
   "cell_type": "markdown",
   "metadata": {},
   "source": [
    "### Build the merged *survey-ccds* and *annotated-ccds* files (and their KD-tree cousins)."
   ]
  },
  {
   "cell_type": "markdown",
   "metadata": {},
   "source": [
    "```bash\n",
    "./dr8-merge-zpts.sh\n",
    "```\n",
    "Might have to put this in a `slurm` script.  This also generates the KD-tree version of these files."
   ]
  },
  {
   "cell_type": "markdown",
   "metadata": {},
   "source": [
    "### Optional: update ccd_cuts and apply depth cuts."
   ]
  },
  {
   "cell_type": "code",
   "execution_count": null,
   "metadata": {},
   "outputs": [],
   "source": []
  },
  {
   "cell_type": "markdown",
   "metadata": {},
   "source": [
    "### Run legacypipe"
   ]
  },
  {
   "cell_type": "markdown",
   "metadata": {},
   "source": [
    "```bash\n",
    "cd $DW_PERSISTENT_SCRATCH/dr8a/runbrick\n",
    "rsync -auvR tractor* $LEGACY_SURVEY_DIR >> rsync-tractor.log 2>&1 &\n",
    "rsync -auvR coadd $LEGACY_SURVEY_DIR >> rsync-coadd.log 2>&1 &\n",
    "rsync -auvR metrics $LEGACY_SURVEY_DIR >> rsync-metrics.log 2>&1 &\n",
    "```"
   ]
  },
  {
   "cell_type": "markdown",
   "metadata": {},
   "source": [
    "```bash\n",
    "qdo launch dr8a 256 --cores_per_worker 8 --walltime=00:30:00 \\\n",
    "  --script ./dr8-runbrick.sh --batchqueue debug --keep_env --batchopts \"--bbf=bb.conf\"\n",
    "```\n"
   ]
  },
  {
   "cell_type": "markdown",
   "metadata": {},
   "source": [
    "### Update the viewer"
   ]
  },
  {
   "cell_type": "markdown",
   "metadata": {},
   "source": [
    "```bash\n",
    "cd /global/project/projectdirs/cosmo/webapp/viewer-dev/\n",
    "```\n",
    "edit load-layer.py and run it!  Takes a long time.  Then “touch wsgi.py” and hit reload"
   ]
  },
  {
   "cell_type": "code",
   "execution_count": null,
   "metadata": {},
   "outputs": [],
   "source": []
  }
 ],
 "metadata": {
  "kernelspec": {
   "display_name": "Python 3",
   "language": "python",
   "name": "python3"
  },
  "language_info": {
   "codemirror_mode": {
    "name": "ipython",
    "version": 3
   },
   "file_extension": ".py",
   "mimetype": "text/x-python",
   "name": "python",
   "nbconvert_exporter": "python",
   "pygments_lexer": "ipython3",
   "version": "3.6.7"
  }
 },
 "nbformat": 4,
 "nbformat_minor": 2
}
