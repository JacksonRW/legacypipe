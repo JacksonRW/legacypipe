{
 "cells": [
  {
   "cell_type": "markdown",
   "metadata": {},
   "source": [
    "# Gallery of Large Galaxies\n",
    "\n",
    "The purpose of this notebook is to build the gallery of large galaxies for the various Legacy Survey data releases.\n",
    "\n",
    "The parent sample is a diameter-limited (*D25>5* arcsec) sample defined and documented as part of the [Legacy Survey Large Galaxy Atlas](https://github.com/moustakas/LSLGA).  "
   ]
  },
  {
   "cell_type": "markdown",
   "metadata": {},
   "source": [
    "### Imports and paths"
   ]
  },
  {
   "cell_type": "code",
   "execution_count": 71,
   "metadata": {
    "collapsed": true
   },
   "outputs": [],
   "source": [
    "import os\n",
    "import subprocess\n",
    "import numpy as np\n",
    "\n",
    "import fitsio\n",
    "import matplotlib.pyplot as plt\n",
    "from astropy.table import Table, vstack\n",
    "from PIL import Image, ImageDraw, ImageFont\n",
    "\n",
    "from astrometry.util.util import Tan\n",
    "from astrometry.util.fits import fits_table, merge_tables\n",
    "from legacypipe.survey import ccds_touching_wcs, LegacySurveyData"
   ]
  },
  {
   "cell_type": "code",
   "execution_count": 2,
   "metadata": {
    "collapsed": true
   },
   "outputs": [],
   "source": [
    "import multiprocessing\n",
    "nproc = multiprocessing.cpu_count() // 2"
   ]
  },
  {
   "cell_type": "code",
   "execution_count": 3,
   "metadata": {
    "collapsed": false
   },
   "outputs": [],
   "source": [
    "plt.style.use('seaborn-talk')\n",
    "%matplotlib inline"
   ]
  },
  {
   "cell_type": "markdown",
   "metadata": {},
   "source": [
    "### Preliminaries\n",
    "\n",
    "Define the data release and specify the D(25) angular diameter range (in arcmin) of the galaxies in the gallery."
   ]
  },
  {
   "cell_type": "code",
   "execution_count": 47,
   "metadata": {
    "collapsed": false
   },
   "outputs": [],
   "source": [
    "d25min, d25max = 4.0, 5.0 # [arcmin]\n",
    "dr = 'dr5'\n",
    "if dr == 'dr5':\n",
    "    PIXSCALE = 0.262\n",
    "else:\n",
    "    raise NotImplementedError\n",
    "\n",
    "DIAMFACTOR = 4"
   ]
  },
  {
   "cell_type": "code",
   "execution_count": 5,
   "metadata": {
    "collapsed": true
   },
   "outputs": [],
   "source": [
    "gallerydir = os.path.join( os.getenv('SCRATCH'), dr, 'gallery' )\n",
    "galleryfile = os.path.join(gallerydir, 'gallery-large-galaxies-{}.fits'.format(dr))"
   ]
  },
  {
   "cell_type": "code",
   "execution_count": 6,
   "metadata": {
    "collapsed": true
   },
   "outputs": [],
   "source": [
    "survey = LegacySurveyData()"
   ]
  },
  {
   "cell_type": "markdown",
   "metadata": {},
   "source": [
    "### Define the parent sample based on cuts to D(25)."
   ]
  },
  {
   "cell_type": "code",
   "execution_count": 7,
   "metadata": {
    "collapsed": true
   },
   "outputs": [],
   "source": [
    "def _catalog_template(nobj=1):\n",
    "    cols = [\n",
    "        ('GALAXY', 'S28'), \n",
    "        ('PGC', 'S10'), \n",
    "        ('RA', 'f8'), \n",
    "        ('DEC', 'f8'),\n",
    "        ('TYPE', 'S8'),\n",
    "        ('MULTIPLE', 'S1'),\n",
    "        ('RADIUS', 'f4'),\n",
    "        ('BA', 'f4'),\n",
    "        ('PA', 'f4'),\n",
    "        ('BMAG', 'f4'),\n",
    "        ('IMAG', 'f4'),\n",
    "        ('VHELIO', 'f4'),\n",
    "        ('BRICKNAME', 'S17', (4,))\n",
    "        ]\n",
    "    catalog = Table(np.zeros(nobj, dtype=cols))\n",
    "    catalog['RADIUS'].unit = 'arcsec'\n",
    "    catalog['VHELIO'].unit = 'km/s'\n",
    "\n",
    "    return catalog"
   ]
  },
  {
   "cell_type": "code",
   "execution_count": 8,
   "metadata": {
    "collapsed": true
   },
   "outputs": [],
   "source": [
    "def read_leda(gallerydir='.', d25min=0.0, d25max=1000.0, decmin=-90.0, \n",
    "              decmax=+90.0, ramin=0.0, ramax=360.0):\n",
    "    \"\"\"Read the parent LEDA catalog and put it in a standard format.\n",
    "    \n",
    "    \"\"\"\n",
    "    ledafile = os.path.join(gallerydir, 'leda-logd25-0.05.fits')\n",
    "    print('Reading {}'.format(ledafile))\n",
    "    cat = Table.read(ledafile)\n",
    "\n",
    "    outcat = _catalog_template(len(cat))\n",
    "    outcat['GALAXY'] = cat['GALAXY']\n",
    "    outcat['PGC'] = cat['PGC']\n",
    "    outcat['RA'] = cat['RA']\n",
    "    outcat['DEC'] = cat['DEC']\n",
    "    outcat['TYPE'] = cat['TYPE']\n",
    "    outcat['MULTIPLE'] = cat['MULTIPLE']\n",
    "    outcat['RADIUS'] = cat['D25']/2.0 # semi-major axis radius [arcsec]\n",
    "    outcat['BA'] = cat['BA']\n",
    "    outcat['PA'] = cat['PA']\n",
    "    outcat['BMAG'] = cat['BMAG']\n",
    "    outcat['IMAG'] = cat['IMAG']\n",
    "    outcat['VHELIO'] = cat['VHELIO']\n",
    "\n",
    "    these = np.where((outcat['RADIUS']*2/60.0 <= d25max) *\n",
    "                     (outcat['RADIUS']*2/60.0 >= d25min) *\n",
    "                     (outcat['DEC'] <= decmax) *\n",
    "                     (outcat['DEC'] >= decmin) *\n",
    "                     (outcat['RA'] <= ramax) *\n",
    "                     (outcat['RA'] >= ramin)\n",
    "                     )[0]\n",
    "    outcat = outcat[these] \n",
    "    print('Found {}/{} galaxies with D25 = {}-{} arcmin.'.format(\n",
    "            len(outcat), len(cat), d25min, d25max))\n",
    "\n",
    "    return outcat"
   ]
  },
  {
   "cell_type": "code",
   "execution_count": 9,
   "metadata": {
    "collapsed": false
   },
   "outputs": [
    {
     "name": "stdout",
     "output_type": "stream",
     "text": [
      "Converted brickname from |S8 to <U8\n",
      "Reading annotated CCDs from /global/cscratch1/sd/desiproc/dr5/ccds-annotated-run19.fits.gz\n",
      "Converted object from |S37 to <U37\n",
      "Converted filter from |S1 to <U1\n",
      "Converted date_obs from |S10 to <U10\n",
      "Converted ut from |S15 to <U15\n",
      "Converted ha from |S13 to <U13\n",
      "Converted propid from |S10 to <U10\n",
      "Converted ccdname from |S3 to <U3\n",
      "Converted camera from |S5 to <U5\n",
      "Converted expid from |S12 to <U12\n",
      "Converted image_filename from |S51 to <U51\n",
      "Converted plver from |S6 to <U6\n",
      "Got 73860 CCDs\n",
      "Reading annotated CCDs from /global/cscratch1/sd/desiproc/dr5/ccds-annotated-decals.fits.gz\n",
      "Converted object from |S37 to <U37\n",
      "Converted filter from |S1 to <U1\n",
      "Converted date_obs from |S10 to <U10\n",
      "Converted ut from |S15 to <U15\n",
      "Converted ha from |S13 to <U13\n",
      "Converted propid from |S10 to <U10\n",
      "Converted ccdname from |S3 to <U3\n",
      "Converted camera from |S5 to <U5\n",
      "Converted expid from |S12 to <U12\n",
      "Converted image_filename from |S61 to <U61\n",
      "Converted plver from |S6 to <U6\n",
      "Got 493440 CCDs\n",
      "Reading annotated CCDs from /global/cscratch1/sd/desiproc/dr5/ccds-annotated-run28.fits.gz\n",
      "Converted object from |S37 to <U37\n",
      "Converted filter from |S1 to <U1\n",
      "Converted date_obs from |S10 to <U10\n",
      "Converted ut from |S15 to <U15\n",
      "Converted ha from |S13 to <U13\n",
      "Converted propid from |S10 to <U10\n",
      "Converted ccdname from |S3 to <U3\n",
      "Converted camera from |S5 to <U5\n",
      "Converted expid from |S12 to <U12\n",
      "Converted image_filename from |S51 to <U51\n",
      "Converted plver from |S6 to <U6\n",
      "Got 86986 CCDs\n",
      "Reading annotated CCDs from /global/cscratch1/sd/desiproc/dr5/ccds-annotated-extra.fits.gz\n",
      "Converted object from |S37 to <U37\n",
      "Converted filter from |S1 to <U1\n",
      "Converted date_obs from |S10 to <U10\n",
      "Converted ut from |S15 to <U15\n",
      "Converted ha from |S13 to <U13\n",
      "Converted propid from |S10 to <U10\n",
      "Converted ccdname from |S3 to <U3\n",
      "Converted camera from |S5 to <U5\n",
      "Converted expid from |S12 to <U12\n",
      "Converted image_filename from |S61 to <U61\n",
      "Converted plver from |S6 to <U6\n",
      "Got 487556 CCDs\n",
      "Reading annotated CCDs from /global/cscratch1/sd/desiproc/dr5/ccds-annotated-nondecals.fits.gz\n",
      "Converted object from |S37 to <U37\n",
      "Converted filter from |S1 to <U1\n",
      "Converted date_obs from |S10 to <U10\n",
      "Converted ut from |S15 to <U15\n",
      "Converted ha from |S13 to <U13\n",
      "Converted propid from |S10 to <U10\n",
      "Converted ccdname from |S3 to <U3\n",
      "Converted camera from |S5 to <U5\n",
      "Converted expid from |S12 to <U12\n",
      "Converted image_filename from |S61 to <U61\n",
      "Converted plver from |S6 to <U6\n",
      "Got 670810 CCDs\n",
      "Reading annotated CCDs from /global/cscratch1/sd/desiproc/dr5/ccds-annotated-run21.fits.gz\n",
      "Converted object from |S37 to <U37\n",
      "Converted filter from |S1 to <U1\n",
      "Converted date_obs from |S10 to <U10\n",
      "Converted ut from |S15 to <U15\n",
      "Converted ha from |S13 to <U13\n",
      "Converted propid from |S10 to <U10\n",
      "Converted ccdname from |S3 to <U3\n",
      "Converted camera from |S5 to <U5\n",
      "Converted expid from |S12 to <U12\n",
      "Converted image_filename from |S51 to <U51\n",
      "Converted plver from |S6 to <U6\n",
      "Got 39720 CCDs\n",
      "Reading annotated CCDs from /global/cscratch1/sd/desiproc/dr5/ccds-annotated-run27.fits.gz\n",
      "Converted object from |S37 to <U37\n",
      "Converted filter from |S1 to <U1\n",
      "Converted date_obs from |S10 to <U10\n",
      "Converted ut from |S15 to <U15\n",
      "Converted ha from |S13 to <U13\n",
      "Converted propid from |S10 to <U10\n",
      "Converted ccdname from |S3 to <U3\n",
      "Converted camera from |S5 to <U5\n",
      "Converted expid from |S12 to <U12\n",
      "Converted image_filename from |S51 to <U51\n",
      "Converted plver from |S6 to <U6\n",
      "Got 91866 CCDs\n",
      "Reading annotated CCDs from /global/cscratch1/sd/desiproc/dr5/ccds-annotated-nondecals-dr5.fits.gz\n",
      "Converted object from |S37 to <U37\n",
      "Converted filter from |S1 to <U1\n",
      "Converted date_obs from |S10 to <U10\n",
      "Converted ut from |S15 to <U15\n",
      "Converted ha from |S13 to <U13\n",
      "Converted propid from |S10 to <U10\n",
      "Converted ccdname from |S3 to <U3\n",
      "Converted temp from |S32 to <U32\n",
      "Converted camera from |S5 to <U5\n",
      "Converted expid from |S12 to <U12\n",
      "Converted image_filename from |S65 to <U65\n",
      "Converted plver from |S6 to <U6\n",
      "Got 551580 CCDs\n",
      "Reading annotated CCDs from /global/cscratch1/sd/desiproc/dr5/ccds-annotated-run14.fits.gz\n",
      "Converted object from |S37 to <U37\n",
      "Converted filter from |S1 to <U1\n",
      "Converted date_obs from |S10 to <U10\n",
      "Converted ut from |S15 to <U15\n",
      "Converted ha from |S13 to <U13\n",
      "Converted propid from |S10 to <U10\n",
      "Converted ccdname from |S3 to <U3\n",
      "Converted camera from |S5 to <U5\n",
      "Converted expid from |S12 to <U12\n",
      "Converted image_filename from |S51 to <U51\n",
      "Converted plver from |S6 to <U6\n",
      "Got 85020 CCDs\n",
      "Reading annotated CCDs from /global/cscratch1/sd/desiproc/dr5/ccds-annotated-run16.fits.gz\n",
      "Converted object from |S37 to <U37\n",
      "Converted filter from |S1 to <U1\n",
      "Converted date_obs from |S10 to <U10\n",
      "Converted ut from |S15 to <U15\n",
      "Converted ha from |S13 to <U13\n",
      "Converted propid from |S10 to <U10\n",
      "Converted ccdname from |S3 to <U3\n",
      "Converted camera from |S5 to <U5\n",
      "Converted expid from |S12 to <U12\n",
      "Converted image_filename from |S51 to <U51\n",
      "Converted plver from |S6 to <U6\n",
      "Got 40200 CCDs\n",
      "Reading annotated CCDs from /global/cscratch1/sd/desiproc/dr5/ccds-annotated-run25.fits.gz\n",
      "Converted object from |S37 to <U37\n",
      "Converted filter from |S1 to <U1\n",
      "Converted date_obs from |S10 to <U10\n",
      "Converted ut from |S15 to <U15\n",
      "Converted ha from |S13 to <U13\n",
      "Converted propid from |S10 to <U10\n",
      "Converted ccdname from |S3 to <U3\n",
      "Converted camera from |S5 to <U5\n",
      "Converted expid from |S12 to <U12\n",
      "Converted image_filename from |S51 to <U51\n",
      "Converted plver from |S6 to <U6\n",
      "Got 121085 CCDs\n",
      "Total of 2742123 CCDs\n",
      "Finding photometric CCDs.  Cameras: ['decam']\n",
      "Checking 2742123 images from camera decam\n",
      "Flagged 8007 more non-photometric using criterion: exptime < 30 s\n",
      "Flagged 91271 more non-photometric using criterion: ccdnmatch < 20\n",
      "Flagged 15502 more non-photometric using criterion: abs(zpt - ccdzpt) > 0.1\n",
      "Flagged 114979 more non-photometric using criterion: zpt < 0.5 mag of nominal\n",
      "Flagged 0 more non-photometric using criterion: zpt > 0.25 mag of nominal\n",
      "Keeping 2512364 photometric CCDs from camera decam\n",
      "Computing CCD cuts.  Cameras: ['decam']\n",
      "Checking 2512364 images from camera decam\n",
      "Read 2512364 CCDs.\n"
     ]
    }
   ],
   "source": [
    "bricks = survey.get_bricks()\n",
    "allccds = survey.get_annotated_ccds()\n",
    "cut = survey.photometric_ccds(allccds)\n",
    "if cut is not None:\n",
    "    allccds.cut(cut)\n",
    "cut = survey.ccd_cuts(allccds)\n",
    "allccds.cut(cut == 0)\n",
    "print('Read {} CCDs.'.format(len(allccds)))"
   ]
  },
  {
   "cell_type": "code",
   "execution_count": 10,
   "metadata": {
    "collapsed": false
   },
   "outputs": [
    {
     "name": "stdout",
     "output_type": "stream",
     "text": [
      "Reading /global/cscratch1/sd/ioannis/dr5/gallery/leda-logd25-0.05.fits\n",
      "Found 186/2143628 galaxies with D25 = 4.0-5.0 arcmin.\n"
     ]
    }
   ],
   "source": [
    "parent = read_leda(gallerydir=gallerydir, d25min=d25min, d25max=d25max)"
   ]
  },
  {
   "cell_type": "markdown",
   "metadata": {},
   "source": [
    "### Build the parent sample of galaxies in the DRX footprint"
   ]
  },
  {
   "cell_type": "code",
   "execution_count": 17,
   "metadata": {
    "collapsed": true
   },
   "outputs": [],
   "source": [
    "def _uniqccds(ccds):\n",
    "    '''Get the unique set of CCD files.'''\n",
    "    ccdfile = []\n",
    "    [ccdfile.append('{}-{}'.format(expnum, ccdname)) for expnum,\n",
    "     ccdname in zip(ccds.expnum, ccds.ccdname)]\n",
    "    _, indx = np.unique(ccdfile, return_index=True)\n",
    "    return ccds[indx]"
   ]
  },
  {
   "cell_type": "code",
   "execution_count": 33,
   "metadata": {
    "collapsed": false
   },
   "outputs": [],
   "source": [
    "def _galwcs(gal, factor=DIAMFACTOR):\n",
    "    '''Build a simple WCS object for a single galaxy.\n",
    "    \n",
    "    '''\n",
    "    diam = factor*np.ceil(2.0*gal['RADIUS']/PIXSCALE).astype('int16') # [pixels]\n",
    "    galwcs = Tan(gal['RA'], gal['DEC'], diam/2+0.5, diam/2+0.5,\n",
    "                 -PIXSCALE/3600.0, 0.0, 0.0, PIXSCALE/3600.0, \n",
    "                 float(diam), float(diam))\n",
    "    return galwcs"
   ]
  },
  {
   "cell_type": "code",
   "execution_count": 12,
   "metadata": {
    "collapsed": true
   },
   "outputs": [],
   "source": [
    "def _build_sample_onegalaxy(args):\n",
    "    \"\"\"Filler function for the multiprocessing.\"\"\"\n",
    "    return build_sample_onegalaxy(*args)"
   ]
  },
  {
   "cell_type": "code",
   "execution_count": 20,
   "metadata": {
    "collapsed": true
   },
   "outputs": [],
   "source": [
    "def build_sample_onegalaxy(gal, allccds, ccdsdir, bricks, survey):\n",
    "    \"\"\"Wrapper function to find overlapping CCDs for a given galaxy.\n",
    "\n",
    "    First generously find the nearest set of CCDs that are near the galaxy and\n",
    "    then demand that there's 3-band coverage in a much smaller region centered\n",
    "    on the galaxy.\n",
    "\n",
    "    \"\"\"\n",
    "    #print('Working on {}...'.format(gal['GALAXY'].strip()))\n",
    "    galwcs = _galwcs(gal)\n",
    "    these = ccds_touching_wcs(galwcs, allccds)\n",
    "\n",
    "    if len(these) > 0:\n",
    "        ccds1 = _uniqccds( allccds[these] )\n",
    "\n",
    "        # Is there 3-band coverage?\n",
    "        galwcs_small = _galwcs(gal, factor=0.5)\n",
    "        these_small = ccds_touching_wcs(galwcs_small, ccds1)\n",
    "        ccds1_small = _uniqccds( ccds1[these_small] )\n",
    "\n",
    "        if 'g' in ccds1_small.filter and 'r' in ccds1_small.filter and 'z' in ccds1_small.filter:\n",
    "            print('For {} found {} CCDs, RA = {:.5f}, Dec = {:.5f}, Radius={:.4f} arcsec'.format(\n",
    "                gal['GALAXY'].strip(), len(ccds1), gal['RA'], gal['DEC'], gal['RADIUS']))\n",
    "\n",
    "            ccdsfile = os.path.join(ccdsdir, '{}-ccds.fits'.format(gal['GALAXY'].strip().lower()))\n",
    "            #print('  Writing {}'.format(ccdsfile))\n",
    "            #if os.path.isfile(ccdsfile):\n",
    "            #    os.remove(ccdsfile)\n",
    "            #ccds1.writeto(ccdsfile)\n",
    "\n",
    "            # Also get the set of bricks touching this footprint.\n",
    "            rad = 2*gal['RADIUS']/3600 # [degree]\n",
    "            brickindx = survey.bricks_touching_radec_box(bricks,\n",
    "                                                         gal['RA']-rad, gal['RA']+rad,\n",
    "                                                         gal['DEC']-rad, gal['DEC']+rad)\n",
    "            if len(brickindx) == 0 or len(brickindx) > 4:\n",
    "                print('This should not happen!')\n",
    "                pdb.set_trace()\n",
    "            gal['BRICKNAME'][:len(brickindx)] = bricks.brickname[brickindx]\n",
    "\n",
    "            return [gal, ccds1]\n",
    "\n",
    "    return None"
   ]
  },
  {
   "cell_type": "code",
   "execution_count": 24,
   "metadata": {
    "collapsed": false
   },
   "outputs": [
    {
     "name": "stdout",
     "output_type": "stream",
     "text": [
      "For PGC003853 found 34 CCDs, RA = 16.27035, Dec = -6.21246, Radius=122.2141 arcsec\n",
      "For NGC0520 found 35 CCDs, RA = 21.14445, Dec = 3.79420, Radius=122.2141 arcsec\n",
      "For NGC0720 found 69 CCDs, RA = 28.25220, Dec = -13.73859, Radius=134.0051 arcsec\n",
      "For NGC0936 found 92 CCDs, RA = 36.90585, Dec = -1.15595, Radius=134.0051 arcsec\n",
      "For NGC0988 found 41 CCDs, RA = 38.86545, Dec = -9.35595, Radius=130.9547 arcsec\n",
      "For UGC02302 found 45 CCDs, RA = 42.28635, Dec = 2.12703, Radius=143.5890 arcsec\n",
      "For UGC03974 found 17 CCDs, RA = 115.48080, Dec = 16.80250, Radius=130.9547 arcsec\n",
      "For NGC2775 found 23 CCDs, RA = 137.58375, Dec = 7.03792, Radius=127.9739 arcsec\n",
      "For NGC3003 found 11 CCDs, RA = 147.14880, Dec = 33.42136, Radius=143.5890 arcsec\n",
      "For NGC3044 found 69 CCDs, RA = 148.42035, Dec = 1.57959, Radius=125.0608 arcsec\n",
      "For UGC05364 found 19 CCDs, RA = 149.86005, Dec = 30.74639, Radius=137.1264 arcsec\n",
      "For UGC05373 found 30 CCDs, RA = 150.00015, Dec = 5.33224, Radius=146.9337 arcsec\n",
      "For SDSSJ100819.08+120322.4 found 25 CCDs, RA = 152.07945, Dec = 12.05623, Radius=122.2141 arcsec\n",
      "For NGC3166 found 26 CCDs, RA = 153.44055, Dec = 3.42487, Radius=134.0051 arcsec\n",
      "For NGC3169 found 32 CCDs, RA = 153.56205, Dec = 3.46637, Radius=130.9547 arcsec\n",
      "For NGC3365 found 128 CCDs, RA = 161.55240, Dec = 1.81330, Radius=122.2141 arcsec\n",
      "For NGC3379 found 19 CCDs, RA = 161.95665, Dec = 12.58161, Radius=146.9337 arcsec\n",
      "For SDSSJ104819.41+123745.8 found 14 CCDs, RA = 162.08085, Dec = 12.62934, Radius=122.2141 arcsec\n",
      "For NGC3495 found 33 CCDs, RA = 165.31755, Dec = 3.62810, Radius=140.3205 arcsec\n",
      "For NGC3501 found 13 CCDs, RA = 165.69705, Dec = 17.98945, Radius=127.9739 arcsec\n",
      "For SDSSJ111318.25+102534.2 found 11 CCDs, RA = 168.32610, Dec = 10.42637, Radius=130.9547 arcsec\n",
      "For NGC3593 found 14 CCDs, RA = 168.65400, Dec = 12.81786, Radius=140.3205 arcsec\n",
      "For NGC3640 found 39 CCDs, RA = 170.27880, Dec = 3.23480, Radius=130.9547 arcsec\n",
      "For NGC3705 found 29 CCDs, RA = 172.53105, Dec = 9.27668, Radius=127.9739 arcsec\n",
      "For SDSSJ120411.97+182641.1 found 19 CCDs, RA = 181.04985, Dec = 18.44477, Radius=137.1264 arcsec\n",
      "For NGC4178 found 23 CCDs, RA = 183.19290, Dec = 10.86571, Radius=140.3205 arcsec\n",
      "For NGC4179 found 41 CCDs, RA = 183.21705, Dec = 1.29972, Radius=134.0051 arcsec\n",
      "For NGC4204 found 17 CCDs, RA = 183.81045, Dec = 20.65872, Radius=122.2141 arcsec\n",
      "For NGC4206 found 25 CCDs, RA = 183.82005, Dec = 13.02393, Radius=140.3205 arcsec\n",
      "For NGC4235 found 28 CCDs, RA = 184.29120, Dec = 7.19155, Radius=130.9547 arcsec\n",
      "For UGC07321 found 13 CCDs, RA = 184.39170, Dec = 22.54029, Radius=143.5890 arcsec\n",
      "For NGC4261 found 26 CCDs, RA = 184.84650, Dec = 5.82497, Radius=127.9739 arcsec\n",
      "For NGC4442 found 35 CCDs, RA = 187.01625, Dec = 9.80369, Radius=130.9547 arcsec\n",
      "For NGC4459 found 14 CCDs, RA = 187.25025, Dec = 13.97851, Radius=125.0608 arcsec\n",
      "For NGC4473 found 26 CCDs, RA = 187.45365, Dec = 13.42948, Radius=127.9739 arcsec\n",
      "For NGC4494 found 16 CCDs, RA = 187.85025, Dec = 25.77468, Radius=130.9547 arcsec\n",
      "For NGC4568 found 17 CCDs, RA = 189.14280, Dec = 11.23891, Radius=127.9739 arcsec\n",
      "For NGC4592 found 35 CCDs, RA = 189.82800, Dec = -0.53188, Radius=122.2141 arcsec\n",
      "For NGC4621 found 14 CCDs, RA = 190.50930, Dec = 11.64745, Radius=137.1264 arcsec\n",
      "For NGC4654 found 19 CCDs, RA = 190.98585, Dec = 13.12649, Radius=140.3205 arcsec\n",
      "For NGC4624 found 41 CCDs, RA = 191.27460, Dec = 3.05543, Radius=137.1264 arcsec\n",
      "For NGC4710 found 22 CCDs, RA = 192.41160, Dec = 15.16508, Radius=130.9547 arcsec\n",
      "For NGC4754 found 24 CCDs, RA = 193.07295, Dec = 11.31397, Radius=125.0608 arcsec\n",
      "For NGC4772 found 40 CCDs, RA = 193.37145, Dec = 2.16835, Radius=122.2141 arcsec\n",
      "For NGC4818 found 32 CCDs, RA = 194.20380, Dec = -8.52529, Radius=127.9739 arcsec\n",
      "For NGC4958 found 50 CCDs, RA = 196.45380, Dec = -8.02023, Radius=143.5890 arcsec\n",
      "For NGC5248 found 25 CCDs, RA = 204.38385, Dec = 8.88509, Radius=122.2141 arcsec\n",
      "For NGC5363 found 73 CCDs, RA = 209.03010, Dec = 5.25469, Radius=125.0608 arcsec\n",
      "For UGC09169 found 31 CCDs, RA = 214.93635, Dec = 9.36261, Radius=137.1264 arcsec\n",
      "For NGC5813 found 22 CCDs, RA = 225.29700, Dec = 1.70201, Radius=125.0608 arcsec\n",
      "For NGC5846 found 48 CCDs, RA = 226.62180, Dec = 1.60630, Radius=127.9739 arcsec\n",
      "For UGC10288 found 45 CCDs, RA = 243.60315, Dec = -0.20743, Radius=143.5890 arcsec\n",
      "Writing /global/cscratch1/sd/ioannis/dr5/gallery/gallery-large-galaxies-dr5.fits\n"
     ]
    }
   ],
   "source": [
    "ccdsdir = os.path.join(gallerydir, 'ccds')\n",
    "\n",
    "sampleargs = list()\n",
    "for cc in parent:\n",
    "    sampleargs.append( (cc, allccds, ccdsdir, bricks, survey) )\n",
    "\n",
    "nproc = 1\n",
    "if nproc > 1:\n",
    "    p = multiprocessing.Pool(nproc)\n",
    "    result = p.map(_build_sample_onegalaxy, sampleargs)\n",
    "    p.close()\n",
    "else:\n",
    "    result = list()\n",
    "    for args in sampleargs:\n",
    "        result.append(_build_sample_onegalaxy(args))\n",
    "\n",
    "# Remove non-matching galaxies and write out the sample\n",
    "result = list(filter(None, result))\n",
    "result = list(zip(*result))\n",
    "\n",
    "outcat = vstack(result[0])\n",
    "outccds = merge_tables(result[1])\n",
    "\n",
    "if os.path.isfile(galleryfile):\n",
    "    os.remove(galleryfile)\n",
    "            \n",
    "print('Writing {}'.format(galleryfile))\n",
    "outcat.write(galleryfile)"
   ]
  },
  {
   "cell_type": "markdown",
   "metadata": {},
   "source": [
    "### Retrieve FITS cutouts of each galaxy in each band"
   ]
  },
  {
   "cell_type": "code",
   "execution_count": 44,
   "metadata": {
    "collapsed": true
   },
   "outputs": [],
   "source": [
    "redownload = 1 # set to 1 to redownload FITS cutouts"
   ]
  },
  {
   "cell_type": "code",
   "execution_count": 29,
   "metadata": {
    "collapsed": false
   },
   "outputs": [],
   "source": [
    "fitsdir = os.path.join(gallerydir, 'fits')\n",
    "if ~os.path.isdir(fitsdir):\n",
    "    os.mkdir(fitsdir)"
   ]
  },
  {
   "cell_type": "code",
   "execution_count": 26,
   "metadata": {
    "collapsed": false
   },
   "outputs": [
    {
     "data": {
      "text/html": [
       "&lt;Table length=52&gt;\n",
       "<table id=\"table47968806918912\" class=\"table-striped table-bordered table-condensed\">\n",
       "<thead><tr><th>GALAXY</th><th>PGC</th><th>RA</th><th>DEC</th><th>TYPE</th><th>MULTIPLE</th><th>RADIUS</th><th>BA</th><th>PA</th><th>BMAG</th><th>IMAG</th><th>VHELIO</th><th>BRICKNAME [4]</th></tr></thead>\n",
       "<thead><tr><th>str28</th><th>str10</th><th>float64</th><th>float64</th><th>str4</th><th>str1</th><th>float32</th><th>float32</th><th>float32</th><th>float32</th><th>float32</th><th>float32</th><th>str20</th></tr></thead>\n",
       "<tr><td>PGC003853</td><td>PGC0003853</td><td>16.27035</td><td>-6.21246</td><td>SABc</td><td></td><td>122.214</td><td>0.74131</td><td>45.0</td><td>12.43</td><td>12.51</td><td>1095.0</td><td>0162m062 ..</td></tr>\n",
       "<tr><td>NGC0520</td><td>PGC0005193</td><td>21.14445</td><td>3.7942</td><td>Sa</td><td></td><td>122.214</td><td>0.389045</td><td>130.0</td><td>12.21</td><td>10.5</td><td>2161.0</td><td>0211p037 ..</td></tr>\n",
       "<tr><td>NGC0720</td><td>PGC0006983</td><td>28.2522</td><td>-13.73859</td><td>E</td><td></td><td>134.005</td><td>0.524807</td><td>141.9</td><td>11.15</td><td>9.31</td><td>1717.0</td><td>0281m137 ..</td></tr>\n",
       "<tr><td>NGC0936</td><td>PGC0009359</td><td>36.90585</td><td>-1.15595</td><td>S0-a</td><td></td><td>134.005</td><td>0.724436</td><td>133.0</td><td>11.2</td><td>9.4</td><td>1432.0</td><td>0368m012 ..</td></tr>\n",
       "<tr><td>NGC0988</td><td>PGC0009843</td><td>38.86545</td><td>-9.35595</td><td>Sc</td><td></td><td>130.955</td><td>0.398107</td><td>119.2</td><td>10.94</td><td>7.03</td><td>1506.0</td><td>0388m095 ..</td></tr>\n",
       "<tr><td>UGC02302</td><td>PGC0010670</td><td>42.28635</td><td>2.12703</td><td>Sm</td><td></td><td>143.589</td><td>0.954993</td><td>-999.0</td><td>14.08</td><td>-999.0</td><td>1104.0</td><td>0421p020 .. 0423p022</td></tr>\n",
       "<tr><td>UGC03974</td><td>PGC0021600</td><td>115.4808</td><td>16.8025</td><td>IB</td><td></td><td>130.955</td><td>0.977237</td><td>-999.0</td><td>13.74</td><td>14.09</td><td>272.0</td><td>1154p167 ..</td></tr>\n",
       "<tr><td>NGC2775</td><td>PGC0025861</td><td>137.58375</td><td>7.03792</td><td>Sab</td><td></td><td>127.974</td><td>0.794328</td><td>159.0</td><td>11.14</td><td>-999.0</td><td>1354.0</td><td>1375p070 ..</td></tr>\n",
       "<tr><td>NGC3003</td><td>PGC0028186</td><td>147.1488</td><td>33.42136</td><td>Sbc</td><td>M</td><td>143.589</td><td>0.223872</td><td>78.8</td><td>12.25</td><td>11.08</td><td>1480.0</td><td>1470p332 .. 1472p335</td></tr>\n",
       "<tr><td>NGC3044</td><td>PGC0028517</td><td>148.42035</td><td>1.57959</td><td>SBc</td><td></td><td>125.061</td><td>0.165959</td><td>114.3</td><td>12.47</td><td>10.94</td><td>1289.0</td><td>1483p015 ..</td></tr>\n",
       "<tr><td>...</td><td>...</td><td>...</td><td>...</td><td>...</td><td>...</td><td>...</td><td>...</td><td>...</td><td>...</td><td>...</td><td>...</td><td>...</td></tr>\n",
       "<tr><td>NGC4754</td><td>PGC0043656</td><td>193.07295</td><td>11.31397</td><td>S0</td><td>M</td><td>125.061</td><td>0.467735</td><td>22.3</td><td>11.4</td><td>9.45</td><td>1317.0</td><td>1931p112 ..</td></tr>\n",
       "<tr><td>NGC4772</td><td>PGC0043798</td><td>193.37145</td><td>2.16835</td><td>Sa</td><td></td><td>122.214</td><td>0.489779</td><td>155.1</td><td>11.89</td><td>10.75</td><td>1037.0</td><td>1933p020 ..</td></tr>\n",
       "<tr><td>NGC4818</td><td>PGC0044191</td><td>194.2038</td><td>-8.52529</td><td>SABa</td><td></td><td>127.974</td><td>0.301995</td><td>178.0</td><td>12.0</td><td>10.04</td><td>1066.0</td><td>1940m085 ..</td></tr>\n",
       "<tr><td>NGC4958</td><td>PGC0045313</td><td>196.4538</td><td>-8.02023</td><td>S0</td><td></td><td>143.589</td><td>0.251189</td><td>7.2</td><td>11.49</td><td>9.45</td><td>1299.0</td><td>1962m080 ..</td></tr>\n",
       "<tr><td>NGC5248</td><td>PGC0048130</td><td>204.38385</td><td>8.88509</td><td>SABb</td><td></td><td>122.214</td><td>0.588844</td><td>119.5</td><td>10.88</td><td>9.25</td><td>1152.0</td><td>2043p087 ..</td></tr>\n",
       "<tr><td>NGC5363</td><td>PGC0049547</td><td>209.0301</td><td>5.25469</td><td>S0-a</td><td></td><td>125.061</td><td>0.660693</td><td>133.3</td><td>11.11</td><td>-999.0</td><td>1134.0</td><td>2089p052 ..</td></tr>\n",
       "<tr><td>UGC09169</td><td>PGC0051207</td><td>214.93635</td><td>9.36261</td><td>I</td><td></td><td>137.126</td><td>0.190546</td><td>54.0</td><td>14.39</td><td>14.03</td><td>1274.0</td><td>2148p092 .. 2150p095</td></tr>\n",
       "<tr><td>NGC5813</td><td>PGC0053643</td><td>225.297</td><td>1.70201</td><td>E</td><td></td><td>125.061</td><td>0.660693</td><td>143.1</td><td>11.53</td><td>-999.0</td><td>1956.0</td><td>2251p017 ..</td></tr>\n",
       "<tr><td>NGC5846</td><td>PGC0053932</td><td>226.6218</td><td>1.6063</td><td>E</td><td>M</td><td>127.974</td><td>0.954993</td><td>-999.0</td><td>11.1</td><td>10.4</td><td>1749.0</td><td>2266p015 ..</td></tr>\n",
       "<tr><td>UGC10288</td><td>PGC0057582</td><td>243.60315</td><td>-0.20743</td><td>Sc</td><td></td><td>143.589</td><td>0.104713</td><td>90.3</td><td>14.25</td><td>12.2</td><td>2044.0</td><td>2436m002 ..</td></tr>\n",
       "</table>"
      ],
      "text/plain": [
       "<Table length=52>\n",
       "  GALAXY     PGC         RA    ...   IMAG   VHELIO    BRICKNAME [4]    \n",
       "  str28     str10     float64  ... float32 float32        str20        \n",
       "--------- ---------- --------- ... ------- ------- --------------------\n",
       "PGC003853 PGC0003853  16.27035 ...   12.51  1095.0         0162m062 .. \n",
       "  NGC0520 PGC0005193  21.14445 ...    10.5  2161.0         0211p037 .. \n",
       "  NGC0720 PGC0006983   28.2522 ...    9.31  1717.0         0281m137 .. \n",
       "  NGC0936 PGC0009359  36.90585 ...     9.4  1432.0         0368m012 .. \n",
       "  NGC0988 PGC0009843  38.86545 ...    7.03  1506.0         0388m095 .. \n",
       " UGC02302 PGC0010670  42.28635 ...  -999.0  1104.0 0421p020 .. 0423p022\n",
       " UGC03974 PGC0021600  115.4808 ...   14.09   272.0         1154p167 .. \n",
       "  NGC2775 PGC0025861 137.58375 ...  -999.0  1354.0         1375p070 .. \n",
       "  NGC3003 PGC0028186  147.1488 ...   11.08  1480.0 1470p332 .. 1472p335\n",
       "  NGC3044 PGC0028517 148.42035 ...   10.94  1289.0         1483p015 .. \n",
       "      ...        ...       ... ...     ...     ...                  ...\n",
       "  NGC4754 PGC0043656 193.07295 ...    9.45  1317.0         1931p112 .. \n",
       "  NGC4772 PGC0043798 193.37145 ...   10.75  1037.0         1933p020 .. \n",
       "  NGC4818 PGC0044191  194.2038 ...   10.04  1066.0         1940m085 .. \n",
       "  NGC4958 PGC0045313  196.4538 ...    9.45  1299.0         1962m080 .. \n",
       "  NGC5248 PGC0048130 204.38385 ...    9.25  1152.0         2043p087 .. \n",
       "  NGC5363 PGC0049547  209.0301 ...  -999.0  1134.0         2089p052 .. \n",
       " UGC09169 PGC0051207 214.93635 ...   14.03  1274.0 2148p092 .. 2150p095\n",
       "  NGC5813 PGC0053643   225.297 ...  -999.0  1956.0         2251p017 .. \n",
       "  NGC5846 PGC0053932  226.6218 ...    10.4  1749.0         2266p015 .. \n",
       " UGC10288 PGC0057582 243.60315 ...    12.2  2044.0         2436m002 .. "
      ]
     },
     "execution_count": 26,
     "metadata": {},
     "output_type": "execute_result"
    }
   ],
   "source": [
    "sample = Table.read(galleryfile)\n",
    "sample"
   ]
  },
  {
   "cell_type": "code",
   "execution_count": 69,
   "metadata": {
    "collapsed": false
   },
   "outputs": [
    {
     "name": "stdout",
     "output_type": "stream",
     "text": [
      "wget --continue -O /global/cscratch1/sd/ioannis/dr5/gallery/fits/pgc003853.fits \"http://legacysurvey.org/viewer-dev/fits-cutout/?ra=16.270350&dec=-6.212460&pixscale=0.262&size=1868&layer=decals-dr5\"\n",
      "  Writing /global/cscratch1/sd/ioannis/dr5/gallery/fits/pgc003853-g.fits\n",
      "  Writing /global/cscratch1/sd/ioannis/dr5/gallery/fits/pgc003853-r.fits\n",
      "  Writing /global/cscratch1/sd/ioannis/dr5/gallery/fits/pgc003853-z.fits\n",
      "  Removing /global/cscratch1/sd/ioannis/dr5/gallery/fits/pgc003853.fits\n",
      "wget --continue -O /global/cscratch1/sd/ioannis/dr5/gallery/fits/ngc0520.fits \"http://legacysurvey.org/viewer-dev/fits-cutout/?ra=21.144450&dec=3.794200&pixscale=0.262&size=1868&layer=decals-dr5\"\n",
      "  Writing /global/cscratch1/sd/ioannis/dr5/gallery/fits/ngc0520-g.fits\n",
      "  Writing /global/cscratch1/sd/ioannis/dr5/gallery/fits/ngc0520-r.fits\n",
      "  Writing /global/cscratch1/sd/ioannis/dr5/gallery/fits/ngc0520-z.fits\n",
      "  Removing /global/cscratch1/sd/ioannis/dr5/gallery/fits/ngc0520.fits\n",
      "wget --continue -O /global/cscratch1/sd/ioannis/dr5/gallery/fits/ngc0720.fits \"http://legacysurvey.org/viewer-dev/fits-cutout/?ra=28.252200&dec=-13.738590&pixscale=0.262&size=2048&layer=decals-dr5\"\n",
      "  Writing /global/cscratch1/sd/ioannis/dr5/gallery/fits/ngc0720-g.fits\n",
      "  Writing /global/cscratch1/sd/ioannis/dr5/gallery/fits/ngc0720-r.fits\n",
      "  Writing /global/cscratch1/sd/ioannis/dr5/gallery/fits/ngc0720-z.fits\n",
      "  Removing /global/cscratch1/sd/ioannis/dr5/gallery/fits/ngc0720.fits\n",
      "wget --continue -O /global/cscratch1/sd/ioannis/dr5/gallery/fits/ngc0936.fits \"http://legacysurvey.org/viewer-dev/fits-cutout/?ra=36.905850&dec=-1.155950&pixscale=0.262&size=2048&layer=decals-dr5\"\n",
      "  Writing /global/cscratch1/sd/ioannis/dr5/gallery/fits/ngc0936-g.fits\n",
      "  Writing /global/cscratch1/sd/ioannis/dr5/gallery/fits/ngc0936-r.fits\n",
      "  Writing /global/cscratch1/sd/ioannis/dr5/gallery/fits/ngc0936-z.fits\n",
      "  Removing /global/cscratch1/sd/ioannis/dr5/gallery/fits/ngc0936.fits\n",
      "wget --continue -O /global/cscratch1/sd/ioannis/dr5/gallery/fits/ngc0988.fits \"http://legacysurvey.org/viewer-dev/fits-cutout/?ra=38.865450&dec=-9.355950&pixscale=0.262&size=2000&layer=decals-dr5\"\n",
      "  Writing /global/cscratch1/sd/ioannis/dr5/gallery/fits/ngc0988-g.fits\n",
      "  Writing /global/cscratch1/sd/ioannis/dr5/gallery/fits/ngc0988-r.fits\n",
      "  Writing /global/cscratch1/sd/ioannis/dr5/gallery/fits/ngc0988-z.fits\n",
      "  Removing /global/cscratch1/sd/ioannis/dr5/gallery/fits/ngc0988.fits\n",
      "wget --continue -O /global/cscratch1/sd/ioannis/dr5/gallery/fits/ugc02302.fits \"http://legacysurvey.org/viewer-dev/fits-cutout/?ra=42.286350&dec=2.127030&pixscale=0.262&size=2196&layer=decals-dr5\"\n",
      "  Writing /global/cscratch1/sd/ioannis/dr5/gallery/fits/ugc02302-g.fits\n",
      "  Writing /global/cscratch1/sd/ioannis/dr5/gallery/fits/ugc02302-r.fits\n",
      "  Writing /global/cscratch1/sd/ioannis/dr5/gallery/fits/ugc02302-z.fits\n",
      "  Removing /global/cscratch1/sd/ioannis/dr5/gallery/fits/ugc02302.fits\n",
      "wget --continue -O /global/cscratch1/sd/ioannis/dr5/gallery/fits/ugc03974.fits \"http://legacysurvey.org/viewer-dev/fits-cutout/?ra=115.480800&dec=16.802500&pixscale=0.262&size=2000&layer=decals-dr5\"\n",
      "  Writing /global/cscratch1/sd/ioannis/dr5/gallery/fits/ugc03974-g.fits\n",
      "  Writing /global/cscratch1/sd/ioannis/dr5/gallery/fits/ugc03974-r.fits\n",
      "  Writing /global/cscratch1/sd/ioannis/dr5/gallery/fits/ugc03974-z.fits\n",
      "  Removing /global/cscratch1/sd/ioannis/dr5/gallery/fits/ugc03974.fits\n",
      "wget --continue -O /global/cscratch1/sd/ioannis/dr5/gallery/fits/ngc2775.fits \"http://legacysurvey.org/viewer-dev/fits-cutout/?ra=137.583750&dec=7.037920&pixscale=0.262&size=1956&layer=decals-dr5\"\n",
      "  Writing /global/cscratch1/sd/ioannis/dr5/gallery/fits/ngc2775-g.fits\n",
      "  Writing /global/cscratch1/sd/ioannis/dr5/gallery/fits/ngc2775-r.fits\n",
      "  Writing /global/cscratch1/sd/ioannis/dr5/gallery/fits/ngc2775-z.fits\n",
      "  Removing /global/cscratch1/sd/ioannis/dr5/gallery/fits/ngc2775.fits\n",
      "wget --continue -O /global/cscratch1/sd/ioannis/dr5/gallery/fits/ngc3003.fits \"http://legacysurvey.org/viewer-dev/fits-cutout/?ra=147.148800&dec=33.421360&pixscale=0.262&size=2196&layer=decals-dr5\"\n",
      "  Writing /global/cscratch1/sd/ioannis/dr5/gallery/fits/ngc3003-g.fits\n",
      "  Writing /global/cscratch1/sd/ioannis/dr5/gallery/fits/ngc3003-r.fits\n",
      "  Writing /global/cscratch1/sd/ioannis/dr5/gallery/fits/ngc3003-z.fits\n",
      "  Removing /global/cscratch1/sd/ioannis/dr5/gallery/fits/ngc3003.fits\n",
      "wget --continue -O /global/cscratch1/sd/ioannis/dr5/gallery/fits/ngc3044.fits \"http://legacysurvey.org/viewer-dev/fits-cutout/?ra=148.420350&dec=1.579590&pixscale=0.262&size=1912&layer=decals-dr5\"\n",
      "  Writing /global/cscratch1/sd/ioannis/dr5/gallery/fits/ngc3044-g.fits\n",
      "  Writing /global/cscratch1/sd/ioannis/dr5/gallery/fits/ngc3044-r.fits\n",
      "  Writing /global/cscratch1/sd/ioannis/dr5/gallery/fits/ngc3044-z.fits\n",
      "  Removing /global/cscratch1/sd/ioannis/dr5/gallery/fits/ngc3044.fits\n",
      "wget --continue -O /global/cscratch1/sd/ioannis/dr5/gallery/fits/ugc05364.fits \"http://legacysurvey.org/viewer-dev/fits-cutout/?ra=149.860050&dec=30.746390&pixscale=0.262&size=2096&layer=decals-dr5\"\n",
      "  Writing /global/cscratch1/sd/ioannis/dr5/gallery/fits/ugc05364-g.fits\n",
      "  Writing /global/cscratch1/sd/ioannis/dr5/gallery/fits/ugc05364-r.fits\n",
      "  Writing /global/cscratch1/sd/ioannis/dr5/gallery/fits/ugc05364-z.fits\n",
      "  Removing /global/cscratch1/sd/ioannis/dr5/gallery/fits/ugc05364.fits\n",
      "wget --continue -O /global/cscratch1/sd/ioannis/dr5/gallery/fits/ugc05373.fits \"http://legacysurvey.org/viewer-dev/fits-cutout/?ra=150.000150&dec=5.332240&pixscale=0.262&size=2244&layer=decals-dr5\"\n",
      "  Writing /global/cscratch1/sd/ioannis/dr5/gallery/fits/ugc05373-g.fits\n",
      "  Writing /global/cscratch1/sd/ioannis/dr5/gallery/fits/ugc05373-r.fits\n",
      "  Writing /global/cscratch1/sd/ioannis/dr5/gallery/fits/ugc05373-z.fits\n",
      "  Removing /global/cscratch1/sd/ioannis/dr5/gallery/fits/ugc05373.fits\n",
      "wget --continue -O /global/cscratch1/sd/ioannis/dr5/gallery/fits/sdssj100819.08+120322.4.fits \"http://legacysurvey.org/viewer-dev/fits-cutout/?ra=152.079450&dec=12.056230&pixscale=0.262&size=1868&layer=decals-dr5\"\n",
      "  Writing /global/cscratch1/sd/ioannis/dr5/gallery/fits/sdssj100819.08+120322.4-g.fits\n",
      "  Writing /global/cscratch1/sd/ioannis/dr5/gallery/fits/sdssj100819.08+120322.4-r.fits\n",
      "  Writing /global/cscratch1/sd/ioannis/dr5/gallery/fits/sdssj100819.08+120322.4-z.fits\n",
      "  Removing /global/cscratch1/sd/ioannis/dr5/gallery/fits/sdssj100819.08+120322.4.fits\n",
      "wget --continue -O /global/cscratch1/sd/ioannis/dr5/gallery/fits/ngc3166.fits \"http://legacysurvey.org/viewer-dev/fits-cutout/?ra=153.440550&dec=3.424870&pixscale=0.262&size=2048&layer=decals-dr5\"\n",
      "  Writing /global/cscratch1/sd/ioannis/dr5/gallery/fits/ngc3166-g.fits\n",
      "  Writing /global/cscratch1/sd/ioannis/dr5/gallery/fits/ngc3166-r.fits\n",
      "  Writing /global/cscratch1/sd/ioannis/dr5/gallery/fits/ngc3166-z.fits\n",
      "  Removing /global/cscratch1/sd/ioannis/dr5/gallery/fits/ngc3166.fits\n",
      "wget --continue -O /global/cscratch1/sd/ioannis/dr5/gallery/fits/ngc3169.fits \"http://legacysurvey.org/viewer-dev/fits-cutout/?ra=153.562050&dec=3.466370&pixscale=0.262&size=2000&layer=decals-dr5\"\n",
      "  Writing /global/cscratch1/sd/ioannis/dr5/gallery/fits/ngc3169-g.fits\n",
      "  Writing /global/cscratch1/sd/ioannis/dr5/gallery/fits/ngc3169-r.fits\n",
      "  Writing /global/cscratch1/sd/ioannis/dr5/gallery/fits/ngc3169-z.fits\n",
      "  Removing /global/cscratch1/sd/ioannis/dr5/gallery/fits/ngc3169.fits\n",
      "wget --continue -O /global/cscratch1/sd/ioannis/dr5/gallery/fits/ngc3365.fits \"http://legacysurvey.org/viewer-dev/fits-cutout/?ra=161.552400&dec=1.813300&pixscale=0.262&size=1868&layer=decals-dr5\"\n",
      "  Writing /global/cscratch1/sd/ioannis/dr5/gallery/fits/ngc3365-g.fits\n",
      "  Writing /global/cscratch1/sd/ioannis/dr5/gallery/fits/ngc3365-r.fits\n",
      "  Writing /global/cscratch1/sd/ioannis/dr5/gallery/fits/ngc3365-z.fits\n",
      "  Removing /global/cscratch1/sd/ioannis/dr5/gallery/fits/ngc3365.fits\n",
      "wget --continue -O /global/cscratch1/sd/ioannis/dr5/gallery/fits/ngc3379.fits \"http://legacysurvey.org/viewer-dev/fits-cutout/?ra=161.956650&dec=12.581610&pixscale=0.262&size=2244&layer=decals-dr5\"\n",
      "  Writing /global/cscratch1/sd/ioannis/dr5/gallery/fits/ngc3379-g.fits\n",
      "  Writing /global/cscratch1/sd/ioannis/dr5/gallery/fits/ngc3379-r.fits\n",
      "  Writing /global/cscratch1/sd/ioannis/dr5/gallery/fits/ngc3379-z.fits\n",
      "  Removing /global/cscratch1/sd/ioannis/dr5/gallery/fits/ngc3379.fits\n",
      "wget --continue -O /global/cscratch1/sd/ioannis/dr5/gallery/fits/sdssj104819.41+123745.8.fits \"http://legacysurvey.org/viewer-dev/fits-cutout/?ra=162.080850&dec=12.629340&pixscale=0.262&size=1868&layer=decals-dr5\"\n",
      "  Writing /global/cscratch1/sd/ioannis/dr5/gallery/fits/sdssj104819.41+123745.8-g.fits\n",
      "  Writing /global/cscratch1/sd/ioannis/dr5/gallery/fits/sdssj104819.41+123745.8-r.fits\n",
      "  Writing /global/cscratch1/sd/ioannis/dr5/gallery/fits/sdssj104819.41+123745.8-z.fits\n",
      "  Removing /global/cscratch1/sd/ioannis/dr5/gallery/fits/sdssj104819.41+123745.8.fits\n",
      "wget --continue -O /global/cscratch1/sd/ioannis/dr5/gallery/fits/ngc3495.fits \"http://legacysurvey.org/viewer-dev/fits-cutout/?ra=165.317550&dec=3.628100&pixscale=0.262&size=2144&layer=decals-dr5\"\n",
      "  Writing /global/cscratch1/sd/ioannis/dr5/gallery/fits/ngc3495-g.fits\n",
      "  Writing /global/cscratch1/sd/ioannis/dr5/gallery/fits/ngc3495-r.fits\n",
      "  Writing /global/cscratch1/sd/ioannis/dr5/gallery/fits/ngc3495-z.fits\n",
      "  Removing /global/cscratch1/sd/ioannis/dr5/gallery/fits/ngc3495.fits\n",
      "wget --continue -O /global/cscratch1/sd/ioannis/dr5/gallery/fits/ngc3501.fits \"http://legacysurvey.org/viewer-dev/fits-cutout/?ra=165.697050&dec=17.989450&pixscale=0.262&size=1956&layer=decals-dr5\"\n",
      "  Writing /global/cscratch1/sd/ioannis/dr5/gallery/fits/ngc3501-g.fits\n",
      "  Writing /global/cscratch1/sd/ioannis/dr5/gallery/fits/ngc3501-r.fits\n",
      "  Writing /global/cscratch1/sd/ioannis/dr5/gallery/fits/ngc3501-z.fits\n",
      "  Removing /global/cscratch1/sd/ioannis/dr5/gallery/fits/ngc3501.fits\n"
     ]
    }
   ],
   "source": [
    "for gal in sample[:20]:\n",
    "    galaxy = gal['GALAXY'].strip().lower()\n",
    "\n",
    "    # SIZE here should be consistent with DIAM in args.runbrick, below\n",
    "    size = DIAMFACTOR*np.ceil(gal['RADIUS']/PIXSCALE).astype('int16') # [pixels]\n",
    "\n",
    "    # Get a FITS cutout and then split the file into three individual bands.\n",
    "    baseurl = 'http://legacysurvey.org/viewer-dev/fits-cutout/'\n",
    "    fitsurl = '{}?ra={:.6f}&dec={:.6f}&pixscale={:.3f}&size={:g}&layer=decals-{}'.format(\n",
    "        baseurl, gal['RA'], gal['DEC'], PIXSCALE, size, dr)\n",
    "    fitsfile = os.path.join(fitsdir, '{}.fits'.format(galaxy))\n",
    "    cmd = 'wget --continue -O {:s} \"{:s}\"' .format(fitsfile, fitsurl)\n",
    "    print(cmd)\n",
    "    os.system(cmd)\n",
    "\n",
    "    img, hdr = fitsio.read(fitsfile, ext=0, header=True)\n",
    "    for ii, band in enumerate(['g', 'r', 'z']):\n",
    "        bandfile = os.path.join(fitsdir, '{}-{}.fits'.format(galaxy, band))\n",
    "        print('  Writing {}'.format(bandfile))\n",
    "        fitsio.write(bandfile, img[ii, :, :], clobber=True, header=hdr)        \n",
    "    \n",
    "    print('  Removing {}'.format(fitsfile))\n",
    "    os.remove(fitsfile)"
   ]
  },
  {
   "cell_type": "markdown",
   "metadata": {},
   "source": [
    "### Build a color image using trilogy.py"
   ]
  },
  {
   "cell_type": "code",
   "execution_count": 54,
   "metadata": {
    "collapsed": false
   },
   "outputs": [],
   "source": [
    "pngdir = os.path.join(gallerydir, 'png')\n",
    "if not os.path.isdir(pngdir):\n",
    "    os.mkdir(pngdir)"
   ]
  },
  {
   "cell_type": "code",
   "execution_count": 100,
   "metadata": {
    "collapsed": false
   },
   "outputs": [
    {
     "name": "stdout",
     "output_type": "stream",
     "text": [
      "('python', '/global/cscratch1/sd/ioannis/repos/legacypipe/py/legacyanalysis/trilogy.py', '/global/cscratch1/sd/ioannis/dr5/gallery/png/pgc003853.in')\n",
      "<subprocess.Popen object at 0x2ba09b494b70>\n"
     ]
    }
   ],
   "source": [
    "for gal in sample[:1]:\n",
    "    galaxy = gal['GALAXY'].strip().lower()\n",
    "    pngfile = os.path.join(pngdir, '{}.png'.format(galaxy))\n",
    "\n",
    "    paramfile = os.path.join(pngdir, '{}.in'.format(galaxy))\n",
    "    with open(paramfile, 'w') as param:\n",
    "        param.write('B\\n')\n",
    "        param.write(os.path.join(fitsdir, '{}-g.fits\\n'.format(galaxy)))\n",
    "        param.write('\\n')\n",
    "        param.write('G\\n')\n",
    "        param.write(os.path.join(fitsdir, '{}-r.fits\\n'.format(galaxy)))\n",
    "        param.write('\\n')        \n",
    "        param.write('R\\n')\n",
    "        param.write(os.path.join(fitsdir, '{}-z.fits\\n'.format(galaxy)))\n",
    "        param.write('\\n')\n",
    "        param.write('indir {}\\n'.format(fitsdir))\n",
    "        param.write('outname {}\\n'.format(pngfile))\n",
    "        param.write('noiselum 0.5\\n')\n",
    "        param.write('satpercent 0.001\\n')\n",
    "        param.write('samplesize 500\\n')\n",
    "        param.write('stampsize 5000\\n')\n",
    "        #param.write('scaling {}\\n'.format(os.path.join(gallerydir, 'levels.txt')))\n",
    "        param.write('colorsatfac 0.9\\n')\n",
    "        param.write('deletetests 1\\n')\n",
    "        param.write('showstamps 0\\n')\n",
    "        param.write('show 0\\n')\n",
    "        param.write('legend 0\\n')\n",
    "        param.write('testfirst 0\\n')\n",
    "        \n",
    "    trilogy = os.path.join(os.getenv('LEGACYPIPE_DIR'), 'py', 'legacyanalysis', 'trilogy.py')\n",
    "    #cmd = 'python {} {}'.format(trilogy, paramfile)\n",
    "    cmd = ('python', trilogy , paramfile)\n",
    "    print(cmd)\n",
    "    #print(' '.join(cmd))\n",
    "    rr = subprocess.Popen(cmd, stdout=subprocess.PIPE, stderr=subprocess.PIPE)\n",
    "    print(rr)\n",
    "    #os.system(cmd)"
   ]
  },
  {
   "cell_type": "code",
   "execution_count": null,
   "metadata": {
    "collapsed": true
   },
   "outputs": [],
   "source": []
  }
 ],
 "metadata": {
  "anaconda-cloud": {},
  "kernelspec": {
   "display_name": "legacypipe master",
   "language": "python",
   "name": "legacypipe-master"
  },
  "language_info": {
   "codemirror_mode": {
    "name": "ipython",
    "version": 3
   },
   "file_extension": ".py",
   "mimetype": "text/x-python",
   "name": "python",
   "nbconvert_exporter": "python",
   "pygments_lexer": "ipython3",
   "version": "3.5.3"
  }
 },
 "nbformat": 4,
 "nbformat_minor": 2
}
