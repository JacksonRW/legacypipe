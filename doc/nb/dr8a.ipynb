{
 "cells": [
  {
   "cell_type": "markdown",
   "metadata": {},
   "source": [
    "# DR8 Calibration Files\n",
    "\n",
    "The goal of this notebook is to document how we ran [DR8a](https://desi.lbl.gov/trac/wiki/DecamLegacy/DR8#Testregions), including calibration files, with the updated data model and using the burst buffer on Cori.\n",
    "\n",
    "John Moustakas  \n",
    "Siena College  \n",
    "2019 March 10\n",
    "\n",
    "Many thanks to Dustin Lang, Adam Myers, Eddie Schlafly, David Schlegel, Martin Landriau, and Stephen Bailey."
   ]
  },
  {
   "cell_type": "markdown",
   "metadata": {},
   "source": [
    "## A. Preliminaries"
   ]
  },
  {
   "cell_type": "markdown",
   "metadata": {},
   "source": [
    "### A1. Define $LEGACY_SURVEY_DIR."
   ]
  },
  {
   "cell_type": "markdown",
   "metadata": {},
   "source": [
    "First, choose a new, empty top-level directory on `project` and create it:\n",
    "```bash\n",
    "export LEGACY_SURVEY_DIR=/global/project/projectdirs/cosmo/work/legacysurvey/dr8a\n",
    "mkdir -p $LEGACY_SURVEY_DIR\n",
    "cd $LEGACY_SURVEY_DIR\n",
    "```\n",
    "Note: the same `$LEGACY_SURVEY_DIR` environment variable will need to be defined within the scripts below so that they are self-contained.\n",
    "\n",
    "**Hereafter I will assume that all scripts are launched from the $LEGACY_SURVEY_DIR directory.**\n",
    "\n",
    "Next, create soft links to the CP-reduced imaging data.\n",
    "```bash\n",
    "mkdir -p images\n",
    "ln -s /global/project/projectdirs/cosmo/staging/90prime images/90prime\n",
    "ln -s /global/project/projectdirs/cosmo/staging/mosaic images/mosaic\n",
    "ln -s /global/project/projectdirs/cosmo/staging/decam images/decam\n",
    "```"
   ]
  },
  {
   "cell_type": "markdown",
   "metadata": {},
   "source": [
    "### A2. Access (or create) the burst buffer."
   ]
  },
  {
   "cell_type": "markdown",
   "metadata": {},
   "source": [
    "For DR8a, Dustin Lang created a 40TB burst-buffer reservation called \"DR8\".  You can think of this as a mounted external drive, where large files can be written and read without the significant overhead associated with `$SCRATCH`, although eventually the results will be copied onto `project`, as described below.\n",
    "\n",
    "To access this file system for the first time you have to create a configuration file (just once).\n",
    "```bash\n",
    "echo \"#DW persistentdw name=DR8\" > bb.conf\n",
    "```\n",
    "\n",
    "The files in the burst buffer can be accessed *only* from an interactive Cori node.  Let's do this (just once) and make a dedicated subdirectory to keep our outputs tidy:\n",
    "```bash\n",
    "salloc -N 1 -C haswell -q interactive -t 00:10:00 --bbf=bb.conf\n",
    "mkdir -p $DW_PERSISTENT_STRIPED_DR8/dr8a\n",
    "```\n",
    "Note that the `$DW_PERSISTENT_STRIPED_DR8` environment variable must be used *always*, as every user will have a different absolute path.\n",
    "\n",
    "For the record, a new reservation can be made (if necessary) by submitting the following SLURM script to the queue:\n",
    "\n",
    "```bash\n",
    "#! /bin/bash\n",
    "#SBATCH -q debug\n",
    "#SBATCH -N 1\n",
    "#SBATCH -C haswell\n",
    "#SBATCH -t 00:05:00\n",
    "#BB create_persistent name=BBNAME capacity=50000GB access_mode=striped type=scratch\n",
    "```\n",
    "where `BBNAME` is the desired name of the reservation."
   ]
  },
  {
   "cell_type": "markdown",
   "metadata": {},
   "source": [
    "### A3. Set up software dependencies.\n",
    "**ToDo**: Add Docker instructions (link to Adam's NB).  \n",
    "**ToDo**: Add instructions for compiling tractor and astrometry.net, if needed (separate notebook).  \n",
    "**ToDo**: QDO may be added to the desiconda stack."
   ]
  },
  {
   "cell_type": "markdown",
   "metadata": {},
   "source": [
    "Most of the code dependencies are in the `desiconda` imaging stack (like [tractor](https://github.com/dstndstn/tractor) and [astrometry.net](https://github.com/dstndstn/astrometry.net)), which we will source in our setup script, below, but we usually depend on a recent (hopefully tagged) version of [legacyzpts](https://github.com/legacysurvey/legacyzpts) and [legacypipe](https://github.com/legacysurvey/legacypipe).\n",
    "\n",
    "```bash\n",
    "cd $LEGACY_SURVEY_DIR\n",
    "mkdir -p dr8code\n",
    "for package in legacyzpts legacypipe; do\n",
    "  git clone git@github.com:legacysurvey/$package.git dr8code/$package\n",
    "  cd $package ; git checkout tags/dr8 ; cd ..\n",
    "done\n",
    "git clone https://bitbucket.org/berkeleylab/qdo/src/master dr8code/qdo\n",
    "```\n",
    "\n",
    "Next, create a bash script called `dr8-env.sh` that will set up all our dependencies and myriad environment variables.  This script isn't checked in because it contains a *qdo* database password, but it should look something like this (with the appropriate `LEGACY_SURVEY_DIR` environment variable, of course):\n",
    "\n",
    "```bash\n",
    "#! /bin/bash\n",
    "export LEGACY_SURVEY_DIR=/global/project/projectdirs/cosmo/work/legacysurvey/dr8a\n",
    "\n",
    "# Use local check-outs of qdo, legacypipe, and legacyzpts.\n",
    "export QDO_DIR=$LEGACY_SURVEY_DIR/dr8code/qdo \n",
    "export LEGACYPIPE_DIR=$LEGACY_SURVEY_DIR/dr8code/legacypipe\n",
    "export LEGACYZPTS_DIR=$LEGACY_SURVEY_DIR/dr8code/legacyzpts\n",
    "\n",
    "# This file has most of the needed environment variables.\n",
    "source $LEGACYPIPE_DIR/bin/legacypipe-env\n",
    "\n",
    "export PYTHONPATH=$QDO_DIR:$PYTHONPATH\n",
    "export PYTHONPATH=$LEGACYPIPE_DIR/py:$PYTHONPATH\n",
    "export PYTHONPATH=$LEGACYZPTS_DIR/py:$PYTHONPATH\n",
    "\n",
    "export PATH=$QDO_DIR/bin:$PATH\n",
    "export PATH=$LEGACYPIPE_DIR/bin:$PATH\n",
    "export PATH=$LEGACYZPTS_DIR/bin:$PATH\n",
    "\n",
    "export QDO_BACKEND=postgres\n",
    "export QDO_BATCH_PROFILE=cori\n",
    "export QDO_DB_HOST=nerscdb03.nersc.gov\n",
    "export QDO_DB_NAME=desirun\n",
    "export QDO_DB_PASS=ask_a_friend_for_this\n",
    "export QDO_DB_USER=desirun_admin\n",
    "\n",
    "# Some NERSC-specific options to get MPI working properly.\n",
    "export OMP_NUM_THREADS=1\n",
    "export MKL_NUM_THREADS=1\n",
    "export KMP_AFFINITY=disabled\n",
    "export MPICH_GNI_FORK_MODE=FULLCOPY\n",
    "```"
   ]
  },
  {
   "cell_type": "markdown",
   "metadata": {},
   "source": [
    "### A4. Create the input image lists."
   ]
  },
  {
   "cell_type": "markdown",
   "metadata": {},
   "source": [
    "For DR8 Eddie Schlafly and David Schlegel inspected all the `DECam`, `90prime`, and `mosaic` imaging data on-disk and created three FITS files which should be used to define the input data:\n",
    "* dr8-ondisk-decam.fits\n",
    "* dr8-ondisk-90prime.fits\n",
    "* dr8-ondisk-mosaic.fits\n",
    "\n",
    "We use these tables (cutting on `QKEEP==True`) to create our input image lists.  To keep everything tidy, create a new `$LEGACY_SURVEY_DIR/image-lists` subdirectory, copy the `dr8-ondisk-*.fits` files there, source the `dr8-env.sh` file, and then run the following snippet of code in an `ipython` session:\n",
    "```python\n",
    "import os\n",
    "import fitsio\n",
    "for camera in ('decam', 'mosaic', '90prime'):\n",
    "    data = fitsio.read('dr8-ondisk-{}.fits'.format(camera), upper=True)\n",
    "    with open('image-list-{}.txt'.format(camera), 'w') as flist:\n",
    "        for imfile in data[data['QKEEP']]['FILENAME']:\n",
    "            flist.write('{}\\n'.format(os.path.join(camera, imfile.decode('utf-8').strip())))\n",
    "```"
   ]
  },
  {
   "cell_type": "markdown",
   "metadata": {},
   "source": [
    "### Launch the everything."
   ]
  },
  {
   "cell_type": "markdown",
   "metadata": {},
   "source": [
    "### Rsync everything to `project`.\n",
    "\n",
    "```bash\n",
    "cd $DW_PERSISTENT_SCRATCH/dr8a\n",
    "rsync -auv zpts $LEGACY_SURVEY_DIR >> rsync-zpts.log 2>&1 &\n",
    "rsync -auvR calib/*/*-merged $LEGACY_SURVEY_DIR >> rsync-calib.log 2>&1 &\n",
    "```"
   ]
  },
  {
   "cell_type": "markdown",
   "metadata": {},
   "source": [
    "### Build the merged *survey-ccds* and *annotated-ccds* files (and their KD-tree cousins)."
   ]
  },
  {
   "cell_type": "markdown",
   "metadata": {},
   "source": [
    "```bash\n",
    "./dr8-merge-zpts.sh\n",
    "```\n",
    "Might have to put this in a `slurm` script.  This also generates the KD-tree version of these files."
   ]
  },
  {
   "cell_type": "markdown",
   "metadata": {},
   "source": [
    "### Optional: update ccd_cuts and apply depth cuts."
   ]
  },
  {
   "cell_type": "code",
   "execution_count": null,
   "metadata": {},
   "outputs": [],
   "source": []
  },
  {
   "cell_type": "markdown",
   "metadata": {},
   "source": [
    "### Run legacypipe"
   ]
  },
  {
   "cell_type": "markdown",
   "metadata": {},
   "source": [
    "```bash\n",
    "cd $DW_PERSISTENT_SCRATCH/dr8a/runbrick\n",
    "rsync -auv tractor* $LEGACY_SURVEY_DIR >> rsync-tractor.log 2>&1 &\n",
    "rsync -auv coadd $LEGACY_SURVEY_DIR >> rsync-coadd.log 2>&1 &\n",
    "rsync -auv metrics $LEGACY_SURVEY_DIR >> rsync-metrics.log 2>&1 &\n",
    "```"
   ]
  },
  {
   "cell_type": "markdown",
   "metadata": {},
   "source": [
    "```bash\n",
    "qdo launch dr8a 256 --cores_per_worker 8 --walltime=00:30:00 \\\n",
    "  --script ./dr8-runbrick.sh --batchqueue debug --keep_env --batchopts \"--bbf=bb.conf\"\n",
    "```\n"
   ]
  },
  {
   "cell_type": "markdown",
   "metadata": {},
   "source": [
    "### Update the viewer"
   ]
  },
  {
   "cell_type": "markdown",
   "metadata": {},
   "source": [
    "```bash\n",
    "cd /global/project/projectdirs/cosmo/webapp/viewer-dev/\n",
    "```\n",
    "edit load-layer.py and run it!  Takes a long time.  Then “touch wsgi.py” and hit reload"
   ]
  },
  {
   "cell_type": "code",
   "execution_count": null,
   "metadata": {},
   "outputs": [],
   "source": []
  }
 ],
 "metadata": {
  "kernelspec": {
   "display_name": "Python 3",
   "language": "python",
   "name": "python3"
  },
  "language_info": {
   "codemirror_mode": {
    "name": "ipython",
    "version": 3
   },
   "file_extension": ".py",
   "mimetype": "text/x-python",
   "name": "python",
   "nbconvert_exporter": "python",
   "pygments_lexer": "ipython3",
   "version": "3.6.7"
  }
 },
 "nbformat": 4,
 "nbformat_minor": 2
}
