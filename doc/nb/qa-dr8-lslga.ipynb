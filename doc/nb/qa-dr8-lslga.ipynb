#!/usr/bin/env python
"""
rsync -auvP dtn01:"/global/project/projectdirs/cosmo/work/legacysurvey/dr8c/90prime-mosaic/tractor" ./90prime-mosaic/

"""
import os, pdb
import numpy as np
from glob import glob
import fitsio
from astropy.table import vstack, Table, hstack

outdir = os.getenv('HOME')
#dr8dir = '/global/project/projectdirs/cosmo/work/legacysurvey/dr8b'
dr8dir = '/Users/ioannis/work/legacysurvey/dr8c'

#lslga = Table.read('/global/project/projectdirs/cosmo/staging/largegalaxies/v2.0/LSLGA-v2.0.fits')
lslga = Table.read('/Users/ioannis/research/projects/LSLGA/sample/v2.0/LSLGA-v2.0.fits')

gather_data = True

if gather_data:
    #for camera in (['90prime-mosaic']):
    for camera in (['decam']):
    #for camera in ('decam', '90prime-mosaic'):
        out = []
        catfile = glob(os.path.join(dr8dir, camera, 'tractor', '???', 'tractor*.fits'))
        for ii, ff in enumerate(catfile[1:]):
            if ii % 100 == 0:
                print('{} / {}'.format(ii, len(catfile)))
            cc = Table(fitsio.read(ff, columns=['REF_CAT', 'REF_ID', 'RA', 'DEC', 'TYPE', 'FRACDEV',
                                                'SHAPEEXP_R', 'SHAPEEXP_E1', 'SHAPEEXP_E2', 
                                                'SHAPEDEV_R', 'SHAPEDEV_E1', 'SHAPEDEV_E2'], upper=True))
            ckeep = np.where(cc['REF_CAT'] == 'L2')[0]
            #keep = np.where([rcat.decode('utf-8').strip() == 'L2' for rcat in cc['REF_CAT']])[0]
            if len(ckeep) > 0:
                cc = cc[ckeep]
                cc = cc[np.argsort(cc['REF_ID'])] # sort!
                lkeep = np.where(np.isin(lslga['LSLGA_ID'], cc['REF_ID']))[0]
                if len(lkeep) != len(cc):
                    print('Missing source!')
                lss = lslga[lkeep]
                assert(np.all(lss['LSLGA_ID'] == cc['REF_ID']))
                lss.rename_column('RA', 'RA_LSLGA')
                lss.rename_column('DEC', 'DEC_LSLGA')
                lss.rename_column('TYPE', 'MORPHTYPE')
                
                out.append(hstack((lss, cc)))

        out = vstack(out)
        out.write(os.path.join(drdir, 'check-lslga-{}.fits'.format(camera)), overwrite=True)

