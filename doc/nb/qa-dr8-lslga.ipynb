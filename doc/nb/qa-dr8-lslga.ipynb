{
 "cells": [
  {
   "cell_type": "code",
   "execution_count": 1,
   "metadata": {},
   "outputs": [],
   "source": [
    "import os, time\n",
    "import fitsio\n",
    "import numpy as np\n",
    "import matplotlib.pyplot as plt\n",
    "from glob import glob\n",
    "from astropy.table import vstack, Table, hstack"
   ]
  },
  {
   "cell_type": "code",
   "execution_count": 2,
   "metadata": {},
   "outputs": [],
   "source": [
    "import seaborn as sns\n",
    "sns.set(context='talk', style='ticks', font_scale=1.6)\n",
    "%matplotlib inline"
   ]
  },
  {
   "cell_type": "code",
   "execution_count": 3,
   "metadata": {},
   "outputs": [],
   "source": [
    "outdir = '/global/project/projectdirs/desi/users/ioannis/dr8-lslga'"
   ]
  },
  {
   "cell_type": "code",
   "execution_count": 4,
   "metadata": {},
   "outputs": [],
   "source": [
    "def read_dr8_lslga(region='north', clobber=False):\n",
    "    dr8dir = '/global/project/projectdirs/cosmo/work/legacysurvey/dr8'\n",
    "    sweepdir = '/global/project/projectdirs/cosmo/work/legacysurvey/dr8/{}/sweep/8.0/'.format(region)\n",
    "    \n",
    "    outfile = os.path.join(outdir, 'dr8-lslga-{}.fits'.format(region))\n",
    "    if os.path.isfile(outfile) and not clobber:\n",
    "        print('Reading {}'.format(outfile))\n",
    "        out = Table.read(outfile)\n",
    "    else:\n",
    "        lslgafile = os.path.join(os.getenv('LARGEGALAXIES_DIR'), 'LSLGA-v2.0.fits')\n",
    "        print('Reading {}'.format(lslgafile))\n",
    "        lslga = Table.read(lslgafile)\n",
    "\n",
    "        out = []\n",
    "        catfile = glob(os.path.join(sweepdir, 'sweep*.fits'))\n",
    "        for ii, ff in enumerate(catfile):\n",
    "            if ii % 50 == 0:\n",
    "                print('{} / {}'.format(ii, len(catfile)))\n",
    "            cc = Table(fitsio.read(ff, columns=['REF_CAT', 'REF_ID', 'RA', 'DEC', 'TYPE', 'FRACDEV',\n",
    "                                                'SHAPEEXP_R', 'SHAPEEXP_E1', 'SHAPEEXP_E2', \n",
    "                                                'SHAPEDEV_R', 'SHAPEDEV_E1', 'SHAPEDEV_E2'], upper=True))\n",
    "            ckeep = np.where(cc['REF_CAT'] == 'L2')[0]\n",
    "            #keep = np.where([rcat.decode('utf-8').strip() == 'L2' for rcat in cc['REF_CAT']])[0]\n",
    "            if len(ckeep) > 0:\n",
    "                cc = cc[ckeep]\n",
    "                cc = cc[np.argsort(cc['REF_ID'])] # sort!\n",
    "                _, uu = np.unique(cc['REF_ID'], return_index=True)\n",
    "                if len(uu) != len(cc):\n",
    "                    print('Duplicate large galaxy in {}'.format(os.path.basename(ff)))\n",
    "                    cc = cc[uu]\n",
    "                lkeep = np.where(np.isin(lslga['LSLGA_ID'], cc['REF_ID']))[0]\n",
    "                if len(lkeep) != len(cc):\n",
    "                    print('Still a problem with duplicates!')\n",
    "                lss = lslga[lkeep]\n",
    "                assert(np.all(lss['LSLGA_ID'] == cc['REF_ID']))\n",
    "                lss.rename_column('RA', 'RA_LSLGA')\n",
    "                lss.rename_column('DEC', 'DEC_LSLGA')\n",
    "                lss.rename_column('TYPE', 'MORPHTYPE')\n",
    "                out.append(hstack((lss, cc)))\n",
    "                #import pdb ; pdb.set_trace()\n",
    "        out = vstack(out)\n",
    "        out.write(outfile, overwrite=True)\n",
    "    return out"
   ]
  },
  {
   "cell_type": "code",
   "execution_count": 5,
   "metadata": {},
   "outputs": [
    {
     "name": "stdout",
     "output_type": "stream",
     "text": [
      "Reading /global/project/projectdirs/cosmo/staging/largegalaxies/v2.0/LSLGA-v2.0.fits\n",
      "0 / 286\n",
      "Duplicate large galaxy in sweep-220p030-230p035.fits\n",
      "Duplicate large galaxy in sweep-160p045-170p050.fits\n",
      "50 / 286\n",
      "100 / 286\n",
      "150 / 286\n",
      "Duplicate large galaxy in sweep-110p045-120p050.fits\n",
      "200 / 286\n",
      "Duplicate large galaxy in sweep-220p040-230p045.fits\n",
      "Duplicate large galaxy in sweep-240p050-250p055.fits\n",
      "Duplicate large galaxy in sweep-200p035-210p040.fits\n",
      "250 / 286\n",
      "Duplicate large galaxy in sweep-260p040-270p045.fits\n",
      "CPU times: user 2min 30s, sys: 31.2 s, total: 3min 2s\n",
      "Wall time: 3min 38s\n"
     ]
    }
   ],
   "source": [
    "%time north = read_dr8_lslga(region='north', clobber=True)"
   ]
  },
  {
   "cell_type": "code",
   "execution_count": 6,
   "metadata": {},
   "outputs": [
    {
     "name": "stdout",
     "output_type": "stream",
     "text": [
      "Reading /global/project/projectdirs/cosmo/staging/largegalaxies/v2.0/LSLGA-v2.0.fits\n",
      "0 / 437\n",
      "Duplicate large galaxy in sweep-070m055-080m050.fits\n",
      "Duplicate large galaxy in sweep-330m050-340m045.fits\n",
      "50 / 437\n",
      "Duplicate large galaxy in sweep-030m005-040p000.fits\n",
      "100 / 437\n",
      "Duplicate large galaxy in sweep-010p005-020p010.fits\n",
      "Duplicate large galaxy in sweep-050m025-060m020.fits\n",
      "150 / 437\n",
      "Duplicate large galaxy in sweep-300m045-310m040.fits\n",
      "Duplicate large galaxy in sweep-340m045-350m040.fits\n",
      "Duplicate large galaxy in sweep-050m060-060m055.fits\n",
      "200 / 437\n",
      "Duplicate large galaxy in sweep-210p020-220p025.fits\n",
      "Duplicate large galaxy in sweep-080m060-090m055.fits\n",
      "Duplicate large galaxy in sweep-140p000-150p005.fits\n",
      "Duplicate large galaxy in sweep-060m035-070m030.fits\n",
      "Duplicate large galaxy in sweep-330m015-340m010.fits\n",
      "250 / 437\n",
      "Duplicate large galaxy in sweep-320m055-330m050.fits\n",
      "Duplicate large galaxy in sweep-230p010-240p015.fits\n",
      "300 / 437\n",
      "Duplicate large galaxy in sweep-030p010-040p015.fits\n",
      "Duplicate large galaxy in sweep-140m010-150m005.fits\n",
      "350 / 437\n",
      "Duplicate large galaxy in sweep-330p020-340p025.fits\n",
      "Duplicate large galaxy in sweep-110p020-120p025.fits\n",
      "Duplicate large galaxy in sweep-300m055-310m050.fits\n",
      "Duplicate large galaxy in sweep-020p005-030p010.fits\n",
      "Duplicate large galaxy in sweep-050m040-060m035.fits\n",
      "Duplicate large galaxy in sweep-060m060-070m055.fits\n",
      "400 / 437\n",
      "CPU times: user 8min 20s, sys: 1min 45s, total: 10min 6s\n",
      "Wall time: 11min 10s\n"
     ]
    }
   ],
   "source": [
    "%time south = read_dr8_lslga(region='south', clobber=True)"
   ]
  },
  {
   "cell_type": "code",
   "execution_count": 7,
   "metadata": {},
   "outputs": [
    {
     "ename": "NameError",
     "evalue": "name 'stop' is not defined",
     "output_type": "error",
     "traceback": [
      "\u001b[0;31m---------------------------------------------------------------------------\u001b[0m",
      "\u001b[0;31mNameError\u001b[0m                                 Traceback (most recent call last)",
      "\u001b[0;32m<ipython-input-7-4f76a9dad686>\u001b[0m in \u001b[0;36m<module>\u001b[0;34m\u001b[0m\n\u001b[0;32m----> 1\u001b[0;31m \u001b[0mstop\u001b[0m\u001b[0;34m\u001b[0m\u001b[0m\n\u001b[0m",
      "\u001b[0;31mNameError\u001b[0m: name 'stop' is not defined"
     ]
    }
   ],
   "source": [
    "stop"
   ]
  },
  {
   "cell_type": "code",
   "execution_count": null,
   "metadata": {},
   "outputs": [],
   "source": [
    "dra, ddec = (cat['RA'] - cat['RA_LSLGA']).data * 3600, (cat['DEC'] - cat['DEC_LSLGA']).data * 3600\n",
    "print(np.median(dra), np.std(dra), np.median(ddec), np.std(ddec))\n",
    "fig, ax = plt.subplots(figsize=(8, 6))\n",
    "ax.scatter(dra, ddec, s=50)\n",
    "ax.set_xlim(-40, 40)\n",
    "ax.set_ylim(-40, 40)\n",
    "ax.axhline(y=0, ls='-', alpha=0.8, color='k')\n",
    "ax.axvline(x=0, ls='-', alpha=0.8, color='k')\n",
    "ax.set_xlabel(r'$\\Delta\\,$(RA) (arcsec)')\n",
    "ax.set_ylabel(r'$\\Delta\\,$(Dec) (arcsec)')\n",
    "plt.subplots_adjust(bottom=0.15, left=0.15)\n",
    "fig.savefig('lslga-radec.png')"
   ]
  },
  {
   "cell_type": "code",
   "execution_count": null,
   "metadata": {},
   "outputs": [],
   "source": [
    "def get_e1e2(ba, phi):\n",
    "    ab = 1. / ba\n",
    "    e = (ab - 1) / (ab + 1)\n",
    "    ee = -np.log(1 - e)\n",
    "    angle = np.deg2rad(2. * (-phi))\n",
    "    ee1 = ee * np.cos(angle)\n",
    "    ee2 = ee * np.sin(angle)\n",
    "    return ee1, ee2\n",
    "        \n",
    "def type2properties(cat, objtype):\n",
    "    this = np.where([objtype == tt.strip() for tt in cat['TYPE']])[0]\n",
    "    if objtype == 'EXP' or objtype == 'REX':\n",
    "        reff, e1, e2 = cat['SHAPEEXP_R'][this], cat['SHAPEEXP_E1'][this], cat['SHAPEEXP_E2'][this]\n",
    "    elif objtype == 'DEV':\n",
    "        reff, e1, e2 = cat['SHAPEDEV_R'][this], cat['SHAPEDEV_E1'][this], cat['SHAPEDEV_E2'][this]\n",
    "        \n",
    "    lslga_rad = cat['D25'][this] / 2 * 60 / 2 # [arcmin]\n",
    "    lslga_e1, lslga_e2 = get_e1e2(cat['BA'][this], cat['PA'][this])\n",
    "        \n",
    "    return reff, e1, e2, lslga_rad, lslga_e1, lslga_e2, cat[this]"
   ]
  },
  {
   "cell_type": "code",
   "execution_count": null,
   "metadata": {},
   "outputs": [],
   "source": [
    "fig, ax = plt.subplots(1, 3, figsize=(18, 5))\n",
    "#for objtype in ('COMP', 'DEV', 'EXP', 'PSF', 'REX'):\n",
    "for objtype, marker in zip(('DEV', 'EXP', 'REX'), ('s', 'o', '*')):\n",
    "    reff, e1, e2, lslga_rad, lslga_e1, lslga_e2, _ = type2properties(cat, objtype)\n",
    "    ax[0].scatter(reff, lslga_rad, label=objtype, s=20, alpha=0.7, marker=marker)\n",
    "    if objtype != 'REX':\n",
    "        ax[1].scatter(e1, lslga_e1, s=20, alpha=0.7, marker=marker)\n",
    "        ax[2].scatter(e2, lslga_e2, s=20, alpha=0.7, marker=marker)\n",
    "ax[0].set_xlim(0, 40)\n",
    "ax[0].set_ylim(0, 40)\n",
    "ax[0].axhline(y=5, color='k')\n",
    "ax[0].set_xlabel(r'r$_{eff}$ (Tractor, arcsec)')\n",
    "ax[0].set_ylabel(r'0.5 * R(25) (LSLGA, arcsec)')\n",
    "ax[1].set_xlabel(r'e$_1$ (Tractor)')\n",
    "ax[1].set_ylabel(r'e$_1$ (LSLGA)')\n",
    "ax[2].set_xlabel(r'e$_2$ (Tractor)')\n",
    "ax[2].set_ylabel(r'e$_2$ (LSLGA)')\n",
    "for xx in ax[1:]:\n",
    "    xx.set_xlim(-1, 1)\n",
    "    xx.set_ylim(-1, 1)\n",
    "leg = ax[0].legend(loc='upper left', frameon=True, fontsize=16, markerscale=2)\n",
    "for l in leg.get_lines():\n",
    "    l.set_alpha(1)\n",
    "for xx in ax:\n",
    "    xx.plot(xx.get_xlim(), xx.get_ylim(), color='k', ls='--')\n",
    "plt.subplots_adjust(wspace=0.35, bottom=0.2)\n",
    "plt.savefig('check-lslga.png')"
   ]
  },
  {
   "cell_type": "code",
   "execution_count": null,
   "metadata": {},
   "outputs": [],
   "source": [
    "reff, e1, e2, lslga_rad, lslga_e1, lslga_e2, devcat = type2properties(cat, 'DEV')\n",
    "big = np.where(reff > 25)[0]\n",
    "for cc in devcat[big][:20]:\n",
    "    size = np.round(cc['D25'] * 1.5 * 60 / 0.262).astype(int)\n",
    "    montagefile = 'montage/{}.jpg'.format(cc['GALAXY'].lower())\n",
    "    jpgfile = []\n",
    "    #print('http://legacysurvey.org/viewer-dev?ra={}&dec={}&zoom=14&layer=dr8b-decam&lslga'.format(cc['RA'], cc['DEC']))\n",
    "    for ii, imtype in enumerate(('', '-model', '-resid')):\n",
    "        jpgfile.append('jpg/{}{}.jpg'.format(cc['GALAXY'].lower(), imtype))\n",
    "        url = '\"http://legacysurvey.org/viewer-dev/jpeg-cutout?ra={}&dec={}&size={}&layer=dr8b-decam{}\"'.format(\n",
    "            cc['RA'], cc['DEC'], size, imtype)\n",
    "        if not os.path.exists(jpgfile[ii]):\n",
    "            cmd = 'wget --continue -O {} {}'.format(jpgfile[ii], url)\n",
    "            print(cmd)\n",
    "            os.system(cmd)\n",
    "            time.sleep(1)\n",
    "    cmd = 'montage -bordercolor white -borderwidth 1 -tile 3x1 -geometry +0+0 '\n",
    "    cmd = cmd+' '.join(ff for ff in jpgfile)\n",
    "    cmd = cmd+' {}'.format(montagefile)\n",
    "    print(cmd)\n",
    "    os.system(cmd)    "
   ]
  },
  {
   "cell_type": "code",
   "execution_count": null,
   "metadata": {},
   "outputs": [],
   "source": []
  }
 ],
 "metadata": {
  "kernelspec": {
   "display_name": "legacypipe master",
   "language": "python",
   "name": "legacypipe-master"
  },
  "language_info": {
   "codemirror_mode": {
    "name": "ipython",
    "version": 3
   },
   "file_extension": ".py",
   "mimetype": "text/x-python",
   "name": "python",
   "nbconvert_exporter": "python",
   "pygments_lexer": "ipython3",
   "version": "3.6.6"
  }
 },
 "nbformat": 4,
 "nbformat_minor": 2
}
